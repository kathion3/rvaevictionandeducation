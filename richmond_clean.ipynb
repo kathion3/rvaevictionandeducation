{
 "cells": [
  {
   "cell_type": "code",
   "execution_count": 67,
   "id": "35c7fd8f",
   "metadata": {},
   "outputs": [],
   "source": [
    "#!pip install fontawesomefree\n",
    "\n",
    "# Then reinstall pywaffle\n",
    "#!pip install --force-reinstall --no-deps pywaffle\n",
    "\n",
    "import plotly.graph_objects as go\n",
    "import pandas as pd\n",
    "import plotly.express as px\n",
    "import folium\n",
    "import geopandas\n",
    "import matplotlib.pyplot as plt\n",
    "from IPython.display import display\n",
    "from pywaffle import Waffle\n",
    "import numpy as np"
   ]
  },
  {
   "cell_type": "code",
   "execution_count": 68,
   "id": "80659acc",
   "metadata": {},
   "outputs": [],
   "source": [
    "schools_accr = pd.read_csv('richmond_schools_accredit.csv')"
   ]
  },
  {
   "cell_type": "code",
   "execution_count": 69,
   "id": "1fc35eb2",
   "metadata": {},
   "outputs": [],
   "source": [
    "evic_zipcode = pd.read_csv('richmond_evic_zipcode_2022.csv')"
   ]
  },
  {
   "cell_type": "code",
   "execution_count": 70,
   "id": "8fece23a",
   "metadata": {},
   "outputs": [],
   "source": [
    "evic_zip_rate = pd.read_csv('union.csv')"
   ]
  },
  {
   "cell_type": "code",
   "execution_count": 71,
   "id": "5d7f8c1d",
   "metadata": {},
   "outputs": [],
   "source": [
    "schools_accr.drop(schools_accr.index[schools_accr['school_type'] == 'Combined 6-12'], inplace=True)\n",
    "schools_accr.drop(schools_accr.index[schools_accr['school_type'] == 'Combined K-12'], inplace=True)"
   ]
  },
  {
   "cell_type": "code",
   "execution_count": 72,
   "id": "91ecc515",
   "metadata": {},
   "outputs": [],
   "source": [
    "schools_accr['zip'] = schools_accr['address'].str.extract(r'(\\d{5}\\-?\\d{0,4})')"
   ]
  },
  {
   "cell_type": "code",
   "execution_count": 73,
   "id": "1894d565",
   "metadata": {},
   "outputs": [],
   "source": [
    "schools_accr['zip'] = schools_accr['zip'].apply(lambda x: x[0:5])\n"
   ]
  },
  {
   "cell_type": "code",
   "execution_count": 74,
   "id": "e05146d7",
   "metadata": {},
   "outputs": [],
   "source": [
    "#change zipcode to str in evic_rate dataframe\n",
    "evic_zip_rate.Id = evic_zip_rate.Id.astype(str)\n",
    "evic_zip_rate['Id'] = evic_zip_rate['Id'].apply(lambda x: x[0:-2])\n",
    "evic_zip_rate.rename(columns = {'Id':'zip'}, inplace = True)"
   ]
  },
  {
   "cell_type": "code",
   "execution_count": 75,
   "id": "764b84f4",
   "metadata": {},
   "outputs": [
    {
     "data": {
      "text/plain": [
       "str"
      ]
     },
     "execution_count": 75,
     "metadata": {},
     "output_type": "execute_result"
    }
   ],
   "source": [
    "type(schools_accr['zip'][1])"
   ]
  },
  {
   "cell_type": "code",
   "execution_count": 76,
   "id": "af5f22b9",
   "metadata": {},
   "outputs": [],
   "source": [
    "evic_ed = pd.merge(schools_accr, evic_zip_rate, on = 'zip', how='inner')"
   ]
  },
  {
   "cell_type": "code",
   "execution_count": 77,
   "id": "8cc57144",
   "metadata": {},
   "outputs": [],
   "source": [
    "evic_ed.to_csv('evic_ed.csv')\n"
   ]
  },
  {
   "cell_type": "code",
   "execution_count": 78,
   "id": "adae1872",
   "metadata": {},
   "outputs": [],
   "source": [
    "evic_ed['nonwhite'] = 100-evic_ed['white']"
   ]
  },
  {
   "cell_type": "code",
   "execution_count": 79,
   "id": "4ebb707a",
   "metadata": {},
   "outputs": [],
   "source": [
    "evic_ed['school_type'] = evic_ed['school_type'].map({'Elementary': 'Elementary Schools', 'Middle': 'Middle Schools','High':'High Schools'})\n"
   ]
  },
  {
   "cell_type": "code",
   "execution_count": 80,
   "id": "81445650",
   "metadata": {},
   "outputs": [],
   "source": [
    "evic_ed['accred'] = evic_ed['accred'].map({'Accredited': 'Fully Accredited', 'Accredited with Conditions':'Accredited with Conditions'})\n"
   ]
  },
  {
   "cell_type": "code",
   "execution_count": 81,
   "id": "e89d09f0",
   "metadata": {},
   "outputs": [
    {
     "data": {
      "text/html": [
       "<div>\n",
       "<style scoped>\n",
       "    .dataframe tbody tr th:only-of-type {\n",
       "        vertical-align: middle;\n",
       "    }\n",
       "\n",
       "    .dataframe tbody tr th {\n",
       "        vertical-align: top;\n",
       "    }\n",
       "\n",
       "    .dataframe thead th {\n",
       "        text-align: right;\n",
       "    }\n",
       "</style>\n",
       "<table border=\"1\" class=\"dataframe\">\n",
       "  <thead>\n",
       "    <tr style=\"text-align: right;\">\n",
       "      <th></th>\n",
       "      <th>school</th>\n",
       "      <th>accred</th>\n",
       "      <th>school_type</th>\n",
       "      <th>address</th>\n",
       "      <th>latitude</th>\n",
       "      <th>longitude</th>\n",
       "      <th>eng_acad_ach</th>\n",
       "      <th>math_acad_ach</th>\n",
       "      <th>sci_acad_ach</th>\n",
       "      <th>eng_ach_gap</th>\n",
       "      <th>...</th>\n",
       "      <th>grad_rate</th>\n",
       "      <th>econ_disadv</th>\n",
       "      <th>disabilities</th>\n",
       "      <th>black</th>\n",
       "      <th>hispanic</th>\n",
       "      <th>white</th>\n",
       "      <th>eng_learners</th>\n",
       "      <th>grad_rate.1</th>\n",
       "      <th>dropout_rate.1</th>\n",
       "      <th>zip</th>\n",
       "    </tr>\n",
       "  </thead>\n",
       "  <tbody>\n",
       "    <tr>\n",
       "      <th>0</th>\n",
       "      <td>Barack Obama Elementary</td>\n",
       "      <td>Accredited</td>\n",
       "      <td>Elementary</td>\n",
       "      <td>3101 Fendall Ave Richmond, VA 23222-2699</td>\n",
       "      <td>37.57376</td>\n",
       "      <td>-77.43577</td>\n",
       "      <td>1</td>\n",
       "      <td>1</td>\n",
       "      <td>1.0</td>\n",
       "      <td>2.0</td>\n",
       "      <td>...</td>\n",
       "      <td>NaN</td>\n",
       "      <td>NaN</td>\n",
       "      <td>NaN</td>\n",
       "      <td>NaN</td>\n",
       "      <td>NaN</td>\n",
       "      <td>NaN</td>\n",
       "      <td>NaN</td>\n",
       "      <td>NaN</td>\n",
       "      <td>NaN</td>\n",
       "      <td>23222</td>\n",
       "    </tr>\n",
       "    <tr>\n",
       "      <th>1</th>\n",
       "      <td>Bellevue Elementary</td>\n",
       "      <td>Accredited with Conditions</td>\n",
       "      <td>Elementary</td>\n",
       "      <td>2301 E Grace St Richmond, VA 23223-7151</td>\n",
       "      <td>37.53117</td>\n",
       "      <td>-77.42140</td>\n",
       "      <td>1</td>\n",
       "      <td>2</td>\n",
       "      <td>3.0</td>\n",
       "      <td>1.0</td>\n",
       "      <td>...</td>\n",
       "      <td>NaN</td>\n",
       "      <td>NaN</td>\n",
       "      <td>NaN</td>\n",
       "      <td>NaN</td>\n",
       "      <td>NaN</td>\n",
       "      <td>NaN</td>\n",
       "      <td>NaN</td>\n",
       "      <td>NaN</td>\n",
       "      <td>NaN</td>\n",
       "      <td>23223</td>\n",
       "    </tr>\n",
       "    <tr>\n",
       "      <th>2</th>\n",
       "      <td>Blackwell Elementary</td>\n",
       "      <td>Accredited with Conditions</td>\n",
       "      <td>Elementary</td>\n",
       "      <td>1600 Everett St Richmond, VA 23224-3896</td>\n",
       "      <td>37.51555</td>\n",
       "      <td>-77.44500</td>\n",
       "      <td>3</td>\n",
       "      <td>3</td>\n",
       "      <td>3.0</td>\n",
       "      <td>3.0</td>\n",
       "      <td>...</td>\n",
       "      <td>NaN</td>\n",
       "      <td>85.5</td>\n",
       "      <td>12.7</td>\n",
       "      <td>85.5</td>\n",
       "      <td>9.7</td>\n",
       "      <td>1.8</td>\n",
       "      <td>NaN</td>\n",
       "      <td>NaN</td>\n",
       "      <td>NaN</td>\n",
       "      <td>23224</td>\n",
       "    </tr>\n",
       "    <tr>\n",
       "      <th>3</th>\n",
       "      <td>Broad Rock Elementary</td>\n",
       "      <td>Accredited</td>\n",
       "      <td>Elementary</td>\n",
       "      <td>4615 Ferguson Ln Richmond, VA 23234-1999</td>\n",
       "      <td>37.47639</td>\n",
       "      <td>-77.47869</td>\n",
       "      <td>1</td>\n",
       "      <td>1</td>\n",
       "      <td>3.0</td>\n",
       "      <td>1.0</td>\n",
       "      <td>...</td>\n",
       "      <td>NaN</td>\n",
       "      <td>74.4</td>\n",
       "      <td>10.1</td>\n",
       "      <td>46.2</td>\n",
       "      <td>50.0</td>\n",
       "      <td>2.4</td>\n",
       "      <td>NaN</td>\n",
       "      <td>NaN</td>\n",
       "      <td>NaN</td>\n",
       "      <td>23234</td>\n",
       "    </tr>\n",
       "    <tr>\n",
       "      <th>4</th>\n",
       "      <td>Cardinal Elementary</td>\n",
       "      <td>Accredited with Conditions</td>\n",
       "      <td>Elementary</td>\n",
       "      <td>1745 Catalina Dr Richmond, VA 23224-4899</td>\n",
       "      <td>37.49033</td>\n",
       "      <td>-77.47651</td>\n",
       "      <td>1</td>\n",
       "      <td>1</td>\n",
       "      <td>3.0</td>\n",
       "      <td>1.0</td>\n",
       "      <td>...</td>\n",
       "      <td>NaN</td>\n",
       "      <td>53.8</td>\n",
       "      <td>5.5</td>\n",
       "      <td>13.2</td>\n",
       "      <td>84.2</td>\n",
       "      <td>1.6</td>\n",
       "      <td>NaN</td>\n",
       "      <td>NaN</td>\n",
       "      <td>NaN</td>\n",
       "      <td>23224</td>\n",
       "    </tr>\n",
       "  </tbody>\n",
       "</table>\n",
       "<p>5 rows × 23 columns</p>\n",
       "</div>"
      ],
      "text/plain": [
       "                    school                      accred school_type  \\\n",
       "0  Barack Obama Elementary                  Accredited  Elementary   \n",
       "1      Bellevue Elementary  Accredited with Conditions  Elementary   \n",
       "2     Blackwell Elementary  Accredited with Conditions  Elementary   \n",
       "3    Broad Rock Elementary                  Accredited  Elementary   \n",
       "4      Cardinal Elementary  Accredited with Conditions  Elementary   \n",
       "\n",
       "                                    address  latitude  longitude  \\\n",
       "0  3101 Fendall Ave Richmond, VA 23222-2699  37.57376  -77.43577   \n",
       "1   2301 E Grace St Richmond, VA 23223-7151  37.53117  -77.42140   \n",
       "2   1600 Everett St Richmond, VA 23224-3896  37.51555  -77.44500   \n",
       "3  4615 Ferguson Ln Richmond, VA 23234-1999  37.47639  -77.47869   \n",
       "4  1745 Catalina Dr Richmond, VA 23224-4899  37.49033  -77.47651   \n",
       "\n",
       "   eng_acad_ach  math_acad_ach  sci_acad_ach  eng_ach_gap  ...  grad_rate  \\\n",
       "0             1              1           1.0          2.0  ...        NaN   \n",
       "1             1              2           3.0          1.0  ...        NaN   \n",
       "2             3              3           3.0          3.0  ...        NaN   \n",
       "3             1              1           3.0          1.0  ...        NaN   \n",
       "4             1              1           3.0          1.0  ...        NaN   \n",
       "\n",
       "   econ_disadv  disabilities  black  hispanic  white  eng_learners  \\\n",
       "0          NaN           NaN    NaN       NaN    NaN           NaN   \n",
       "1          NaN           NaN    NaN       NaN    NaN           NaN   \n",
       "2         85.5          12.7   85.5       9.7    1.8           NaN   \n",
       "3         74.4          10.1   46.2      50.0    2.4           NaN   \n",
       "4         53.8           5.5   13.2      84.2    1.6           NaN   \n",
       "\n",
       "   grad_rate.1  dropout_rate.1    zip  \n",
       "0          NaN             NaN  23222  \n",
       "1          NaN             NaN  23223  \n",
       "2          NaN             NaN  23224  \n",
       "3          NaN             NaN  23234  \n",
       "4          NaN             NaN  23224  \n",
       "\n",
       "[5 rows x 23 columns]"
      ]
     },
     "execution_count": 81,
     "metadata": {},
     "output_type": "execute_result"
    }
   ],
   "source": [
    "dropped_nulls = schools_accr.dropna(subset = ['eng_ach_gap'], how='any',axis=0) \n",
    "dropped_nulls.head()"
   ]
  },
  {
   "cell_type": "code",
   "execution_count": 82,
   "id": "ca316ab8",
   "metadata": {},
   "outputs": [
    {
     "name": "stderr",
     "output_type": "stream",
     "text": [
      "<ipython-input-82-10a1d10626c2>:10: SettingWithCopyWarning:\n",
      "\n",
      "\n",
      "A value is trying to be set on a copy of a slice from a DataFrame.\n",
      "Try using .loc[row_indexer,col_indexer] = value instead\n",
      "\n",
      "See the caveats in the documentation: https://pandas.pydata.org/pandas-docs/stable/user_guide/indexing.html#returning-a-view-versus-a-copy\n",
      "\n"
     ]
    }
   ],
   "source": [
    "accred_dicot = []\n",
    "count = 0\n",
    "for i in dropped_nulls['accred']:\n",
    "    if i == 'Accredited':\n",
    "        accred_dicot.append(0)\n",
    "    elif i == 'Accredited with Conditions':\n",
    "        accred_dicot.append(.5)\n",
    "    else:\n",
    "        accred_dicot.append(1)\n",
    "dropped_nulls['accred_dicot'] = accred_dicot"
   ]
  },
  {
   "cell_type": "code",
   "execution_count": 83,
   "id": "089ba192",
   "metadata": {},
   "outputs": [
    {
     "data": {
      "application/vnd.plotly.v1+json": {
       "config": {
        "plotlyServerURL": "https://plot.ly"
       },
       "data": [
        {
         "dimensions": [
          {
           "categoryarray": [
            "Accredited",
            "Accredited with Conditions"
           ],
           "categoryorder": "array",
           "label": "Accreditation",
           "ticktext": [
            "Accredited",
            "Accredited<br>with Conditions"
           ],
           "values": [
            "Accredited",
            "Accredited with Conditions",
            "Accredited with Conditions",
            "Accredited",
            "Accredited with Conditions",
            "Accredited with Conditions",
            "Accredited",
            "Accredited",
            "Accredited with Conditions",
            "Accredited with Conditions",
            "Accredited with Conditions",
            "Accredited with Conditions",
            "Accredited",
            "Accredited",
            "Accredited",
            "Accredited",
            "Accredited",
            "Accredited with Conditions",
            "Accredited with Conditions",
            "Accredited with Conditions",
            "Accredited",
            "Accredited",
            "Accredited with Conditions",
            "Accredited with Conditions",
            "Accredited",
            "Accredited with Conditions",
            "Accredited with Conditions",
            "Accredited with Conditions",
            "Accredited with Conditions",
            "Accredited with Conditions",
            "Accredited with Conditions",
            "Accredited with Conditions",
            "Accredited with Conditions",
            "Accredited with Conditions",
            "Accredited with Conditions",
            "Accredited with Conditions",
            "Accredited with Conditions",
            "Accredited",
            "Accredited",
            "Accredited with Conditions"
           ]
          },
          {
           "categoryarray": [
            "1",
            "2",
            "3"
           ],
           "categoryorder": "array",
           "label": "English Achievement Gap",
           "ticktext": [
            "Level<br>One",
            "Level<br>Two",
            "Level<br>Three"
           ],
           "values": [
            2,
            1,
            3,
            1,
            1,
            2,
            1,
            2,
            2,
            3,
            2,
            3,
            1,
            2,
            1,
            1,
            1,
            2,
            2,
            1,
            1,
            2,
            2,
            2,
            2,
            2,
            3,
            3,
            3,
            3,
            3,
            3,
            3,
            3,
            3,
            3,
            2,
            1,
            1,
            2
           ]
          },
          {
           "categoryarray": [
            "1",
            "2",
            "3"
           ],
           "categoryorder": "array",
           "label": "Math Achievement Gap",
           "ticktext": [
            "Level<br>One",
            "Level<br>Two",
            "Level<br>Three"
           ],
           "values": [
            1,
            3,
            3,
            1,
            2,
            2,
            1,
            1,
            1,
            3,
            2,
            3,
            1,
            1,
            1,
            3,
            1,
            3,
            2,
            2,
            2,
            2,
            3,
            2,
            2,
            3,
            3,
            3,
            3,
            3,
            3,
            3,
            3,
            3,
            3,
            2,
            2,
            1,
            1,
            3
           ]
          },
          {
           "categoryarray": [
            "1",
            "2",
            "3"
           ],
           "categoryorder": "array",
           "label": "Chronic Absenteeism",
           "ticktext": [
            "Level<br>One",
            "Level<br>Two",
            "Level<br>Three"
           ],
           "values": [
            1,
            2,
            2,
            1,
            1,
            2,
            1,
            3,
            1,
            2,
            1,
            2,
            1,
            2,
            1,
            1,
            1,
            1,
            3,
            2,
            1,
            2,
            2,
            2,
            1,
            3,
            2,
            1,
            2,
            3,
            3,
            2,
            2,
            3,
            3,
            3,
            1,
            1,
            1,
            2
           ]
          },
          {
           "label": "School Level",
           "values": [
            "Elementary",
            "Elementary",
            "Elementary",
            "Elementary",
            "Elementary",
            "Elementary",
            "Elementary",
            "Elementary",
            "Elementary",
            "Elementary",
            "Elementary",
            "Elementary",
            "Elementary",
            "Elementary",
            "Elementary",
            "Elementary",
            "Elementary",
            "Elementary",
            "Elementary",
            "Elementary",
            "Elementary",
            "Elementary",
            "Elementary",
            "Elementary",
            "Elementary",
            "Elementary",
            "Middle",
            "Middle",
            "Middle",
            "Middle",
            "Middle",
            "Middle",
            "Middle",
            "High",
            "High",
            "High",
            "High",
            "High",
            "High",
            "High"
           ]
          }
         ],
         "hoverinfo": "count",
         "labelfont": {
          "family": "Arial",
          "size": 16
         },
         "line": {
          "color": [
           0,
           0.5,
           0.5,
           0,
           0.5,
           0.5,
           0,
           0,
           0.5,
           0.5,
           0.5,
           0.5,
           0,
           0,
           0,
           0,
           0,
           0.5,
           0.5,
           0.5,
           0,
           0,
           0.5,
           0.5,
           0,
           0.5,
           0.5,
           0.5,
           0.5,
           0.5,
           0.5,
           0.5,
           0.5,
           0.5,
           0.5,
           0.5,
           0.5,
           0,
           0,
           0.5
          ],
          "colorscale": [
           [
            0,
            "gray"
           ],
           [
            0.5,
            "royalblue"
           ],
           [
            1,
            "rgb(203,76,78)"
           ]
          ],
          "shape": "hspline"
         },
         "tickfont": {
          "family": "Arial",
          "size": 12
         },
         "type": "parcats"
        }
       ],
       "layout": {
        "height": 700,
        "template": {
         "data": {
          "bar": [
           {
            "error_x": {
             "color": "#2a3f5f"
            },
            "error_y": {
             "color": "#2a3f5f"
            },
            "marker": {
             "line": {
              "color": "#E5ECF6",
              "width": 0.5
             },
             "pattern": {
              "fillmode": "overlay",
              "size": 10,
              "solidity": 0.2
             }
            },
            "type": "bar"
           }
          ],
          "barpolar": [
           {
            "marker": {
             "line": {
              "color": "#E5ECF6",
              "width": 0.5
             },
             "pattern": {
              "fillmode": "overlay",
              "size": 10,
              "solidity": 0.2
             }
            },
            "type": "barpolar"
           }
          ],
          "carpet": [
           {
            "aaxis": {
             "endlinecolor": "#2a3f5f",
             "gridcolor": "white",
             "linecolor": "white",
             "minorgridcolor": "white",
             "startlinecolor": "#2a3f5f"
            },
            "baxis": {
             "endlinecolor": "#2a3f5f",
             "gridcolor": "white",
             "linecolor": "white",
             "minorgridcolor": "white",
             "startlinecolor": "#2a3f5f"
            },
            "type": "carpet"
           }
          ],
          "choropleth": [
           {
            "colorbar": {
             "outlinewidth": 0,
             "ticks": ""
            },
            "type": "choropleth"
           }
          ],
          "contour": [
           {
            "colorbar": {
             "outlinewidth": 0,
             "ticks": ""
            },
            "colorscale": [
             [
              0,
              "#0d0887"
             ],
             [
              0.1111111111111111,
              "#46039f"
             ],
             [
              0.2222222222222222,
              "#7201a8"
             ],
             [
              0.3333333333333333,
              "#9c179e"
             ],
             [
              0.4444444444444444,
              "#bd3786"
             ],
             [
              0.5555555555555556,
              "#d8576b"
             ],
             [
              0.6666666666666666,
              "#ed7953"
             ],
             [
              0.7777777777777778,
              "#fb9f3a"
             ],
             [
              0.8888888888888888,
              "#fdca26"
             ],
             [
              1,
              "#f0f921"
             ]
            ],
            "type": "contour"
           }
          ],
          "contourcarpet": [
           {
            "colorbar": {
             "outlinewidth": 0,
             "ticks": ""
            },
            "type": "contourcarpet"
           }
          ],
          "heatmap": [
           {
            "colorbar": {
             "outlinewidth": 0,
             "ticks": ""
            },
            "colorscale": [
             [
              0,
              "#0d0887"
             ],
             [
              0.1111111111111111,
              "#46039f"
             ],
             [
              0.2222222222222222,
              "#7201a8"
             ],
             [
              0.3333333333333333,
              "#9c179e"
             ],
             [
              0.4444444444444444,
              "#bd3786"
             ],
             [
              0.5555555555555556,
              "#d8576b"
             ],
             [
              0.6666666666666666,
              "#ed7953"
             ],
             [
              0.7777777777777778,
              "#fb9f3a"
             ],
             [
              0.8888888888888888,
              "#fdca26"
             ],
             [
              1,
              "#f0f921"
             ]
            ],
            "type": "heatmap"
           }
          ],
          "heatmapgl": [
           {
            "colorbar": {
             "outlinewidth": 0,
             "ticks": ""
            },
            "colorscale": [
             [
              0,
              "#0d0887"
             ],
             [
              0.1111111111111111,
              "#46039f"
             ],
             [
              0.2222222222222222,
              "#7201a8"
             ],
             [
              0.3333333333333333,
              "#9c179e"
             ],
             [
              0.4444444444444444,
              "#bd3786"
             ],
             [
              0.5555555555555556,
              "#d8576b"
             ],
             [
              0.6666666666666666,
              "#ed7953"
             ],
             [
              0.7777777777777778,
              "#fb9f3a"
             ],
             [
              0.8888888888888888,
              "#fdca26"
             ],
             [
              1,
              "#f0f921"
             ]
            ],
            "type": "heatmapgl"
           }
          ],
          "histogram": [
           {
            "marker": {
             "pattern": {
              "fillmode": "overlay",
              "size": 10,
              "solidity": 0.2
             }
            },
            "type": "histogram"
           }
          ],
          "histogram2d": [
           {
            "colorbar": {
             "outlinewidth": 0,
             "ticks": ""
            },
            "colorscale": [
             [
              0,
              "#0d0887"
             ],
             [
              0.1111111111111111,
              "#46039f"
             ],
             [
              0.2222222222222222,
              "#7201a8"
             ],
             [
              0.3333333333333333,
              "#9c179e"
             ],
             [
              0.4444444444444444,
              "#bd3786"
             ],
             [
              0.5555555555555556,
              "#d8576b"
             ],
             [
              0.6666666666666666,
              "#ed7953"
             ],
             [
              0.7777777777777778,
              "#fb9f3a"
             ],
             [
              0.8888888888888888,
              "#fdca26"
             ],
             [
              1,
              "#f0f921"
             ]
            ],
            "type": "histogram2d"
           }
          ],
          "histogram2dcontour": [
           {
            "colorbar": {
             "outlinewidth": 0,
             "ticks": ""
            },
            "colorscale": [
             [
              0,
              "#0d0887"
             ],
             [
              0.1111111111111111,
              "#46039f"
             ],
             [
              0.2222222222222222,
              "#7201a8"
             ],
             [
              0.3333333333333333,
              "#9c179e"
             ],
             [
              0.4444444444444444,
              "#bd3786"
             ],
             [
              0.5555555555555556,
              "#d8576b"
             ],
             [
              0.6666666666666666,
              "#ed7953"
             ],
             [
              0.7777777777777778,
              "#fb9f3a"
             ],
             [
              0.8888888888888888,
              "#fdca26"
             ],
             [
              1,
              "#f0f921"
             ]
            ],
            "type": "histogram2dcontour"
           }
          ],
          "mesh3d": [
           {
            "colorbar": {
             "outlinewidth": 0,
             "ticks": ""
            },
            "type": "mesh3d"
           }
          ],
          "parcoords": [
           {
            "line": {
             "colorbar": {
              "outlinewidth": 0,
              "ticks": ""
             }
            },
            "type": "parcoords"
           }
          ],
          "pie": [
           {
            "automargin": true,
            "type": "pie"
           }
          ],
          "scatter": [
           {
            "fillpattern": {
             "fillmode": "overlay",
             "size": 10,
             "solidity": 0.2
            },
            "type": "scatter"
           }
          ],
          "scatter3d": [
           {
            "line": {
             "colorbar": {
              "outlinewidth": 0,
              "ticks": ""
             }
            },
            "marker": {
             "colorbar": {
              "outlinewidth": 0,
              "ticks": ""
             }
            },
            "type": "scatter3d"
           }
          ],
          "scattercarpet": [
           {
            "marker": {
             "colorbar": {
              "outlinewidth": 0,
              "ticks": ""
             }
            },
            "type": "scattercarpet"
           }
          ],
          "scattergeo": [
           {
            "marker": {
             "colorbar": {
              "outlinewidth": 0,
              "ticks": ""
             }
            },
            "type": "scattergeo"
           }
          ],
          "scattergl": [
           {
            "marker": {
             "colorbar": {
              "outlinewidth": 0,
              "ticks": ""
             }
            },
            "type": "scattergl"
           }
          ],
          "scattermapbox": [
           {
            "marker": {
             "colorbar": {
              "outlinewidth": 0,
              "ticks": ""
             }
            },
            "type": "scattermapbox"
           }
          ],
          "scatterpolar": [
           {
            "marker": {
             "colorbar": {
              "outlinewidth": 0,
              "ticks": ""
             }
            },
            "type": "scatterpolar"
           }
          ],
          "scatterpolargl": [
           {
            "marker": {
             "colorbar": {
              "outlinewidth": 0,
              "ticks": ""
             }
            },
            "type": "scatterpolargl"
           }
          ],
          "scatterternary": [
           {
            "marker": {
             "colorbar": {
              "outlinewidth": 0,
              "ticks": ""
             }
            },
            "type": "scatterternary"
           }
          ],
          "surface": [
           {
            "colorbar": {
             "outlinewidth": 0,
             "ticks": ""
            },
            "colorscale": [
             [
              0,
              "#0d0887"
             ],
             [
              0.1111111111111111,
              "#46039f"
             ],
             [
              0.2222222222222222,
              "#7201a8"
             ],
             [
              0.3333333333333333,
              "#9c179e"
             ],
             [
              0.4444444444444444,
              "#bd3786"
             ],
             [
              0.5555555555555556,
              "#d8576b"
             ],
             [
              0.6666666666666666,
              "#ed7953"
             ],
             [
              0.7777777777777778,
              "#fb9f3a"
             ],
             [
              0.8888888888888888,
              "#fdca26"
             ],
             [
              1,
              "#f0f921"
             ]
            ],
            "type": "surface"
           }
          ],
          "table": [
           {
            "cells": {
             "fill": {
              "color": "#EBF0F8"
             },
             "line": {
              "color": "white"
             }
            },
            "header": {
             "fill": {
              "color": "#C8D4E3"
             },
             "line": {
              "color": "white"
             }
            },
            "type": "table"
           }
          ]
         },
         "layout": {
          "annotationdefaults": {
           "arrowcolor": "#2a3f5f",
           "arrowhead": 0,
           "arrowwidth": 1
          },
          "autotypenumbers": "strict",
          "coloraxis": {
           "colorbar": {
            "outlinewidth": 0,
            "ticks": ""
           }
          },
          "colorscale": {
           "diverging": [
            [
             0,
             "#8e0152"
            ],
            [
             0.1,
             "#c51b7d"
            ],
            [
             0.2,
             "#de77ae"
            ],
            [
             0.3,
             "#f1b6da"
            ],
            [
             0.4,
             "#fde0ef"
            ],
            [
             0.5,
             "#f7f7f7"
            ],
            [
             0.6,
             "#e6f5d0"
            ],
            [
             0.7,
             "#b8e186"
            ],
            [
             0.8,
             "#7fbc41"
            ],
            [
             0.9,
             "#4d9221"
            ],
            [
             1,
             "#276419"
            ]
           ],
           "sequential": [
            [
             0,
             "#0d0887"
            ],
            [
             0.1111111111111111,
             "#46039f"
            ],
            [
             0.2222222222222222,
             "#7201a8"
            ],
            [
             0.3333333333333333,
             "#9c179e"
            ],
            [
             0.4444444444444444,
             "#bd3786"
            ],
            [
             0.5555555555555556,
             "#d8576b"
            ],
            [
             0.6666666666666666,
             "#ed7953"
            ],
            [
             0.7777777777777778,
             "#fb9f3a"
            ],
            [
             0.8888888888888888,
             "#fdca26"
            ],
            [
             1,
             "#f0f921"
            ]
           ],
           "sequentialminus": [
            [
             0,
             "#0d0887"
            ],
            [
             0.1111111111111111,
             "#46039f"
            ],
            [
             0.2222222222222222,
             "#7201a8"
            ],
            [
             0.3333333333333333,
             "#9c179e"
            ],
            [
             0.4444444444444444,
             "#bd3786"
            ],
            [
             0.5555555555555556,
             "#d8576b"
            ],
            [
             0.6666666666666666,
             "#ed7953"
            ],
            [
             0.7777777777777778,
             "#fb9f3a"
            ],
            [
             0.8888888888888888,
             "#fdca26"
            ],
            [
             1,
             "#f0f921"
            ]
           ]
          },
          "colorway": [
           "#636efa",
           "#EF553B",
           "#00cc96",
           "#ab63fa",
           "#FFA15A",
           "#19d3f3",
           "#FF6692",
           "#B6E880",
           "#FF97FF",
           "#FECB52"
          ],
          "font": {
           "color": "#2a3f5f"
          },
          "geo": {
           "bgcolor": "white",
           "lakecolor": "white",
           "landcolor": "#E5ECF6",
           "showlakes": true,
           "showland": true,
           "subunitcolor": "white"
          },
          "hoverlabel": {
           "align": "left"
          },
          "hovermode": "closest",
          "mapbox": {
           "style": "light"
          },
          "paper_bgcolor": "white",
          "plot_bgcolor": "#E5ECF6",
          "polar": {
           "angularaxis": {
            "gridcolor": "white",
            "linecolor": "white",
            "ticks": ""
           },
           "bgcolor": "#E5ECF6",
           "radialaxis": {
            "gridcolor": "white",
            "linecolor": "white",
            "ticks": ""
           }
          },
          "scene": {
           "xaxis": {
            "backgroundcolor": "#E5ECF6",
            "gridcolor": "white",
            "gridwidth": 2,
            "linecolor": "white",
            "showbackground": true,
            "ticks": "",
            "zerolinecolor": "white"
           },
           "yaxis": {
            "backgroundcolor": "#E5ECF6",
            "gridcolor": "white",
            "gridwidth": 2,
            "linecolor": "white",
            "showbackground": true,
            "ticks": "",
            "zerolinecolor": "white"
           },
           "zaxis": {
            "backgroundcolor": "#E5ECF6",
            "gridcolor": "white",
            "gridwidth": 2,
            "linecolor": "white",
            "showbackground": true,
            "ticks": "",
            "zerolinecolor": "white"
           }
          },
          "shapedefaults": {
           "line": {
            "color": "#2a3f5f"
           }
          },
          "ternary": {
           "aaxis": {
            "gridcolor": "white",
            "linecolor": "white",
            "ticks": ""
           },
           "baxis": {
            "gridcolor": "white",
            "linecolor": "white",
            "ticks": ""
           },
           "bgcolor": "#E5ECF6",
           "caxis": {
            "gridcolor": "white",
            "linecolor": "white",
            "ticks": ""
           }
          },
          "title": {
           "x": 0.05
          },
          "xaxis": {
           "automargin": true,
           "gridcolor": "white",
           "linecolor": "white",
           "ticks": "",
           "title": {
            "standoff": 15
           },
           "zerolinecolor": "white",
           "zerolinewidth": 2
          },
          "yaxis": {
           "automargin": true,
           "gridcolor": "white",
           "linecolor": "white",
           "ticks": "",
           "title": {
            "standoff": 15
           },
           "zerolinecolor": "white",
           "zerolinewidth": 2
          }
         }
        },
        "title": {
         "text": "Richmond Schools Accreditation",
         "x": 0.5
        },
        "width": 1000
       }
      },
      "text/html": [
       "<div>                            <div id=\"b6ebd04f-4caa-458e-a7d5-4478993b9257\" class=\"plotly-graph-div\" style=\"height:700px; width:1000px;\"></div>            <script type=\"text/javascript\">                require([\"plotly\"], function(Plotly) {                    window.PLOTLYENV=window.PLOTLYENV || {};                                    if (document.getElementById(\"b6ebd04f-4caa-458e-a7d5-4478993b9257\")) {                    Plotly.newPlot(                        \"b6ebd04f-4caa-458e-a7d5-4478993b9257\",                        [{\"dimensions\":[{\"categoryarray\":[\"Accredited\",\"Accredited with Conditions\"],\"categoryorder\":\"array\",\"label\":\"Accreditation\",\"ticktext\":[\"Accredited\",\"Accredited<br>with Conditions\"],\"values\":[\"Accredited\",\"Accredited with Conditions\",\"Accredited with Conditions\",\"Accredited\",\"Accredited with Conditions\",\"Accredited with Conditions\",\"Accredited\",\"Accredited\",\"Accredited with Conditions\",\"Accredited with Conditions\",\"Accredited with Conditions\",\"Accredited with Conditions\",\"Accredited\",\"Accredited\",\"Accredited\",\"Accredited\",\"Accredited\",\"Accredited with Conditions\",\"Accredited with Conditions\",\"Accredited with Conditions\",\"Accredited\",\"Accredited\",\"Accredited with Conditions\",\"Accredited with Conditions\",\"Accredited\",\"Accredited with Conditions\",\"Accredited with Conditions\",\"Accredited with Conditions\",\"Accredited with Conditions\",\"Accredited with Conditions\",\"Accredited with Conditions\",\"Accredited with Conditions\",\"Accredited with Conditions\",\"Accredited with Conditions\",\"Accredited with Conditions\",\"Accredited with Conditions\",\"Accredited with Conditions\",\"Accredited\",\"Accredited\",\"Accredited with Conditions\"]},{\"categoryarray\":[\"1\",\"2\",\"3\"],\"categoryorder\":\"array\",\"label\":\"English Achievement Gap\",\"ticktext\":[\"Level<br>One\",\"Level<br>Two\",\"Level<br>Three\"],\"values\":[2.0,1.0,3.0,1.0,1.0,2.0,1.0,2.0,2.0,3.0,2.0,3.0,1.0,2.0,1.0,1.0,1.0,2.0,2.0,1.0,1.0,2.0,2.0,2.0,2.0,2.0,3.0,3.0,3.0,3.0,3.0,3.0,3.0,3.0,3.0,3.0,2.0,1.0,1.0,2.0]},{\"categoryarray\":[\"1\",\"2\",\"3\"],\"categoryorder\":\"array\",\"label\":\"Math Achievement Gap\",\"ticktext\":[\"Level<br>One\",\"Level<br>Two\",\"Level<br>Three\"],\"values\":[1,3,3,1,2,2,1,1,1,3,2,3,1,1,1,3,1,3,2,2,2,2,3,2,2,3,3,3,3,3,3,3,3,3,3,2,2,1,1,3]},{\"categoryarray\":[\"1\",\"2\",\"3\"],\"categoryorder\":\"array\",\"label\":\"Chronic Absenteeism\",\"ticktext\":[\"Level<br>One\",\"Level<br>Two\",\"Level<br>Three\"],\"values\":[1,2,2,1,1,2,1,3,1,2,1,2,1,2,1,1,1,1,3,2,1,2,2,2,1,3,2,1,2,3,3,2,2,3,3,3,1,1,1,2]},{\"label\":\"School Level\",\"values\":[\"Elementary\",\"Elementary\",\"Elementary\",\"Elementary\",\"Elementary\",\"Elementary\",\"Elementary\",\"Elementary\",\"Elementary\",\"Elementary\",\"Elementary\",\"Elementary\",\"Elementary\",\"Elementary\",\"Elementary\",\"Elementary\",\"Elementary\",\"Elementary\",\"Elementary\",\"Elementary\",\"Elementary\",\"Elementary\",\"Elementary\",\"Elementary\",\"Elementary\",\"Elementary\",\"Middle\",\"Middle\",\"Middle\",\"Middle\",\"Middle\",\"Middle\",\"Middle\",\"High\",\"High\",\"High\",\"High\",\"High\",\"High\",\"High\"]}],\"hoverinfo\":\"count\",\"labelfont\":{\"family\":\"Arial\",\"size\":16},\"line\":{\"color\":[0.0,0.5,0.5,0.0,0.5,0.5,0.0,0.0,0.5,0.5,0.5,0.5,0.0,0.0,0.0,0.0,0.0,0.5,0.5,0.5,0.0,0.0,0.5,0.5,0.0,0.5,0.5,0.5,0.5,0.5,0.5,0.5,0.5,0.5,0.5,0.5,0.5,0.0,0.0,0.5],\"colorscale\":[[0,\"gray\"],[0.5,\"royalblue\"],[1,\"rgb(203,76,78)\"]],\"shape\":\"hspline\"},\"tickfont\":{\"family\":\"Arial\",\"size\":12},\"type\":\"parcats\"}],                        {\"template\":{\"data\":{\"histogram2dcontour\":[{\"type\":\"histogram2dcontour\",\"colorbar\":{\"outlinewidth\":0,\"ticks\":\"\"},\"colorscale\":[[0.0,\"#0d0887\"],[0.1111111111111111,\"#46039f\"],[0.2222222222222222,\"#7201a8\"],[0.3333333333333333,\"#9c179e\"],[0.4444444444444444,\"#bd3786\"],[0.5555555555555556,\"#d8576b\"],[0.6666666666666666,\"#ed7953\"],[0.7777777777777778,\"#fb9f3a\"],[0.8888888888888888,\"#fdca26\"],[1.0,\"#f0f921\"]]}],\"choropleth\":[{\"type\":\"choropleth\",\"colorbar\":{\"outlinewidth\":0,\"ticks\":\"\"}}],\"histogram2d\":[{\"type\":\"histogram2d\",\"colorbar\":{\"outlinewidth\":0,\"ticks\":\"\"},\"colorscale\":[[0.0,\"#0d0887\"],[0.1111111111111111,\"#46039f\"],[0.2222222222222222,\"#7201a8\"],[0.3333333333333333,\"#9c179e\"],[0.4444444444444444,\"#bd3786\"],[0.5555555555555556,\"#d8576b\"],[0.6666666666666666,\"#ed7953\"],[0.7777777777777778,\"#fb9f3a\"],[0.8888888888888888,\"#fdca26\"],[1.0,\"#f0f921\"]]}],\"heatmap\":[{\"type\":\"heatmap\",\"colorbar\":{\"outlinewidth\":0,\"ticks\":\"\"},\"colorscale\":[[0.0,\"#0d0887\"],[0.1111111111111111,\"#46039f\"],[0.2222222222222222,\"#7201a8\"],[0.3333333333333333,\"#9c179e\"],[0.4444444444444444,\"#bd3786\"],[0.5555555555555556,\"#d8576b\"],[0.6666666666666666,\"#ed7953\"],[0.7777777777777778,\"#fb9f3a\"],[0.8888888888888888,\"#fdca26\"],[1.0,\"#f0f921\"]]}],\"heatmapgl\":[{\"type\":\"heatmapgl\",\"colorbar\":{\"outlinewidth\":0,\"ticks\":\"\"},\"colorscale\":[[0.0,\"#0d0887\"],[0.1111111111111111,\"#46039f\"],[0.2222222222222222,\"#7201a8\"],[0.3333333333333333,\"#9c179e\"],[0.4444444444444444,\"#bd3786\"],[0.5555555555555556,\"#d8576b\"],[0.6666666666666666,\"#ed7953\"],[0.7777777777777778,\"#fb9f3a\"],[0.8888888888888888,\"#fdca26\"],[1.0,\"#f0f921\"]]}],\"contourcarpet\":[{\"type\":\"contourcarpet\",\"colorbar\":{\"outlinewidth\":0,\"ticks\":\"\"}}],\"contour\":[{\"type\":\"contour\",\"colorbar\":{\"outlinewidth\":0,\"ticks\":\"\"},\"colorscale\":[[0.0,\"#0d0887\"],[0.1111111111111111,\"#46039f\"],[0.2222222222222222,\"#7201a8\"],[0.3333333333333333,\"#9c179e\"],[0.4444444444444444,\"#bd3786\"],[0.5555555555555556,\"#d8576b\"],[0.6666666666666666,\"#ed7953\"],[0.7777777777777778,\"#fb9f3a\"],[0.8888888888888888,\"#fdca26\"],[1.0,\"#f0f921\"]]}],\"surface\":[{\"type\":\"surface\",\"colorbar\":{\"outlinewidth\":0,\"ticks\":\"\"},\"colorscale\":[[0.0,\"#0d0887\"],[0.1111111111111111,\"#46039f\"],[0.2222222222222222,\"#7201a8\"],[0.3333333333333333,\"#9c179e\"],[0.4444444444444444,\"#bd3786\"],[0.5555555555555556,\"#d8576b\"],[0.6666666666666666,\"#ed7953\"],[0.7777777777777778,\"#fb9f3a\"],[0.8888888888888888,\"#fdca26\"],[1.0,\"#f0f921\"]]}],\"mesh3d\":[{\"type\":\"mesh3d\",\"colorbar\":{\"outlinewidth\":0,\"ticks\":\"\"}}],\"scatter\":[{\"fillpattern\":{\"fillmode\":\"overlay\",\"size\":10,\"solidity\":0.2},\"type\":\"scatter\"}],\"parcoords\":[{\"type\":\"parcoords\",\"line\":{\"colorbar\":{\"outlinewidth\":0,\"ticks\":\"\"}}}],\"scatterpolargl\":[{\"type\":\"scatterpolargl\",\"marker\":{\"colorbar\":{\"outlinewidth\":0,\"ticks\":\"\"}}}],\"bar\":[{\"error_x\":{\"color\":\"#2a3f5f\"},\"error_y\":{\"color\":\"#2a3f5f\"},\"marker\":{\"line\":{\"color\":\"#E5ECF6\",\"width\":0.5},\"pattern\":{\"fillmode\":\"overlay\",\"size\":10,\"solidity\":0.2}},\"type\":\"bar\"}],\"scattergeo\":[{\"type\":\"scattergeo\",\"marker\":{\"colorbar\":{\"outlinewidth\":0,\"ticks\":\"\"}}}],\"scatterpolar\":[{\"type\":\"scatterpolar\",\"marker\":{\"colorbar\":{\"outlinewidth\":0,\"ticks\":\"\"}}}],\"histogram\":[{\"marker\":{\"pattern\":{\"fillmode\":\"overlay\",\"size\":10,\"solidity\":0.2}},\"type\":\"histogram\"}],\"scattergl\":[{\"type\":\"scattergl\",\"marker\":{\"colorbar\":{\"outlinewidth\":0,\"ticks\":\"\"}}}],\"scatter3d\":[{\"type\":\"scatter3d\",\"line\":{\"colorbar\":{\"outlinewidth\":0,\"ticks\":\"\"}},\"marker\":{\"colorbar\":{\"outlinewidth\":0,\"ticks\":\"\"}}}],\"scattermapbox\":[{\"type\":\"scattermapbox\",\"marker\":{\"colorbar\":{\"outlinewidth\":0,\"ticks\":\"\"}}}],\"scatterternary\":[{\"type\":\"scatterternary\",\"marker\":{\"colorbar\":{\"outlinewidth\":0,\"ticks\":\"\"}}}],\"scattercarpet\":[{\"type\":\"scattercarpet\",\"marker\":{\"colorbar\":{\"outlinewidth\":0,\"ticks\":\"\"}}}],\"carpet\":[{\"aaxis\":{\"endlinecolor\":\"#2a3f5f\",\"gridcolor\":\"white\",\"linecolor\":\"white\",\"minorgridcolor\":\"white\",\"startlinecolor\":\"#2a3f5f\"},\"baxis\":{\"endlinecolor\":\"#2a3f5f\",\"gridcolor\":\"white\",\"linecolor\":\"white\",\"minorgridcolor\":\"white\",\"startlinecolor\":\"#2a3f5f\"},\"type\":\"carpet\"}],\"table\":[{\"cells\":{\"fill\":{\"color\":\"#EBF0F8\"},\"line\":{\"color\":\"white\"}},\"header\":{\"fill\":{\"color\":\"#C8D4E3\"},\"line\":{\"color\":\"white\"}},\"type\":\"table\"}],\"barpolar\":[{\"marker\":{\"line\":{\"color\":\"#E5ECF6\",\"width\":0.5},\"pattern\":{\"fillmode\":\"overlay\",\"size\":10,\"solidity\":0.2}},\"type\":\"barpolar\"}],\"pie\":[{\"automargin\":true,\"type\":\"pie\"}]},\"layout\":{\"autotypenumbers\":\"strict\",\"colorway\":[\"#636efa\",\"#EF553B\",\"#00cc96\",\"#ab63fa\",\"#FFA15A\",\"#19d3f3\",\"#FF6692\",\"#B6E880\",\"#FF97FF\",\"#FECB52\"],\"font\":{\"color\":\"#2a3f5f\"},\"hovermode\":\"closest\",\"hoverlabel\":{\"align\":\"left\"},\"paper_bgcolor\":\"white\",\"plot_bgcolor\":\"#E5ECF6\",\"polar\":{\"bgcolor\":\"#E5ECF6\",\"angularaxis\":{\"gridcolor\":\"white\",\"linecolor\":\"white\",\"ticks\":\"\"},\"radialaxis\":{\"gridcolor\":\"white\",\"linecolor\":\"white\",\"ticks\":\"\"}},\"ternary\":{\"bgcolor\":\"#E5ECF6\",\"aaxis\":{\"gridcolor\":\"white\",\"linecolor\":\"white\",\"ticks\":\"\"},\"baxis\":{\"gridcolor\":\"white\",\"linecolor\":\"white\",\"ticks\":\"\"},\"caxis\":{\"gridcolor\":\"white\",\"linecolor\":\"white\",\"ticks\":\"\"}},\"coloraxis\":{\"colorbar\":{\"outlinewidth\":0,\"ticks\":\"\"}},\"colorscale\":{\"sequential\":[[0.0,\"#0d0887\"],[0.1111111111111111,\"#46039f\"],[0.2222222222222222,\"#7201a8\"],[0.3333333333333333,\"#9c179e\"],[0.4444444444444444,\"#bd3786\"],[0.5555555555555556,\"#d8576b\"],[0.6666666666666666,\"#ed7953\"],[0.7777777777777778,\"#fb9f3a\"],[0.8888888888888888,\"#fdca26\"],[1.0,\"#f0f921\"]],\"sequentialminus\":[[0.0,\"#0d0887\"],[0.1111111111111111,\"#46039f\"],[0.2222222222222222,\"#7201a8\"],[0.3333333333333333,\"#9c179e\"],[0.4444444444444444,\"#bd3786\"],[0.5555555555555556,\"#d8576b\"],[0.6666666666666666,\"#ed7953\"],[0.7777777777777778,\"#fb9f3a\"],[0.8888888888888888,\"#fdca26\"],[1.0,\"#f0f921\"]],\"diverging\":[[0,\"#8e0152\"],[0.1,\"#c51b7d\"],[0.2,\"#de77ae\"],[0.3,\"#f1b6da\"],[0.4,\"#fde0ef\"],[0.5,\"#f7f7f7\"],[0.6,\"#e6f5d0\"],[0.7,\"#b8e186\"],[0.8,\"#7fbc41\"],[0.9,\"#4d9221\"],[1,\"#276419\"]]},\"xaxis\":{\"gridcolor\":\"white\",\"linecolor\":\"white\",\"ticks\":\"\",\"title\":{\"standoff\":15},\"zerolinecolor\":\"white\",\"automargin\":true,\"zerolinewidth\":2},\"yaxis\":{\"gridcolor\":\"white\",\"linecolor\":\"white\",\"ticks\":\"\",\"title\":{\"standoff\":15},\"zerolinecolor\":\"white\",\"automargin\":true,\"zerolinewidth\":2},\"scene\":{\"xaxis\":{\"backgroundcolor\":\"#E5ECF6\",\"gridcolor\":\"white\",\"linecolor\":\"white\",\"showbackground\":true,\"ticks\":\"\",\"zerolinecolor\":\"white\",\"gridwidth\":2},\"yaxis\":{\"backgroundcolor\":\"#E5ECF6\",\"gridcolor\":\"white\",\"linecolor\":\"white\",\"showbackground\":true,\"ticks\":\"\",\"zerolinecolor\":\"white\",\"gridwidth\":2},\"zaxis\":{\"backgroundcolor\":\"#E5ECF6\",\"gridcolor\":\"white\",\"linecolor\":\"white\",\"showbackground\":true,\"ticks\":\"\",\"zerolinecolor\":\"white\",\"gridwidth\":2}},\"shapedefaults\":{\"line\":{\"color\":\"#2a3f5f\"}},\"annotationdefaults\":{\"arrowcolor\":\"#2a3f5f\",\"arrowhead\":0,\"arrowwidth\":1},\"geo\":{\"bgcolor\":\"white\",\"landcolor\":\"#E5ECF6\",\"subunitcolor\":\"white\",\"showland\":true,\"showlakes\":true,\"lakecolor\":\"white\"},\"title\":{\"x\":0.05},\"mapbox\":{\"style\":\"light\"}}},\"title\":{\"text\":\"Richmond Schools Accreditation\",\"x\":0.5},\"height\":700,\"width\":1000},                        {\"responsive\": true}                    ).then(function(){\n",
       "                            \n",
       "var gd = document.getElementById('b6ebd04f-4caa-458e-a7d5-4478993b9257');\n",
       "var x = new MutationObserver(function (mutations, observer) {{\n",
       "        var display = window.getComputedStyle(gd).display;\n",
       "        if (!display || display === 'none') {{\n",
       "            console.log([gd, 'removed!']);\n",
       "            Plotly.purge(gd);\n",
       "            observer.disconnect();\n",
       "        }}\n",
       "}});\n",
       "\n",
       "// Listen for the removal of the full notebook cells\n",
       "var notebookContainer = gd.closest('#notebook-container');\n",
       "if (notebookContainer) {{\n",
       "    x.observe(notebookContainer, {childList: true});\n",
       "}}\n",
       "\n",
       "// Listen for the clearing of the current output cell\n",
       "var outputEl = gd.closest('.output');\n",
       "if (outputEl) {{\n",
       "    x.observe(outputEl, {childList: true});\n",
       "}}\n",
       "\n",
       "                        })                };                });            </script>        </div>"
      ]
     },
     "metadata": {},
     "output_type": "display_data"
    }
   ],
   "source": [
    "eng_dim = go.parcats.Dimension(\n",
    "    values = dropped_nulls['eng_ach_gap'],\n",
    "    label = 'English Achievement Gap',\n",
    "    categoryorder = 'array',\n",
    "    categoryarray = ['1','2','3'],\n",
    "    ticktext = ['Level<br>One', 'Level<br>Two', 'Level<br>Three'],\n",
    ")\n",
    "\n",
    "\n",
    "math_dim = go.parcats.Dimension(\n",
    "    values = dropped_nulls['math_ach_gap'],\n",
    "    label=  'Math Achievement Gap',\n",
    "    categoryorder = 'array',\n",
    "    categoryarray = ['1','2','3'],\n",
    "    ticktext = ['Level<br>One', 'Level<br>Two', 'Level<br>Three'],\n",
    ")\n",
    "\n",
    "abs_dim = go.parcats.Dimension(\n",
    "    values = dropped_nulls['chro_abs'],\n",
    "    label=  'Chronic Absenteeism',\n",
    "    categoryorder = 'array',\n",
    "    categoryarray = ['1','2','3'],\n",
    "    ticktext = ['Level<br>One', 'Level<br>Two', 'Level<br>Three'],\n",
    ")\n",
    "\n",
    "accred_dim = go.parcats.Dimension(\n",
    "    values = dropped_nulls['accred'],\n",
    "    label= 'Accreditation',\n",
    "    categoryorder = 'array',\n",
    "    categoryarray = ['Accredited', 'Accredited with Conditions'],\n",
    "    ticktext = ['Accredited', 'Accredited<br>with Conditions']\n",
    ")\n",
    "\n",
    "school_dim = go.parcats.Dimension(\n",
    "    values = dropped_nulls['school_type'],\n",
    "    label = 'School Level'\n",
    ")\n",
    "\n",
    "color = dropped_nulls.accred_dicot\n",
    "colorscale = [[0, 'gray'], [.5, 'royalblue'], [1, 'rgb(203,76,78)']]\n",
    "    \n",
    "fig = go.Figure(data = [go.Parcats(dimensions=[accred_dim, eng_dim, math_dim, abs_dim, school_dim],\n",
    "                                  hoverinfo = 'count',\n",
    "                                  line = {'color':color, 'colorscale':colorscale, 'shape':'hspline'},\n",
    "                                  labelfont = {'size':16, 'family': 'Arial'},\n",
    "                                  tickfont = {'size':12, 'family': 'Arial'},\n",
    "                                  )])\n",
    "\n",
    "fig.update_layout(height = 700, width = 1000,\n",
    "                           title_text = 'Richmond Schools Accreditation',\n",
    "                           title_x = 0.5\n",
    "                           )\n",
    "\n",
    "fig.show()\n",
    "fig.write_image('school_cat.png')\n",
    "fig.write_html('school_cat.html')\n"
   ]
  },
  {
   "cell_type": "code",
   "execution_count": 84,
   "id": "a0bcecd2",
   "metadata": {},
   "outputs": [
    {
     "data": {
      "application/vnd.plotly.v1+json": {
       "config": {
        "plotlyServerURL": "https://plot.ly"
       },
       "data": [
        {
         "alignmentgroup": "True",
         "boxpoints": "all",
         "customdata": [
          [
           "Barack Obama Elementary",
           "16.1%",
           "Fully Accredited"
          ],
          [
           "Richmond Community High",
           "16.1%",
           "Fully Accredited"
          ],
          [
           "Fairfield Court Elementary",
           "13.8%",
           "Fully Accredited"
          ],
          [
           "J.L. Francis Elementary",
           "38.2%",
           "Fully Accredited"
          ],
          [
           "Broad Rock Elementary",
           "32.2%",
           "Fully Accredited"
          ],
          [
           "Elizabeth D. Redd Elementary",
           "42.4%",
           "Fully Accredited"
          ],
          [
           "Patrick Henry School Of Science And Arts",
           "42.4%",
           "Fully Accredited"
          ],
          [
           "Southampton Elementary",
           "42.4%",
           "Fully Accredited"
          ],
          [
           "Richmond Career Education and Employment Charter School",
           "42.4%",
           "Fully Accredited"
          ],
          [
           "William Fox Elementary",
           "10.8%",
           "Fully Accredited"
          ],
          [
           "Open High",
           "10.8%",
           "Fully Accredited"
          ],
          [
           "Linwood Holton Elementary",
           "5.3%",
           "Fully Accredited"
          ],
          [
           "J.B. Fisher Elementary",
           "8.5%",
           "Fully Accredited"
          ],
          [
           "John B. Cary Elementary",
           "2.7%",
           "Fully Accredited"
          ],
          [
           "Mary Munford Elementary",
           "0.8%",
           "Fully Accredited"
          ]
         ],
         "fillcolor": "rgba(255,255,255,0)",
         "hoverlabel": {
          "bgcolor": "lightgray",
          "font": {
           "size": 16
          }
         },
         "hoveron": "points",
         "hovertemplate": "%{customdata[0]}<br>Economically Disadvantaged Students: %{x:.1f}%<br>Eviction Rate in Zipcode: %{customdata[1]}",
         "legendgroup": "Fully Accredited",
         "line": {
          "color": "rgba(255,255,255,0)"
         },
         "marker": {
          "color": "gray",
          "opacity": 0.5,
          "size": 14
         },
         "name": "Fully Accredited",
         "offsetgroup": "Fully Accredited",
         "orientation": "v",
         "pointpos": 0,
         "showlegend": true,
         "type": "box",
         "x": [
          null,
          36.5,
          96.4,
          72.6,
          74.4,
          74.7,
          43.7,
          63,
          null,
          43.9,
          37,
          32.9,
          48.9,
          54,
          12
         ],
         "x0": " ",
         "xaxis": "x",
         "y": [
          "Elementary Schools",
          "High Schools",
          "Elementary Schools",
          "Elementary Schools",
          "Elementary Schools",
          "Elementary Schools",
          "Elementary Schools",
          "Elementary Schools",
          "High Schools",
          "Elementary Schools",
          "High Schools",
          "Elementary Schools",
          "Elementary Schools",
          "Elementary Schools",
          "Elementary Schools"
         ],
         "y0": " ",
         "yaxis": "y"
        },
        {
         "alignmentgroup": "True",
         "boxpoints": "all",
         "customdata": [
          [
           "Overby-Sheppard Elementary",
           "16.1%",
           "Accredited with Conditions"
          ],
          [
           "Bellevue Elementary",
           "13.8%",
           "Accredited with Conditions"
          ],
          [
           "Chimborazo Elementary",
           "13.8%",
           "Accredited with Conditions"
          ],
          [
           "Henry Marsh III Elementary",
           "13.8%",
           "Accredited with Conditions"
          ],
          [
           "Woodville Elementary",
           "13.8%",
           "Accredited with Conditions"
          ],
          [
           "Martin Luther King Jr. Middle",
           "13.8%",
           "Accredited with Conditions"
          ],
          [
           "Armstrong High",
           "13.8%",
           "Accredited with Conditions"
          ],
          [
           "Blackwell Elementary",
           "38.2%",
           "Accredited with Conditions"
          ],
          [
           "Cardinal Elementary",
           "38.2%",
           "Accredited with Conditions"
          ],
          [
           "Oak Grove/Bellemeade Elementary",
           "38.2%",
           "Accredited with Conditions"
          ],
          [
           "Swansboro Elementary",
           "38.2%",
           "Accredited with Conditions"
          ],
          [
           "River City Middle",
           "38.2%",
           "Accredited with Conditions"
          ],
          [
           "Thomas C. Boushall Middle",
           "32.2%",
           "Accredited with Conditions"
          ],
          [
           "G.H. Reid Elementary",
           "42.4%",
           "Accredited with Conditions"
          ],
          [
           "Miles Jones Elementary",
           "42.4%",
           "Accredited with Conditions"
          ],
          [
           "Westover Hills Elementary",
           "42.4%",
           "Accredited with Conditions"
          ],
          [
           "Lucille M. Brown Middle",
           "42.4%",
           "Accredited with Conditions"
          ],
          [
           "George Wythe High",
           "42.4%",
           "Accredited with Conditions"
          ],
          [
           "Huguenot High",
           "42.4%",
           "Accredited with Conditions"
          ],
          [
           "George W. Carver Elementary",
           "10.8%",
           "Accredited with Conditions"
          ],
          [
           "Binford Middle",
           "10.8%",
           "Accredited with Conditions"
          ],
          [
           "Ginter Park Elementary",
           "5.3%",
           "Accredited with Conditions"
          ],
          [
           "Henderson Middle",
           "5.3%",
           "Accredited with Conditions"
          ],
          [
           "John Marshall High",
           "5.3%",
           "Accredited with Conditions"
          ],
          [
           "Albert Hill Middle",
           "2.7%",
           "Accredited with Conditions"
          ],
          [
           "Thomas Jefferson High",
           "9.1%",
           "Accredited with Conditions"
          ]
         ],
         "fillcolor": "rgba(255,255,255,0)",
         "hoverlabel": {
          "bgcolor": "lightgray",
          "font": {
           "size": 16
          }
         },
         "hoveron": "points",
         "hovertemplate": "%{customdata[0]}<br>Economically Disadvantaged Students: %{x:.1f}%<br>Eviction Rate in Zipcode: %{customdata[1]}",
         "legendgroup": "Accredited with Conditions",
         "line": {
          "color": "rgba(255,255,255,0)"
         },
         "marker": {
          "color": "red",
          "opacity": 0.5,
          "size": 14
         },
         "name": "Accredited with Conditions",
         "offsetgroup": "Accredited with Conditions",
         "orientation": "v",
         "pointpos": 0,
         "showlegend": true,
         "type": "box",
         "x": [
          85.1,
          null,
          80.8,
          91.7,
          95.1,
          93.8,
          85.4,
          85.5,
          53.8,
          83.5,
          80.4,
          67.9,
          75,
          69.2,
          78.5,
          null,
          71.6,
          60.1,
          62.8,
          89.3,
          65.7,
          88.6,
          79.8,
          72,
          62.8,
          61.7
         ],
         "x0": " ",
         "xaxis": "x",
         "y": [
          "Elementary Schools",
          "Elementary Schools",
          "Elementary Schools",
          "Elementary Schools",
          "Elementary Schools",
          "Middle Schools",
          "High Schools",
          "Elementary Schools",
          "Elementary Schools",
          "Elementary Schools",
          "Elementary Schools",
          "Middle Schools",
          "Middle Schools",
          "Elementary Schools",
          "Elementary Schools",
          "Elementary Schools",
          "Middle Schools",
          "High Schools",
          "High Schools",
          "Elementary Schools",
          "Middle Schools",
          "Elementary Schools",
          "Middle Schools",
          "High Schools",
          "Middle Schools",
          "High Schools"
         ],
         "y0": " ",
         "yaxis": "y"
        }
       ],
       "layout": {
        "boxmode": "overlay",
        "height": 500,
        "hovermode": "x unified",
        "legend": {
         "title": {
          "text": "Accreditation Status"
         },
         "tracegroupgap": 0
        },
        "margin": {
         "t": 60
        },
        "plot_bgcolor": "white",
        "template": {
         "data": {
          "bar": [
           {
            "error_x": {
             "color": "#2a3f5f"
            },
            "error_y": {
             "color": "#2a3f5f"
            },
            "marker": {
             "line": {
              "color": "#E5ECF6",
              "width": 0.5
             },
             "pattern": {
              "fillmode": "overlay",
              "size": 10,
              "solidity": 0.2
             }
            },
            "type": "bar"
           }
          ],
          "barpolar": [
           {
            "marker": {
             "line": {
              "color": "#E5ECF6",
              "width": 0.5
             },
             "pattern": {
              "fillmode": "overlay",
              "size": 10,
              "solidity": 0.2
             }
            },
            "type": "barpolar"
           }
          ],
          "carpet": [
           {
            "aaxis": {
             "endlinecolor": "#2a3f5f",
             "gridcolor": "white",
             "linecolor": "white",
             "minorgridcolor": "white",
             "startlinecolor": "#2a3f5f"
            },
            "baxis": {
             "endlinecolor": "#2a3f5f",
             "gridcolor": "white",
             "linecolor": "white",
             "minorgridcolor": "white",
             "startlinecolor": "#2a3f5f"
            },
            "type": "carpet"
           }
          ],
          "choropleth": [
           {
            "colorbar": {
             "outlinewidth": 0,
             "ticks": ""
            },
            "type": "choropleth"
           }
          ],
          "contour": [
           {
            "colorbar": {
             "outlinewidth": 0,
             "ticks": ""
            },
            "colorscale": [
             [
              0,
              "#0d0887"
             ],
             [
              0.1111111111111111,
              "#46039f"
             ],
             [
              0.2222222222222222,
              "#7201a8"
             ],
             [
              0.3333333333333333,
              "#9c179e"
             ],
             [
              0.4444444444444444,
              "#bd3786"
             ],
             [
              0.5555555555555556,
              "#d8576b"
             ],
             [
              0.6666666666666666,
              "#ed7953"
             ],
             [
              0.7777777777777778,
              "#fb9f3a"
             ],
             [
              0.8888888888888888,
              "#fdca26"
             ],
             [
              1,
              "#f0f921"
             ]
            ],
            "type": "contour"
           }
          ],
          "contourcarpet": [
           {
            "colorbar": {
             "outlinewidth": 0,
             "ticks": ""
            },
            "type": "contourcarpet"
           }
          ],
          "heatmap": [
           {
            "colorbar": {
             "outlinewidth": 0,
             "ticks": ""
            },
            "colorscale": [
             [
              0,
              "#0d0887"
             ],
             [
              0.1111111111111111,
              "#46039f"
             ],
             [
              0.2222222222222222,
              "#7201a8"
             ],
             [
              0.3333333333333333,
              "#9c179e"
             ],
             [
              0.4444444444444444,
              "#bd3786"
             ],
             [
              0.5555555555555556,
              "#d8576b"
             ],
             [
              0.6666666666666666,
              "#ed7953"
             ],
             [
              0.7777777777777778,
              "#fb9f3a"
             ],
             [
              0.8888888888888888,
              "#fdca26"
             ],
             [
              1,
              "#f0f921"
             ]
            ],
            "type": "heatmap"
           }
          ],
          "heatmapgl": [
           {
            "colorbar": {
             "outlinewidth": 0,
             "ticks": ""
            },
            "colorscale": [
             [
              0,
              "#0d0887"
             ],
             [
              0.1111111111111111,
              "#46039f"
             ],
             [
              0.2222222222222222,
              "#7201a8"
             ],
             [
              0.3333333333333333,
              "#9c179e"
             ],
             [
              0.4444444444444444,
              "#bd3786"
             ],
             [
              0.5555555555555556,
              "#d8576b"
             ],
             [
              0.6666666666666666,
              "#ed7953"
             ],
             [
              0.7777777777777778,
              "#fb9f3a"
             ],
             [
              0.8888888888888888,
              "#fdca26"
             ],
             [
              1,
              "#f0f921"
             ]
            ],
            "type": "heatmapgl"
           }
          ],
          "histogram": [
           {
            "marker": {
             "pattern": {
              "fillmode": "overlay",
              "size": 10,
              "solidity": 0.2
             }
            },
            "type": "histogram"
           }
          ],
          "histogram2d": [
           {
            "colorbar": {
             "outlinewidth": 0,
             "ticks": ""
            },
            "colorscale": [
             [
              0,
              "#0d0887"
             ],
             [
              0.1111111111111111,
              "#46039f"
             ],
             [
              0.2222222222222222,
              "#7201a8"
             ],
             [
              0.3333333333333333,
              "#9c179e"
             ],
             [
              0.4444444444444444,
              "#bd3786"
             ],
             [
              0.5555555555555556,
              "#d8576b"
             ],
             [
              0.6666666666666666,
              "#ed7953"
             ],
             [
              0.7777777777777778,
              "#fb9f3a"
             ],
             [
              0.8888888888888888,
              "#fdca26"
             ],
             [
              1,
              "#f0f921"
             ]
            ],
            "type": "histogram2d"
           }
          ],
          "histogram2dcontour": [
           {
            "colorbar": {
             "outlinewidth": 0,
             "ticks": ""
            },
            "colorscale": [
             [
              0,
              "#0d0887"
             ],
             [
              0.1111111111111111,
              "#46039f"
             ],
             [
              0.2222222222222222,
              "#7201a8"
             ],
             [
              0.3333333333333333,
              "#9c179e"
             ],
             [
              0.4444444444444444,
              "#bd3786"
             ],
             [
              0.5555555555555556,
              "#d8576b"
             ],
             [
              0.6666666666666666,
              "#ed7953"
             ],
             [
              0.7777777777777778,
              "#fb9f3a"
             ],
             [
              0.8888888888888888,
              "#fdca26"
             ],
             [
              1,
              "#f0f921"
             ]
            ],
            "type": "histogram2dcontour"
           }
          ],
          "mesh3d": [
           {
            "colorbar": {
             "outlinewidth": 0,
             "ticks": ""
            },
            "type": "mesh3d"
           }
          ],
          "parcoords": [
           {
            "line": {
             "colorbar": {
              "outlinewidth": 0,
              "ticks": ""
             }
            },
            "type": "parcoords"
           }
          ],
          "pie": [
           {
            "automargin": true,
            "type": "pie"
           }
          ],
          "scatter": [
           {
            "fillpattern": {
             "fillmode": "overlay",
             "size": 10,
             "solidity": 0.2
            },
            "type": "scatter"
           }
          ],
          "scatter3d": [
           {
            "line": {
             "colorbar": {
              "outlinewidth": 0,
              "ticks": ""
             }
            },
            "marker": {
             "colorbar": {
              "outlinewidth": 0,
              "ticks": ""
             }
            },
            "type": "scatter3d"
           }
          ],
          "scattercarpet": [
           {
            "marker": {
             "colorbar": {
              "outlinewidth": 0,
              "ticks": ""
             }
            },
            "type": "scattercarpet"
           }
          ],
          "scattergeo": [
           {
            "marker": {
             "colorbar": {
              "outlinewidth": 0,
              "ticks": ""
             }
            },
            "type": "scattergeo"
           }
          ],
          "scattergl": [
           {
            "marker": {
             "colorbar": {
              "outlinewidth": 0,
              "ticks": ""
             }
            },
            "type": "scattergl"
           }
          ],
          "scattermapbox": [
           {
            "marker": {
             "colorbar": {
              "outlinewidth": 0,
              "ticks": ""
             }
            },
            "type": "scattermapbox"
           }
          ],
          "scatterpolar": [
           {
            "marker": {
             "colorbar": {
              "outlinewidth": 0,
              "ticks": ""
             }
            },
            "type": "scatterpolar"
           }
          ],
          "scatterpolargl": [
           {
            "marker": {
             "colorbar": {
              "outlinewidth": 0,
              "ticks": ""
             }
            },
            "type": "scatterpolargl"
           }
          ],
          "scatterternary": [
           {
            "marker": {
             "colorbar": {
              "outlinewidth": 0,
              "ticks": ""
             }
            },
            "type": "scatterternary"
           }
          ],
          "surface": [
           {
            "colorbar": {
             "outlinewidth": 0,
             "ticks": ""
            },
            "colorscale": [
             [
              0,
              "#0d0887"
             ],
             [
              0.1111111111111111,
              "#46039f"
             ],
             [
              0.2222222222222222,
              "#7201a8"
             ],
             [
              0.3333333333333333,
              "#9c179e"
             ],
             [
              0.4444444444444444,
              "#bd3786"
             ],
             [
              0.5555555555555556,
              "#d8576b"
             ],
             [
              0.6666666666666666,
              "#ed7953"
             ],
             [
              0.7777777777777778,
              "#fb9f3a"
             ],
             [
              0.8888888888888888,
              "#fdca26"
             ],
             [
              1,
              "#f0f921"
             ]
            ],
            "type": "surface"
           }
          ],
          "table": [
           {
            "cells": {
             "fill": {
              "color": "#EBF0F8"
             },
             "line": {
              "color": "white"
             }
            },
            "header": {
             "fill": {
              "color": "#C8D4E3"
             },
             "line": {
              "color": "white"
             }
            },
            "type": "table"
           }
          ]
         },
         "layout": {
          "annotationdefaults": {
           "arrowcolor": "#2a3f5f",
           "arrowhead": 0,
           "arrowwidth": 1
          },
          "autotypenumbers": "strict",
          "coloraxis": {
           "colorbar": {
            "outlinewidth": 0,
            "ticks": ""
           }
          },
          "colorscale": {
           "diverging": [
            [
             0,
             "#8e0152"
            ],
            [
             0.1,
             "#c51b7d"
            ],
            [
             0.2,
             "#de77ae"
            ],
            [
             0.3,
             "#f1b6da"
            ],
            [
             0.4,
             "#fde0ef"
            ],
            [
             0.5,
             "#f7f7f7"
            ],
            [
             0.6,
             "#e6f5d0"
            ],
            [
             0.7,
             "#b8e186"
            ],
            [
             0.8,
             "#7fbc41"
            ],
            [
             0.9,
             "#4d9221"
            ],
            [
             1,
             "#276419"
            ]
           ],
           "sequential": [
            [
             0,
             "#0d0887"
            ],
            [
             0.1111111111111111,
             "#46039f"
            ],
            [
             0.2222222222222222,
             "#7201a8"
            ],
            [
             0.3333333333333333,
             "#9c179e"
            ],
            [
             0.4444444444444444,
             "#bd3786"
            ],
            [
             0.5555555555555556,
             "#d8576b"
            ],
            [
             0.6666666666666666,
             "#ed7953"
            ],
            [
             0.7777777777777778,
             "#fb9f3a"
            ],
            [
             0.8888888888888888,
             "#fdca26"
            ],
            [
             1,
             "#f0f921"
            ]
           ],
           "sequentialminus": [
            [
             0,
             "#0d0887"
            ],
            [
             0.1111111111111111,
             "#46039f"
            ],
            [
             0.2222222222222222,
             "#7201a8"
            ],
            [
             0.3333333333333333,
             "#9c179e"
            ],
            [
             0.4444444444444444,
             "#bd3786"
            ],
            [
             0.5555555555555556,
             "#d8576b"
            ],
            [
             0.6666666666666666,
             "#ed7953"
            ],
            [
             0.7777777777777778,
             "#fb9f3a"
            ],
            [
             0.8888888888888888,
             "#fdca26"
            ],
            [
             1,
             "#f0f921"
            ]
           ]
          },
          "colorway": [
           "#636efa",
           "#EF553B",
           "#00cc96",
           "#ab63fa",
           "#FFA15A",
           "#19d3f3",
           "#FF6692",
           "#B6E880",
           "#FF97FF",
           "#FECB52"
          ],
          "font": {
           "color": "#2a3f5f"
          },
          "geo": {
           "bgcolor": "white",
           "lakecolor": "white",
           "landcolor": "#E5ECF6",
           "showlakes": true,
           "showland": true,
           "subunitcolor": "white"
          },
          "hoverlabel": {
           "align": "left"
          },
          "hovermode": "closest",
          "mapbox": {
           "style": "light"
          },
          "paper_bgcolor": "white",
          "plot_bgcolor": "#E5ECF6",
          "polar": {
           "angularaxis": {
            "gridcolor": "white",
            "linecolor": "white",
            "ticks": ""
           },
           "bgcolor": "#E5ECF6",
           "radialaxis": {
            "gridcolor": "white",
            "linecolor": "white",
            "ticks": ""
           }
          },
          "scene": {
           "xaxis": {
            "backgroundcolor": "#E5ECF6",
            "gridcolor": "white",
            "gridwidth": 2,
            "linecolor": "white",
            "showbackground": true,
            "ticks": "",
            "zerolinecolor": "white"
           },
           "yaxis": {
            "backgroundcolor": "#E5ECF6",
            "gridcolor": "white",
            "gridwidth": 2,
            "linecolor": "white",
            "showbackground": true,
            "ticks": "",
            "zerolinecolor": "white"
           },
           "zaxis": {
            "backgroundcolor": "#E5ECF6",
            "gridcolor": "white",
            "gridwidth": 2,
            "linecolor": "white",
            "showbackground": true,
            "ticks": "",
            "zerolinecolor": "white"
           }
          },
          "shapedefaults": {
           "line": {
            "color": "#2a3f5f"
           }
          },
          "ternary": {
           "aaxis": {
            "gridcolor": "white",
            "linecolor": "white",
            "ticks": ""
           },
           "baxis": {
            "gridcolor": "white",
            "linecolor": "white",
            "ticks": ""
           },
           "bgcolor": "#E5ECF6",
           "caxis": {
            "gridcolor": "white",
            "linecolor": "white",
            "ticks": ""
           }
          },
          "title": {
           "x": 0.05
          },
          "xaxis": {
           "automargin": true,
           "gridcolor": "white",
           "linecolor": "white",
           "ticks": "",
           "title": {
            "standoff": 15
           },
           "zerolinecolor": "white",
           "zerolinewidth": 2
          },
          "yaxis": {
           "automargin": true,
           "gridcolor": "white",
           "linecolor": "white",
           "ticks": "",
           "title": {
            "standoff": 15
           },
           "zerolinecolor": "white",
           "zerolinewidth": 2
          }
         }
        },
        "xaxis": {
         "anchor": "y",
         "domain": [
          0,
          1
         ],
         "range": [
          0,
          100
         ],
         "title": {
          "text": "% Economically Disadvantaged Students"
         }
        },
        "yaxis": {
         "anchor": "x",
         "categoryarray": [
          "High Schools",
          "Middle Schools",
          "Elementary Schools"
         ],
         "categoryorder": "array",
         "domain": [
          0,
          1
         ],
         "gridcolor": "lightgray",
         "gridwidth": 2,
         "showgrid": true,
         "title": {
          "text": ""
         }
        }
       }
      },
      "text/html": [
       "<div>                            <div id=\"8f9b10fb-33bf-4c30-8d30-d8774fcba9fa\" class=\"plotly-graph-div\" style=\"height:500px; width:100%;\"></div>            <script type=\"text/javascript\">                require([\"plotly\"], function(Plotly) {                    window.PLOTLYENV=window.PLOTLYENV || {};                                    if (document.getElementById(\"8f9b10fb-33bf-4c30-8d30-d8774fcba9fa\")) {                    Plotly.newPlot(                        \"8f9b10fb-33bf-4c30-8d30-d8774fcba9fa\",                        [{\"alignmentgroup\":\"True\",\"boxpoints\":\"all\",\"customdata\":[[\"Barack Obama Elementary\",\"16.1%\",\"Fully Accredited\"],[\"Richmond Community High\",\"16.1%\",\"Fully Accredited\"],[\"Fairfield Court Elementary\",\"13.8%\",\"Fully Accredited\"],[\"J.L. Francis Elementary\",\"38.2%\",\"Fully Accredited\"],[\"Broad Rock Elementary\",\"32.2%\",\"Fully Accredited\"],[\"Elizabeth D. Redd Elementary\",\"42.4%\",\"Fully Accredited\"],[\"Patrick Henry School Of Science And Arts\",\"42.4%\",\"Fully Accredited\"],[\"Southampton Elementary\",\"42.4%\",\"Fully Accredited\"],[\"Richmond Career Education and Employment Charter School\",\"42.4%\",\"Fully Accredited\"],[\"William Fox Elementary\",\"10.8%\",\"Fully Accredited\"],[\"Open High\",\"10.8%\",\"Fully Accredited\"],[\"Linwood Holton Elementary\",\"5.3%\",\"Fully Accredited\"],[\"J.B. Fisher Elementary\",\"8.5%\",\"Fully Accredited\"],[\"John B. Cary Elementary\",\"2.7%\",\"Fully Accredited\"],[\"Mary Munford Elementary\",\"0.8%\",\"Fully Accredited\"]],\"fillcolor\":\"rgba(255,255,255,0)\",\"hoveron\":\"points\",\"hovertemplate\":\"%{customdata[0]}<br>Economically Disadvantaged Students: %{x:.1f}%<br>Eviction Rate in Zipcode: %{customdata[1]}\",\"legendgroup\":\"Fully Accredited\",\"line\":{\"color\":\"rgba(255,255,255,0)\"},\"marker\":{\"color\":\"gray\",\"opacity\":0.5,\"size\":14},\"name\":\"Fully Accredited\",\"offsetgroup\":\"Fully Accredited\",\"orientation\":\"v\",\"pointpos\":0,\"showlegend\":true,\"x\":[null,36.5,96.4,72.6,74.4,74.7,43.7,63.0,null,43.9,37.0,32.9,48.9,54.0,12.0],\"x0\":\" \",\"xaxis\":\"x\",\"y\":[\"Elementary Schools\",\"High Schools\",\"Elementary Schools\",\"Elementary Schools\",\"Elementary Schools\",\"Elementary Schools\",\"Elementary Schools\",\"Elementary Schools\",\"High Schools\",\"Elementary Schools\",\"High Schools\",\"Elementary Schools\",\"Elementary Schools\",\"Elementary Schools\",\"Elementary Schools\"],\"y0\":\" \",\"yaxis\":\"y\",\"type\":\"box\",\"hoverlabel\":{\"font\":{\"size\":16},\"bgcolor\":\"lightgray\"}},{\"alignmentgroup\":\"True\",\"boxpoints\":\"all\",\"customdata\":[[\"Overby-Sheppard Elementary\",\"16.1%\",\"Accredited with Conditions\"],[\"Bellevue Elementary\",\"13.8%\",\"Accredited with Conditions\"],[\"Chimborazo Elementary\",\"13.8%\",\"Accredited with Conditions\"],[\"Henry Marsh III Elementary\",\"13.8%\",\"Accredited with Conditions\"],[\"Woodville Elementary\",\"13.8%\",\"Accredited with Conditions\"],[\"Martin Luther King Jr. Middle\",\"13.8%\",\"Accredited with Conditions\"],[\"Armstrong High\",\"13.8%\",\"Accredited with Conditions\"],[\"Blackwell Elementary\",\"38.2%\",\"Accredited with Conditions\"],[\"Cardinal Elementary\",\"38.2%\",\"Accredited with Conditions\"],[\"Oak Grove/Bellemeade Elementary\",\"38.2%\",\"Accredited with Conditions\"],[\"Swansboro Elementary\",\"38.2%\",\"Accredited with Conditions\"],[\"River City Middle\",\"38.2%\",\"Accredited with Conditions\"],[\"Thomas C. Boushall Middle\",\"32.2%\",\"Accredited with Conditions\"],[\"G.H. Reid Elementary\",\"42.4%\",\"Accredited with Conditions\"],[\"Miles Jones Elementary\",\"42.4%\",\"Accredited with Conditions\"],[\"Westover Hills Elementary\",\"42.4%\",\"Accredited with Conditions\"],[\"Lucille M. Brown Middle\",\"42.4%\",\"Accredited with Conditions\"],[\"George Wythe High\",\"42.4%\",\"Accredited with Conditions\"],[\"Huguenot High\",\"42.4%\",\"Accredited with Conditions\"],[\"George W. Carver Elementary\",\"10.8%\",\"Accredited with Conditions\"],[\"Binford Middle\",\"10.8%\",\"Accredited with Conditions\"],[\"Ginter Park Elementary\",\"5.3%\",\"Accredited with Conditions\"],[\"Henderson Middle\",\"5.3%\",\"Accredited with Conditions\"],[\"John Marshall High\",\"5.3%\",\"Accredited with Conditions\"],[\"Albert Hill Middle\",\"2.7%\",\"Accredited with Conditions\"],[\"Thomas Jefferson High\",\"9.1%\",\"Accredited with Conditions\"]],\"fillcolor\":\"rgba(255,255,255,0)\",\"hoveron\":\"points\",\"hovertemplate\":\"%{customdata[0]}<br>Economically Disadvantaged Students: %{x:.1f}%<br>Eviction Rate in Zipcode: %{customdata[1]}\",\"legendgroup\":\"Accredited with Conditions\",\"line\":{\"color\":\"rgba(255,255,255,0)\"},\"marker\":{\"color\":\"red\",\"opacity\":0.5,\"size\":14},\"name\":\"Accredited with Conditions\",\"offsetgroup\":\"Accredited with Conditions\",\"orientation\":\"v\",\"pointpos\":0,\"showlegend\":true,\"x\":[85.1,null,80.8,91.7,95.1,93.8,85.4,85.5,53.8,83.5,80.4,67.9,75.0,69.2,78.5,null,71.6,60.1,62.8,89.3,65.7,88.6,79.8,72.0,62.8,61.7],\"x0\":\" \",\"xaxis\":\"x\",\"y\":[\"Elementary Schools\",\"Elementary Schools\",\"Elementary Schools\",\"Elementary Schools\",\"Elementary Schools\",\"Middle Schools\",\"High Schools\",\"Elementary Schools\",\"Elementary Schools\",\"Elementary Schools\",\"Elementary Schools\",\"Middle Schools\",\"Middle Schools\",\"Elementary Schools\",\"Elementary Schools\",\"Elementary Schools\",\"Middle Schools\",\"High Schools\",\"High Schools\",\"Elementary Schools\",\"Middle Schools\",\"Elementary Schools\",\"Middle Schools\",\"High Schools\",\"Middle Schools\",\"High Schools\"],\"y0\":\" \",\"yaxis\":\"y\",\"type\":\"box\",\"hoverlabel\":{\"font\":{\"size\":16},\"bgcolor\":\"lightgray\"}}],                        {\"template\":{\"data\":{\"histogram2dcontour\":[{\"type\":\"histogram2dcontour\",\"colorbar\":{\"outlinewidth\":0,\"ticks\":\"\"},\"colorscale\":[[0.0,\"#0d0887\"],[0.1111111111111111,\"#46039f\"],[0.2222222222222222,\"#7201a8\"],[0.3333333333333333,\"#9c179e\"],[0.4444444444444444,\"#bd3786\"],[0.5555555555555556,\"#d8576b\"],[0.6666666666666666,\"#ed7953\"],[0.7777777777777778,\"#fb9f3a\"],[0.8888888888888888,\"#fdca26\"],[1.0,\"#f0f921\"]]}],\"choropleth\":[{\"type\":\"choropleth\",\"colorbar\":{\"outlinewidth\":0,\"ticks\":\"\"}}],\"histogram2d\":[{\"type\":\"histogram2d\",\"colorbar\":{\"outlinewidth\":0,\"ticks\":\"\"},\"colorscale\":[[0.0,\"#0d0887\"],[0.1111111111111111,\"#46039f\"],[0.2222222222222222,\"#7201a8\"],[0.3333333333333333,\"#9c179e\"],[0.4444444444444444,\"#bd3786\"],[0.5555555555555556,\"#d8576b\"],[0.6666666666666666,\"#ed7953\"],[0.7777777777777778,\"#fb9f3a\"],[0.8888888888888888,\"#fdca26\"],[1.0,\"#f0f921\"]]}],\"heatmap\":[{\"type\":\"heatmap\",\"colorbar\":{\"outlinewidth\":0,\"ticks\":\"\"},\"colorscale\":[[0.0,\"#0d0887\"],[0.1111111111111111,\"#46039f\"],[0.2222222222222222,\"#7201a8\"],[0.3333333333333333,\"#9c179e\"],[0.4444444444444444,\"#bd3786\"],[0.5555555555555556,\"#d8576b\"],[0.6666666666666666,\"#ed7953\"],[0.7777777777777778,\"#fb9f3a\"],[0.8888888888888888,\"#fdca26\"],[1.0,\"#f0f921\"]]}],\"heatmapgl\":[{\"type\":\"heatmapgl\",\"colorbar\":{\"outlinewidth\":0,\"ticks\":\"\"},\"colorscale\":[[0.0,\"#0d0887\"],[0.1111111111111111,\"#46039f\"],[0.2222222222222222,\"#7201a8\"],[0.3333333333333333,\"#9c179e\"],[0.4444444444444444,\"#bd3786\"],[0.5555555555555556,\"#d8576b\"],[0.6666666666666666,\"#ed7953\"],[0.7777777777777778,\"#fb9f3a\"],[0.8888888888888888,\"#fdca26\"],[1.0,\"#f0f921\"]]}],\"contourcarpet\":[{\"type\":\"contourcarpet\",\"colorbar\":{\"outlinewidth\":0,\"ticks\":\"\"}}],\"contour\":[{\"type\":\"contour\",\"colorbar\":{\"outlinewidth\":0,\"ticks\":\"\"},\"colorscale\":[[0.0,\"#0d0887\"],[0.1111111111111111,\"#46039f\"],[0.2222222222222222,\"#7201a8\"],[0.3333333333333333,\"#9c179e\"],[0.4444444444444444,\"#bd3786\"],[0.5555555555555556,\"#d8576b\"],[0.6666666666666666,\"#ed7953\"],[0.7777777777777778,\"#fb9f3a\"],[0.8888888888888888,\"#fdca26\"],[1.0,\"#f0f921\"]]}],\"surface\":[{\"type\":\"surface\",\"colorbar\":{\"outlinewidth\":0,\"ticks\":\"\"},\"colorscale\":[[0.0,\"#0d0887\"],[0.1111111111111111,\"#46039f\"],[0.2222222222222222,\"#7201a8\"],[0.3333333333333333,\"#9c179e\"],[0.4444444444444444,\"#bd3786\"],[0.5555555555555556,\"#d8576b\"],[0.6666666666666666,\"#ed7953\"],[0.7777777777777778,\"#fb9f3a\"],[0.8888888888888888,\"#fdca26\"],[1.0,\"#f0f921\"]]}],\"mesh3d\":[{\"type\":\"mesh3d\",\"colorbar\":{\"outlinewidth\":0,\"ticks\":\"\"}}],\"scatter\":[{\"fillpattern\":{\"fillmode\":\"overlay\",\"size\":10,\"solidity\":0.2},\"type\":\"scatter\"}],\"parcoords\":[{\"type\":\"parcoords\",\"line\":{\"colorbar\":{\"outlinewidth\":0,\"ticks\":\"\"}}}],\"scatterpolargl\":[{\"type\":\"scatterpolargl\",\"marker\":{\"colorbar\":{\"outlinewidth\":0,\"ticks\":\"\"}}}],\"bar\":[{\"error_x\":{\"color\":\"#2a3f5f\"},\"error_y\":{\"color\":\"#2a3f5f\"},\"marker\":{\"line\":{\"color\":\"#E5ECF6\",\"width\":0.5},\"pattern\":{\"fillmode\":\"overlay\",\"size\":10,\"solidity\":0.2}},\"type\":\"bar\"}],\"scattergeo\":[{\"type\":\"scattergeo\",\"marker\":{\"colorbar\":{\"outlinewidth\":0,\"ticks\":\"\"}}}],\"scatterpolar\":[{\"type\":\"scatterpolar\",\"marker\":{\"colorbar\":{\"outlinewidth\":0,\"ticks\":\"\"}}}],\"histogram\":[{\"marker\":{\"pattern\":{\"fillmode\":\"overlay\",\"size\":10,\"solidity\":0.2}},\"type\":\"histogram\"}],\"scattergl\":[{\"type\":\"scattergl\",\"marker\":{\"colorbar\":{\"outlinewidth\":0,\"ticks\":\"\"}}}],\"scatter3d\":[{\"type\":\"scatter3d\",\"line\":{\"colorbar\":{\"outlinewidth\":0,\"ticks\":\"\"}},\"marker\":{\"colorbar\":{\"outlinewidth\":0,\"ticks\":\"\"}}}],\"scattermapbox\":[{\"type\":\"scattermapbox\",\"marker\":{\"colorbar\":{\"outlinewidth\":0,\"ticks\":\"\"}}}],\"scatterternary\":[{\"type\":\"scatterternary\",\"marker\":{\"colorbar\":{\"outlinewidth\":0,\"ticks\":\"\"}}}],\"scattercarpet\":[{\"type\":\"scattercarpet\",\"marker\":{\"colorbar\":{\"outlinewidth\":0,\"ticks\":\"\"}}}],\"carpet\":[{\"aaxis\":{\"endlinecolor\":\"#2a3f5f\",\"gridcolor\":\"white\",\"linecolor\":\"white\",\"minorgridcolor\":\"white\",\"startlinecolor\":\"#2a3f5f\"},\"baxis\":{\"endlinecolor\":\"#2a3f5f\",\"gridcolor\":\"white\",\"linecolor\":\"white\",\"minorgridcolor\":\"white\",\"startlinecolor\":\"#2a3f5f\"},\"type\":\"carpet\"}],\"table\":[{\"cells\":{\"fill\":{\"color\":\"#EBF0F8\"},\"line\":{\"color\":\"white\"}},\"header\":{\"fill\":{\"color\":\"#C8D4E3\"},\"line\":{\"color\":\"white\"}},\"type\":\"table\"}],\"barpolar\":[{\"marker\":{\"line\":{\"color\":\"#E5ECF6\",\"width\":0.5},\"pattern\":{\"fillmode\":\"overlay\",\"size\":10,\"solidity\":0.2}},\"type\":\"barpolar\"}],\"pie\":[{\"automargin\":true,\"type\":\"pie\"}]},\"layout\":{\"autotypenumbers\":\"strict\",\"colorway\":[\"#636efa\",\"#EF553B\",\"#00cc96\",\"#ab63fa\",\"#FFA15A\",\"#19d3f3\",\"#FF6692\",\"#B6E880\",\"#FF97FF\",\"#FECB52\"],\"font\":{\"color\":\"#2a3f5f\"},\"hovermode\":\"closest\",\"hoverlabel\":{\"align\":\"left\"},\"paper_bgcolor\":\"white\",\"plot_bgcolor\":\"#E5ECF6\",\"polar\":{\"bgcolor\":\"#E5ECF6\",\"angularaxis\":{\"gridcolor\":\"white\",\"linecolor\":\"white\",\"ticks\":\"\"},\"radialaxis\":{\"gridcolor\":\"white\",\"linecolor\":\"white\",\"ticks\":\"\"}},\"ternary\":{\"bgcolor\":\"#E5ECF6\",\"aaxis\":{\"gridcolor\":\"white\",\"linecolor\":\"white\",\"ticks\":\"\"},\"baxis\":{\"gridcolor\":\"white\",\"linecolor\":\"white\",\"ticks\":\"\"},\"caxis\":{\"gridcolor\":\"white\",\"linecolor\":\"white\",\"ticks\":\"\"}},\"coloraxis\":{\"colorbar\":{\"outlinewidth\":0,\"ticks\":\"\"}},\"colorscale\":{\"sequential\":[[0.0,\"#0d0887\"],[0.1111111111111111,\"#46039f\"],[0.2222222222222222,\"#7201a8\"],[0.3333333333333333,\"#9c179e\"],[0.4444444444444444,\"#bd3786\"],[0.5555555555555556,\"#d8576b\"],[0.6666666666666666,\"#ed7953\"],[0.7777777777777778,\"#fb9f3a\"],[0.8888888888888888,\"#fdca26\"],[1.0,\"#f0f921\"]],\"sequentialminus\":[[0.0,\"#0d0887\"],[0.1111111111111111,\"#46039f\"],[0.2222222222222222,\"#7201a8\"],[0.3333333333333333,\"#9c179e\"],[0.4444444444444444,\"#bd3786\"],[0.5555555555555556,\"#d8576b\"],[0.6666666666666666,\"#ed7953\"],[0.7777777777777778,\"#fb9f3a\"],[0.8888888888888888,\"#fdca26\"],[1.0,\"#f0f921\"]],\"diverging\":[[0,\"#8e0152\"],[0.1,\"#c51b7d\"],[0.2,\"#de77ae\"],[0.3,\"#f1b6da\"],[0.4,\"#fde0ef\"],[0.5,\"#f7f7f7\"],[0.6,\"#e6f5d0\"],[0.7,\"#b8e186\"],[0.8,\"#7fbc41\"],[0.9,\"#4d9221\"],[1,\"#276419\"]]},\"xaxis\":{\"gridcolor\":\"white\",\"linecolor\":\"white\",\"ticks\":\"\",\"title\":{\"standoff\":15},\"zerolinecolor\":\"white\",\"automargin\":true,\"zerolinewidth\":2},\"yaxis\":{\"gridcolor\":\"white\",\"linecolor\":\"white\",\"ticks\":\"\",\"title\":{\"standoff\":15},\"zerolinecolor\":\"white\",\"automargin\":true,\"zerolinewidth\":2},\"scene\":{\"xaxis\":{\"backgroundcolor\":\"#E5ECF6\",\"gridcolor\":\"white\",\"linecolor\":\"white\",\"showbackground\":true,\"ticks\":\"\",\"zerolinecolor\":\"white\",\"gridwidth\":2},\"yaxis\":{\"backgroundcolor\":\"#E5ECF6\",\"gridcolor\":\"white\",\"linecolor\":\"white\",\"showbackground\":true,\"ticks\":\"\",\"zerolinecolor\":\"white\",\"gridwidth\":2},\"zaxis\":{\"backgroundcolor\":\"#E5ECF6\",\"gridcolor\":\"white\",\"linecolor\":\"white\",\"showbackground\":true,\"ticks\":\"\",\"zerolinecolor\":\"white\",\"gridwidth\":2}},\"shapedefaults\":{\"line\":{\"color\":\"#2a3f5f\"}},\"annotationdefaults\":{\"arrowcolor\":\"#2a3f5f\",\"arrowhead\":0,\"arrowwidth\":1},\"geo\":{\"bgcolor\":\"white\",\"landcolor\":\"#E5ECF6\",\"subunitcolor\":\"white\",\"showland\":true,\"showlakes\":true,\"lakecolor\":\"white\"},\"title\":{\"x\":0.05},\"mapbox\":{\"style\":\"light\"}}},\"xaxis\":{\"anchor\":\"y\",\"domain\":[0.0,1.0],\"title\":{\"text\":\"% Economically Disadvantaged Students\"},\"range\":[0,100]},\"yaxis\":{\"anchor\":\"x\",\"domain\":[0.0,1.0],\"title\":{\"text\":\"\"},\"categoryorder\":\"array\",\"categoryarray\":[\"High Schools\",\"Middle Schools\",\"Elementary Schools\"],\"showgrid\":true,\"gridwidth\":2,\"gridcolor\":\"lightgray\"},\"legend\":{\"title\":{\"text\":\"Accreditation Status\"},\"tracegroupgap\":0},\"margin\":{\"t\":60},\"boxmode\":\"overlay\",\"height\":500,\"hovermode\":\"x unified\",\"plot_bgcolor\":\"white\"},                        {\"responsive\": true}                    ).then(function(){\n",
       "                            \n",
       "var gd = document.getElementById('8f9b10fb-33bf-4c30-8d30-d8774fcba9fa');\n",
       "var x = new MutationObserver(function (mutations, observer) {{\n",
       "        var display = window.getComputedStyle(gd).display;\n",
       "        if (!display || display === 'none') {{\n",
       "            console.log([gd, 'removed!']);\n",
       "            Plotly.purge(gd);\n",
       "            observer.disconnect();\n",
       "        }}\n",
       "}});\n",
       "\n",
       "// Listen for the removal of the full notebook cells\n",
       "var notebookContainer = gd.closest('#notebook-container');\n",
       "if (notebookContainer) {{\n",
       "    x.observe(notebookContainer, {childList: true});\n",
       "}}\n",
       "\n",
       "// Listen for the clearing of the current output cell\n",
       "var outputEl = gd.closest('.output');\n",
       "if (outputEl) {{\n",
       "    x.observe(outputEl, {childList: true});\n",
       "}}\n",
       "\n",
       "                        })                };                });            </script>        </div>"
      ]
     },
     "metadata": {},
     "output_type": "display_data"
    }
   ],
   "source": [
    "ticktext = ['']\n",
    "fig = px.strip(evic_ed, x='econ_disadv', y='school_type',\n",
    "              color = 'accred',\n",
    "              labels = {'accred':'Accreditation Status','econ_disadv':'% Economically Disadvantaged Students',\n",
    "                        'school_type':'', 'Accredited':'Fully Accredited'},\n",
    "              color_discrete_sequence = ['gray','red'],\n",
    "              category_orders = {'school_type':['Elementary Schools', 'Middle Schools', 'High Schools']},\n",
    "              orientation = 'v',\n",
    "              stripmode = 'overlay',\n",
    "              range_x = [0,100],\n",
    "              height = 500,\n",
    "              hover_data = {'accred':False, 'econ_disadv':':.0f%', 'school_type':False,\n",
    "                            'Month Rate':':.0f%'},\n",
    "              custom_data = ['school', 'Month Rate']\n",
    "              )\n",
    "\n",
    "customdata = np.stack((evic_ed['school'], evic_ed['Month Rate']), axis=-1)\n",
    "\n",
    "fig.update_traces(marker={'size': 14, 'opacity':0.5})\n",
    "\n",
    "fig.update_traces(hovertemplate=('%{customdata[0]}<br>'+'Economically Disadvantaged Students: %{x:.1f}%<br>'+'Eviction Rate in Zipcode: %{customdata[1]}'),\n",
    "                        hoverlabel=dict(\n",
    "                        bgcolor = 'lightgray',\n",
    "                        font_size=16,\n",
    "                        ))\n",
    "\n",
    "fig.update_layout(hovermode=\"x unified\", plot_bgcolor = 'white')\n",
    "fig.update_yaxes(showgrid=True, gridwidth=2, gridcolor='lightgray')\n",
    "\n",
    "\n",
    "\n",
    "fig.show()\n",
    "fig.write_html('econ_disadv_strip.html')\n",
    "fig.write_image('econ_disadv_strip.png')\n"
   ]
  },
  {
   "cell_type": "code",
   "execution_count": 85,
   "id": "13a550b5",
   "metadata": {},
   "outputs": [
    {
     "data": {
      "application/vnd.plotly.v1+json": {
       "config": {
        "plotlyServerURL": "https://plot.ly"
       },
       "data": [
        {
         "alignmentgroup": "True",
         "boxpoints": "all",
         "customdata": [
          [
           "Barack Obama Elementary",
           "16.1%",
           "Fully Accredited"
          ],
          [
           "Richmond Community High",
           "16.1%",
           "Fully Accredited"
          ],
          [
           "Fairfield Court Elementary",
           "13.8%",
           "Fully Accredited"
          ],
          [
           "J.L. Francis Elementary",
           "38.2%",
           "Fully Accredited"
          ],
          [
           "Broad Rock Elementary",
           "32.2%",
           "Fully Accredited"
          ],
          [
           "Elizabeth D. Redd Elementary",
           "42.4%",
           "Fully Accredited"
          ],
          [
           "Patrick Henry School Of Science And Arts",
           "42.4%",
           "Fully Accredited"
          ],
          [
           "Southampton Elementary",
           "42.4%",
           "Fully Accredited"
          ],
          [
           "Richmond Career Education and Employment Charter School",
           "42.4%",
           "Fully Accredited"
          ],
          [
           "William Fox Elementary",
           "10.8%",
           "Fully Accredited"
          ],
          [
           "Open High",
           "10.8%",
           "Fully Accredited"
          ],
          [
           "Linwood Holton Elementary",
           "5.3%",
           "Fully Accredited"
          ],
          [
           "J.B. Fisher Elementary",
           "8.5%",
           "Fully Accredited"
          ],
          [
           "John B. Cary Elementary",
           "2.7%",
           "Fully Accredited"
          ],
          [
           "Mary Munford Elementary",
           "0.8%",
           "Fully Accredited"
          ]
         ],
         "fillcolor": "rgba(255,255,255,0)",
         "hoverlabel": {
          "bgcolor": "lightgray",
          "font": {
           "size": 16
          }
         },
         "hoveron": "points",
         "hovertemplate": "%{customdata[0]}<br>Black Students: %{x:.1f}%<br>Eviction Rate in Zipcode: %{customdata[1]}",
         "hovertext": [
          "Barack Obama Elementary",
          "Richmond Community High",
          "Fairfield Court Elementary",
          "J.L. Francis Elementary",
          "Broad Rock Elementary",
          "Elizabeth D. Redd Elementary",
          "Patrick Henry School Of Science And Arts",
          "Southampton Elementary",
          "Richmond Career Education and Employment Charter School",
          "William Fox Elementary",
          "Open High",
          "Linwood Holton Elementary",
          "J.B. Fisher Elementary",
          "John B. Cary Elementary",
          "Mary Munford Elementary"
         ],
         "legendgroup": "Fully Accredited",
         "line": {
          "color": "rgba(255,255,255,0)"
         },
         "marker": {
          "color": "gray",
          "opacity": 0.5,
          "size": 14
         },
         "name": "Fully Accredited",
         "offsetgroup": "Fully Accredited",
         "orientation": "v",
         "pointpos": 0,
         "showlegend": true,
         "type": "box",
         "x": [
          null,
          57.5,
          91.6,
          38.8,
          46.2,
          56.6,
          47.6,
          71.3,
          null,
          36.8,
          37,
          38.1,
          58.3,
          49.8,
          8.5
         ],
         "x0": " ",
         "xaxis": "x",
         "y": [
          "Elementary Schools",
          "High Schools",
          "Elementary Schools",
          "Elementary Schools",
          "Elementary Schools",
          "Elementary Schools",
          "Elementary Schools",
          "Elementary Schools",
          "High Schools",
          "Elementary Schools",
          "High Schools",
          "Elementary Schools",
          "Elementary Schools",
          "Elementary Schools",
          "Elementary Schools"
         ],
         "y0": " ",
         "yaxis": "y"
        },
        {
         "alignmentgroup": "True",
         "boxpoints": "all",
         "customdata": [
          [
           "Overby-Sheppard Elementary",
           "16.1%",
           "Accredited with Conditions"
          ],
          [
           "Bellevue Elementary",
           "13.8%",
           "Accredited with Conditions"
          ],
          [
           "Chimborazo Elementary",
           "13.8%",
           "Accredited with Conditions"
          ],
          [
           "Henry Marsh III Elementary",
           "13.8%",
           "Accredited with Conditions"
          ],
          [
           "Woodville Elementary",
           "13.8%",
           "Accredited with Conditions"
          ],
          [
           "Martin Luther King Jr. Middle",
           "13.8%",
           "Accredited with Conditions"
          ],
          [
           "Armstrong High",
           "13.8%",
           "Accredited with Conditions"
          ],
          [
           "Blackwell Elementary",
           "38.2%",
           "Accredited with Conditions"
          ],
          [
           "Cardinal Elementary",
           "38.2%",
           "Accredited with Conditions"
          ],
          [
           "Oak Grove/Bellemeade Elementary",
           "38.2%",
           "Accredited with Conditions"
          ],
          [
           "Swansboro Elementary",
           "38.2%",
           "Accredited with Conditions"
          ],
          [
           "River City Middle",
           "38.2%",
           "Accredited with Conditions"
          ],
          [
           "Thomas C. Boushall Middle",
           "32.2%",
           "Accredited with Conditions"
          ],
          [
           "G.H. Reid Elementary",
           "42.4%",
           "Accredited with Conditions"
          ],
          [
           "Miles Jones Elementary",
           "42.4%",
           "Accredited with Conditions"
          ],
          [
           "Westover Hills Elementary",
           "42.4%",
           "Accredited with Conditions"
          ],
          [
           "Lucille M. Brown Middle",
           "42.4%",
           "Accredited with Conditions"
          ],
          [
           "George Wythe High",
           "42.4%",
           "Accredited with Conditions"
          ],
          [
           "Huguenot High",
           "42.4%",
           "Accredited with Conditions"
          ],
          [
           "George W. Carver Elementary",
           "10.8%",
           "Accredited with Conditions"
          ],
          [
           "Binford Middle",
           "10.8%",
           "Accredited with Conditions"
          ],
          [
           "Ginter Park Elementary",
           "5.3%",
           "Accredited with Conditions"
          ],
          [
           "Henderson Middle",
           "5.3%",
           "Accredited with Conditions"
          ],
          [
           "John Marshall High",
           "5.3%",
           "Accredited with Conditions"
          ],
          [
           "Albert Hill Middle",
           "2.7%",
           "Accredited with Conditions"
          ],
          [
           "Thomas Jefferson High",
           "9.1%",
           "Accredited with Conditions"
          ]
         ],
         "fillcolor": "rgba(255,255,255,0)",
         "hoverlabel": {
          "bgcolor": "lightgray",
          "font": {
           "size": 16
          }
         },
         "hoveron": "points",
         "hovertemplate": "%{customdata[0]}<br>Black Students: %{x:.1f}%<br>Eviction Rate in Zipcode: %{customdata[1]}",
         "hovertext": [
          "Overby-Sheppard Elementary",
          "Bellevue Elementary",
          "Chimborazo Elementary",
          "Henry Marsh III Elementary",
          "Woodville Elementary",
          "Martin Luther King Jr. Middle",
          "Armstrong High",
          "Blackwell Elementary",
          "Cardinal Elementary",
          "Oak Grove/Bellemeade Elementary",
          "Swansboro Elementary",
          "River City Middle",
          "Thomas C. Boushall Middle",
          "G.H. Reid Elementary",
          "Miles Jones Elementary",
          "Westover Hills Elementary",
          "Lucille M. Brown Middle",
          "George Wythe High",
          "Huguenot High",
          "George W. Carver Elementary",
          "Binford Middle",
          "Ginter Park Elementary",
          "Henderson Middle",
          "John Marshall High",
          "Albert Hill Middle",
          "Thomas Jefferson High"
         ],
         "legendgroup": "Accredited with Conditions",
         "line": {
          "color": "rgba(255,255,255,0)"
         },
         "marker": {
          "color": "red",
          "opacity": 0.5,
          "size": 14
         },
         "name": "Accredited with Conditions",
         "offsetgroup": "Accredited with Conditions",
         "orientation": "v",
         "pointpos": 0,
         "showlegend": true,
         "type": "box",
         "x": [
          null,
          null,
          78.7,
          92.5,
          93.6,
          90.6,
          90.2,
          85.5,
          13.2,
          70.4,
          77.2,
          38.5,
          51.6,
          36.3,
          59.8,
          null,
          70.6,
          41.7,
          53.4,
          89.8,
          64.8,
          88.6,
          84.9,
          79.5,
          57,
          63.9
         ],
         "x0": " ",
         "xaxis": "x",
         "y": [
          "Elementary Schools",
          "Elementary Schools",
          "Elementary Schools",
          "Elementary Schools",
          "Elementary Schools",
          "Middle Schools",
          "High Schools",
          "Elementary Schools",
          "Elementary Schools",
          "Elementary Schools",
          "Elementary Schools",
          "Middle Schools",
          "Middle Schools",
          "Elementary Schools",
          "Elementary Schools",
          "Elementary Schools",
          "Middle Schools",
          "High Schools",
          "High Schools",
          "Elementary Schools",
          "Middle Schools",
          "Elementary Schools",
          "Middle Schools",
          "High Schools",
          "Middle Schools",
          "High Schools"
         ],
         "y0": " ",
         "yaxis": "y"
        }
       ],
       "layout": {
        "boxmode": "group",
        "height": 500,
        "hovermode": "x unified",
        "legend": {
         "title": {
          "text": "Accreditation Status"
         },
         "tracegroupgap": 0
        },
        "margin": {
         "t": 60
        },
        "plot_bgcolor": "white",
        "template": {
         "data": {
          "bar": [
           {
            "error_x": {
             "color": "#2a3f5f"
            },
            "error_y": {
             "color": "#2a3f5f"
            },
            "marker": {
             "line": {
              "color": "#E5ECF6",
              "width": 0.5
             },
             "pattern": {
              "fillmode": "overlay",
              "size": 10,
              "solidity": 0.2
             }
            },
            "type": "bar"
           }
          ],
          "barpolar": [
           {
            "marker": {
             "line": {
              "color": "#E5ECF6",
              "width": 0.5
             },
             "pattern": {
              "fillmode": "overlay",
              "size": 10,
              "solidity": 0.2
             }
            },
            "type": "barpolar"
           }
          ],
          "carpet": [
           {
            "aaxis": {
             "endlinecolor": "#2a3f5f",
             "gridcolor": "white",
             "linecolor": "white",
             "minorgridcolor": "white",
             "startlinecolor": "#2a3f5f"
            },
            "baxis": {
             "endlinecolor": "#2a3f5f",
             "gridcolor": "white",
             "linecolor": "white",
             "minorgridcolor": "white",
             "startlinecolor": "#2a3f5f"
            },
            "type": "carpet"
           }
          ],
          "choropleth": [
           {
            "colorbar": {
             "outlinewidth": 0,
             "ticks": ""
            },
            "type": "choropleth"
           }
          ],
          "contour": [
           {
            "colorbar": {
             "outlinewidth": 0,
             "ticks": ""
            },
            "colorscale": [
             [
              0,
              "#0d0887"
             ],
             [
              0.1111111111111111,
              "#46039f"
             ],
             [
              0.2222222222222222,
              "#7201a8"
             ],
             [
              0.3333333333333333,
              "#9c179e"
             ],
             [
              0.4444444444444444,
              "#bd3786"
             ],
             [
              0.5555555555555556,
              "#d8576b"
             ],
             [
              0.6666666666666666,
              "#ed7953"
             ],
             [
              0.7777777777777778,
              "#fb9f3a"
             ],
             [
              0.8888888888888888,
              "#fdca26"
             ],
             [
              1,
              "#f0f921"
             ]
            ],
            "type": "contour"
           }
          ],
          "contourcarpet": [
           {
            "colorbar": {
             "outlinewidth": 0,
             "ticks": ""
            },
            "type": "contourcarpet"
           }
          ],
          "heatmap": [
           {
            "colorbar": {
             "outlinewidth": 0,
             "ticks": ""
            },
            "colorscale": [
             [
              0,
              "#0d0887"
             ],
             [
              0.1111111111111111,
              "#46039f"
             ],
             [
              0.2222222222222222,
              "#7201a8"
             ],
             [
              0.3333333333333333,
              "#9c179e"
             ],
             [
              0.4444444444444444,
              "#bd3786"
             ],
             [
              0.5555555555555556,
              "#d8576b"
             ],
             [
              0.6666666666666666,
              "#ed7953"
             ],
             [
              0.7777777777777778,
              "#fb9f3a"
             ],
             [
              0.8888888888888888,
              "#fdca26"
             ],
             [
              1,
              "#f0f921"
             ]
            ],
            "type": "heatmap"
           }
          ],
          "heatmapgl": [
           {
            "colorbar": {
             "outlinewidth": 0,
             "ticks": ""
            },
            "colorscale": [
             [
              0,
              "#0d0887"
             ],
             [
              0.1111111111111111,
              "#46039f"
             ],
             [
              0.2222222222222222,
              "#7201a8"
             ],
             [
              0.3333333333333333,
              "#9c179e"
             ],
             [
              0.4444444444444444,
              "#bd3786"
             ],
             [
              0.5555555555555556,
              "#d8576b"
             ],
             [
              0.6666666666666666,
              "#ed7953"
             ],
             [
              0.7777777777777778,
              "#fb9f3a"
             ],
             [
              0.8888888888888888,
              "#fdca26"
             ],
             [
              1,
              "#f0f921"
             ]
            ],
            "type": "heatmapgl"
           }
          ],
          "histogram": [
           {
            "marker": {
             "pattern": {
              "fillmode": "overlay",
              "size": 10,
              "solidity": 0.2
             }
            },
            "type": "histogram"
           }
          ],
          "histogram2d": [
           {
            "colorbar": {
             "outlinewidth": 0,
             "ticks": ""
            },
            "colorscale": [
             [
              0,
              "#0d0887"
             ],
             [
              0.1111111111111111,
              "#46039f"
             ],
             [
              0.2222222222222222,
              "#7201a8"
             ],
             [
              0.3333333333333333,
              "#9c179e"
             ],
             [
              0.4444444444444444,
              "#bd3786"
             ],
             [
              0.5555555555555556,
              "#d8576b"
             ],
             [
              0.6666666666666666,
              "#ed7953"
             ],
             [
              0.7777777777777778,
              "#fb9f3a"
             ],
             [
              0.8888888888888888,
              "#fdca26"
             ],
             [
              1,
              "#f0f921"
             ]
            ],
            "type": "histogram2d"
           }
          ],
          "histogram2dcontour": [
           {
            "colorbar": {
             "outlinewidth": 0,
             "ticks": ""
            },
            "colorscale": [
             [
              0,
              "#0d0887"
             ],
             [
              0.1111111111111111,
              "#46039f"
             ],
             [
              0.2222222222222222,
              "#7201a8"
             ],
             [
              0.3333333333333333,
              "#9c179e"
             ],
             [
              0.4444444444444444,
              "#bd3786"
             ],
             [
              0.5555555555555556,
              "#d8576b"
             ],
             [
              0.6666666666666666,
              "#ed7953"
             ],
             [
              0.7777777777777778,
              "#fb9f3a"
             ],
             [
              0.8888888888888888,
              "#fdca26"
             ],
             [
              1,
              "#f0f921"
             ]
            ],
            "type": "histogram2dcontour"
           }
          ],
          "mesh3d": [
           {
            "colorbar": {
             "outlinewidth": 0,
             "ticks": ""
            },
            "type": "mesh3d"
           }
          ],
          "parcoords": [
           {
            "line": {
             "colorbar": {
              "outlinewidth": 0,
              "ticks": ""
             }
            },
            "type": "parcoords"
           }
          ],
          "pie": [
           {
            "automargin": true,
            "type": "pie"
           }
          ],
          "scatter": [
           {
            "fillpattern": {
             "fillmode": "overlay",
             "size": 10,
             "solidity": 0.2
            },
            "type": "scatter"
           }
          ],
          "scatter3d": [
           {
            "line": {
             "colorbar": {
              "outlinewidth": 0,
              "ticks": ""
             }
            },
            "marker": {
             "colorbar": {
              "outlinewidth": 0,
              "ticks": ""
             }
            },
            "type": "scatter3d"
           }
          ],
          "scattercarpet": [
           {
            "marker": {
             "colorbar": {
              "outlinewidth": 0,
              "ticks": ""
             }
            },
            "type": "scattercarpet"
           }
          ],
          "scattergeo": [
           {
            "marker": {
             "colorbar": {
              "outlinewidth": 0,
              "ticks": ""
             }
            },
            "type": "scattergeo"
           }
          ],
          "scattergl": [
           {
            "marker": {
             "colorbar": {
              "outlinewidth": 0,
              "ticks": ""
             }
            },
            "type": "scattergl"
           }
          ],
          "scattermapbox": [
           {
            "marker": {
             "colorbar": {
              "outlinewidth": 0,
              "ticks": ""
             }
            },
            "type": "scattermapbox"
           }
          ],
          "scatterpolar": [
           {
            "marker": {
             "colorbar": {
              "outlinewidth": 0,
              "ticks": ""
             }
            },
            "type": "scatterpolar"
           }
          ],
          "scatterpolargl": [
           {
            "marker": {
             "colorbar": {
              "outlinewidth": 0,
              "ticks": ""
             }
            },
            "type": "scatterpolargl"
           }
          ],
          "scatterternary": [
           {
            "marker": {
             "colorbar": {
              "outlinewidth": 0,
              "ticks": ""
             }
            },
            "type": "scatterternary"
           }
          ],
          "surface": [
           {
            "colorbar": {
             "outlinewidth": 0,
             "ticks": ""
            },
            "colorscale": [
             [
              0,
              "#0d0887"
             ],
             [
              0.1111111111111111,
              "#46039f"
             ],
             [
              0.2222222222222222,
              "#7201a8"
             ],
             [
              0.3333333333333333,
              "#9c179e"
             ],
             [
              0.4444444444444444,
              "#bd3786"
             ],
             [
              0.5555555555555556,
              "#d8576b"
             ],
             [
              0.6666666666666666,
              "#ed7953"
             ],
             [
              0.7777777777777778,
              "#fb9f3a"
             ],
             [
              0.8888888888888888,
              "#fdca26"
             ],
             [
              1,
              "#f0f921"
             ]
            ],
            "type": "surface"
           }
          ],
          "table": [
           {
            "cells": {
             "fill": {
              "color": "#EBF0F8"
             },
             "line": {
              "color": "white"
             }
            },
            "header": {
             "fill": {
              "color": "#C8D4E3"
             },
             "line": {
              "color": "white"
             }
            },
            "type": "table"
           }
          ]
         },
         "layout": {
          "annotationdefaults": {
           "arrowcolor": "#2a3f5f",
           "arrowhead": 0,
           "arrowwidth": 1
          },
          "autotypenumbers": "strict",
          "coloraxis": {
           "colorbar": {
            "outlinewidth": 0,
            "ticks": ""
           }
          },
          "colorscale": {
           "diverging": [
            [
             0,
             "#8e0152"
            ],
            [
             0.1,
             "#c51b7d"
            ],
            [
             0.2,
             "#de77ae"
            ],
            [
             0.3,
             "#f1b6da"
            ],
            [
             0.4,
             "#fde0ef"
            ],
            [
             0.5,
             "#f7f7f7"
            ],
            [
             0.6,
             "#e6f5d0"
            ],
            [
             0.7,
             "#b8e186"
            ],
            [
             0.8,
             "#7fbc41"
            ],
            [
             0.9,
             "#4d9221"
            ],
            [
             1,
             "#276419"
            ]
           ],
           "sequential": [
            [
             0,
             "#0d0887"
            ],
            [
             0.1111111111111111,
             "#46039f"
            ],
            [
             0.2222222222222222,
             "#7201a8"
            ],
            [
             0.3333333333333333,
             "#9c179e"
            ],
            [
             0.4444444444444444,
             "#bd3786"
            ],
            [
             0.5555555555555556,
             "#d8576b"
            ],
            [
             0.6666666666666666,
             "#ed7953"
            ],
            [
             0.7777777777777778,
             "#fb9f3a"
            ],
            [
             0.8888888888888888,
             "#fdca26"
            ],
            [
             1,
             "#f0f921"
            ]
           ],
           "sequentialminus": [
            [
             0,
             "#0d0887"
            ],
            [
             0.1111111111111111,
             "#46039f"
            ],
            [
             0.2222222222222222,
             "#7201a8"
            ],
            [
             0.3333333333333333,
             "#9c179e"
            ],
            [
             0.4444444444444444,
             "#bd3786"
            ],
            [
             0.5555555555555556,
             "#d8576b"
            ],
            [
             0.6666666666666666,
             "#ed7953"
            ],
            [
             0.7777777777777778,
             "#fb9f3a"
            ],
            [
             0.8888888888888888,
             "#fdca26"
            ],
            [
             1,
             "#f0f921"
            ]
           ]
          },
          "colorway": [
           "#636efa",
           "#EF553B",
           "#00cc96",
           "#ab63fa",
           "#FFA15A",
           "#19d3f3",
           "#FF6692",
           "#B6E880",
           "#FF97FF",
           "#FECB52"
          ],
          "font": {
           "color": "#2a3f5f"
          },
          "geo": {
           "bgcolor": "white",
           "lakecolor": "white",
           "landcolor": "#E5ECF6",
           "showlakes": true,
           "showland": true,
           "subunitcolor": "white"
          },
          "hoverlabel": {
           "align": "left"
          },
          "hovermode": "closest",
          "mapbox": {
           "style": "light"
          },
          "paper_bgcolor": "white",
          "plot_bgcolor": "#E5ECF6",
          "polar": {
           "angularaxis": {
            "gridcolor": "white",
            "linecolor": "white",
            "ticks": ""
           },
           "bgcolor": "#E5ECF6",
           "radialaxis": {
            "gridcolor": "white",
            "linecolor": "white",
            "ticks": ""
           }
          },
          "scene": {
           "xaxis": {
            "backgroundcolor": "#E5ECF6",
            "gridcolor": "white",
            "gridwidth": 2,
            "linecolor": "white",
            "showbackground": true,
            "ticks": "",
            "zerolinecolor": "white"
           },
           "yaxis": {
            "backgroundcolor": "#E5ECF6",
            "gridcolor": "white",
            "gridwidth": 2,
            "linecolor": "white",
            "showbackground": true,
            "ticks": "",
            "zerolinecolor": "white"
           },
           "zaxis": {
            "backgroundcolor": "#E5ECF6",
            "gridcolor": "white",
            "gridwidth": 2,
            "linecolor": "white",
            "showbackground": true,
            "ticks": "",
            "zerolinecolor": "white"
           }
          },
          "shapedefaults": {
           "line": {
            "color": "#2a3f5f"
           }
          },
          "ternary": {
           "aaxis": {
            "gridcolor": "white",
            "linecolor": "white",
            "ticks": ""
           },
           "baxis": {
            "gridcolor": "white",
            "linecolor": "white",
            "ticks": ""
           },
           "bgcolor": "#E5ECF6",
           "caxis": {
            "gridcolor": "white",
            "linecolor": "white",
            "ticks": ""
           }
          },
          "title": {
           "x": 0.05
          },
          "xaxis": {
           "automargin": true,
           "gridcolor": "white",
           "linecolor": "white",
           "ticks": "",
           "title": {
            "standoff": 15
           },
           "zerolinecolor": "white",
           "zerolinewidth": 2
          },
          "yaxis": {
           "automargin": true,
           "gridcolor": "white",
           "linecolor": "white",
           "ticks": "",
           "title": {
            "standoff": 15
           },
           "zerolinecolor": "white",
           "zerolinewidth": 2
          }
         }
        },
        "xaxis": {
         "anchor": "y",
         "domain": [
          0,
          1
         ],
         "range": [
          0,
          100
         ],
         "title": {
          "text": "black"
         }
        },
        "yaxis": {
         "anchor": "x",
         "categoryarray": [
          "High Schools",
          "Middle Schools",
          "Elementary Schools"
         ],
         "categoryorder": "array",
         "domain": [
          0,
          1
         ],
         "gridcolor": "lightgray",
         "gridwidth": 2,
         "showgrid": true,
         "title": {
          "text": ""
         }
        }
       }
      },
      "text/html": [
       "<div>                            <div id=\"0d96cd84-d2a8-4a77-ba1e-9419d239a649\" class=\"plotly-graph-div\" style=\"height:500px; width:100%;\"></div>            <script type=\"text/javascript\">                require([\"plotly\"], function(Plotly) {                    window.PLOTLYENV=window.PLOTLYENV || {};                                    if (document.getElementById(\"0d96cd84-d2a8-4a77-ba1e-9419d239a649\")) {                    Plotly.newPlot(                        \"0d96cd84-d2a8-4a77-ba1e-9419d239a649\",                        [{\"alignmentgroup\":\"True\",\"boxpoints\":\"all\",\"customdata\":[[\"Barack Obama Elementary\",\"16.1%\",\"Fully Accredited\"],[\"Richmond Community High\",\"16.1%\",\"Fully Accredited\"],[\"Fairfield Court Elementary\",\"13.8%\",\"Fully Accredited\"],[\"J.L. Francis Elementary\",\"38.2%\",\"Fully Accredited\"],[\"Broad Rock Elementary\",\"32.2%\",\"Fully Accredited\"],[\"Elizabeth D. Redd Elementary\",\"42.4%\",\"Fully Accredited\"],[\"Patrick Henry School Of Science And Arts\",\"42.4%\",\"Fully Accredited\"],[\"Southampton Elementary\",\"42.4%\",\"Fully Accredited\"],[\"Richmond Career Education and Employment Charter School\",\"42.4%\",\"Fully Accredited\"],[\"William Fox Elementary\",\"10.8%\",\"Fully Accredited\"],[\"Open High\",\"10.8%\",\"Fully Accredited\"],[\"Linwood Holton Elementary\",\"5.3%\",\"Fully Accredited\"],[\"J.B. Fisher Elementary\",\"8.5%\",\"Fully Accredited\"],[\"John B. Cary Elementary\",\"2.7%\",\"Fully Accredited\"],[\"Mary Munford Elementary\",\"0.8%\",\"Fully Accredited\"]],\"fillcolor\":\"rgba(255,255,255,0)\",\"hoveron\":\"points\",\"hovertemplate\":\"%{customdata[0]}<br>Black Students: %{x:.1f}%<br>Eviction Rate in Zipcode: %{customdata[1]}\",\"hovertext\":[\"Barack Obama Elementary\",\"Richmond Community High\",\"Fairfield Court Elementary\",\"J.L. Francis Elementary\",\"Broad Rock Elementary\",\"Elizabeth D. Redd Elementary\",\"Patrick Henry School Of Science And Arts\",\"Southampton Elementary\",\"Richmond Career Education and Employment Charter School\",\"William Fox Elementary\",\"Open High\",\"Linwood Holton Elementary\",\"J.B. Fisher Elementary\",\"John B. Cary Elementary\",\"Mary Munford Elementary\"],\"legendgroup\":\"Fully Accredited\",\"line\":{\"color\":\"rgba(255,255,255,0)\"},\"marker\":{\"color\":\"gray\",\"opacity\":0.5,\"size\":14},\"name\":\"Fully Accredited\",\"offsetgroup\":\"Fully Accredited\",\"orientation\":\"v\",\"pointpos\":0,\"showlegend\":true,\"x\":[null,57.5,91.6,38.8,46.2,56.6,47.6,71.3,null,36.8,37.0,38.1,58.3,49.8,8.5],\"x0\":\" \",\"xaxis\":\"x\",\"y\":[\"Elementary Schools\",\"High Schools\",\"Elementary Schools\",\"Elementary Schools\",\"Elementary Schools\",\"Elementary Schools\",\"Elementary Schools\",\"Elementary Schools\",\"High Schools\",\"Elementary Schools\",\"High Schools\",\"Elementary Schools\",\"Elementary Schools\",\"Elementary Schools\",\"Elementary Schools\"],\"y0\":\" \",\"yaxis\":\"y\",\"type\":\"box\",\"hoverlabel\":{\"font\":{\"size\":16},\"bgcolor\":\"lightgray\"}},{\"alignmentgroup\":\"True\",\"boxpoints\":\"all\",\"customdata\":[[\"Overby-Sheppard Elementary\",\"16.1%\",\"Accredited with Conditions\"],[\"Bellevue Elementary\",\"13.8%\",\"Accredited with Conditions\"],[\"Chimborazo Elementary\",\"13.8%\",\"Accredited with Conditions\"],[\"Henry Marsh III Elementary\",\"13.8%\",\"Accredited with Conditions\"],[\"Woodville Elementary\",\"13.8%\",\"Accredited with Conditions\"],[\"Martin Luther King Jr. Middle\",\"13.8%\",\"Accredited with Conditions\"],[\"Armstrong High\",\"13.8%\",\"Accredited with Conditions\"],[\"Blackwell Elementary\",\"38.2%\",\"Accredited with Conditions\"],[\"Cardinal Elementary\",\"38.2%\",\"Accredited with Conditions\"],[\"Oak Grove/Bellemeade Elementary\",\"38.2%\",\"Accredited with Conditions\"],[\"Swansboro Elementary\",\"38.2%\",\"Accredited with Conditions\"],[\"River City Middle\",\"38.2%\",\"Accredited with Conditions\"],[\"Thomas C. Boushall Middle\",\"32.2%\",\"Accredited with Conditions\"],[\"G.H. Reid Elementary\",\"42.4%\",\"Accredited with Conditions\"],[\"Miles Jones Elementary\",\"42.4%\",\"Accredited with Conditions\"],[\"Westover Hills Elementary\",\"42.4%\",\"Accredited with Conditions\"],[\"Lucille M. Brown Middle\",\"42.4%\",\"Accredited with Conditions\"],[\"George Wythe High\",\"42.4%\",\"Accredited with Conditions\"],[\"Huguenot High\",\"42.4%\",\"Accredited with Conditions\"],[\"George W. Carver Elementary\",\"10.8%\",\"Accredited with Conditions\"],[\"Binford Middle\",\"10.8%\",\"Accredited with Conditions\"],[\"Ginter Park Elementary\",\"5.3%\",\"Accredited with Conditions\"],[\"Henderson Middle\",\"5.3%\",\"Accredited with Conditions\"],[\"John Marshall High\",\"5.3%\",\"Accredited with Conditions\"],[\"Albert Hill Middle\",\"2.7%\",\"Accredited with Conditions\"],[\"Thomas Jefferson High\",\"9.1%\",\"Accredited with Conditions\"]],\"fillcolor\":\"rgba(255,255,255,0)\",\"hoveron\":\"points\",\"hovertemplate\":\"%{customdata[0]}<br>Black Students: %{x:.1f}%<br>Eviction Rate in Zipcode: %{customdata[1]}\",\"hovertext\":[\"Overby-Sheppard Elementary\",\"Bellevue Elementary\",\"Chimborazo Elementary\",\"Henry Marsh III Elementary\",\"Woodville Elementary\",\"Martin Luther King Jr. Middle\",\"Armstrong High\",\"Blackwell Elementary\",\"Cardinal Elementary\",\"Oak Grove/Bellemeade Elementary\",\"Swansboro Elementary\",\"River City Middle\",\"Thomas C. Boushall Middle\",\"G.H. Reid Elementary\",\"Miles Jones Elementary\",\"Westover Hills Elementary\",\"Lucille M. Brown Middle\",\"George Wythe High\",\"Huguenot High\",\"George W. Carver Elementary\",\"Binford Middle\",\"Ginter Park Elementary\",\"Henderson Middle\",\"John Marshall High\",\"Albert Hill Middle\",\"Thomas Jefferson High\"],\"legendgroup\":\"Accredited with Conditions\",\"line\":{\"color\":\"rgba(255,255,255,0)\"},\"marker\":{\"color\":\"red\",\"opacity\":0.5,\"size\":14},\"name\":\"Accredited with Conditions\",\"offsetgroup\":\"Accredited with Conditions\",\"orientation\":\"v\",\"pointpos\":0,\"showlegend\":true,\"x\":[null,null,78.7,92.5,93.6,90.6,90.2,85.5,13.2,70.4,77.2,38.5,51.6,36.3,59.8,null,70.6,41.7,53.4,89.8,64.8,88.6,84.9,79.5,57.0,63.9],\"x0\":\" \",\"xaxis\":\"x\",\"y\":[\"Elementary Schools\",\"Elementary Schools\",\"Elementary Schools\",\"Elementary Schools\",\"Elementary Schools\",\"Middle Schools\",\"High Schools\",\"Elementary Schools\",\"Elementary Schools\",\"Elementary Schools\",\"Elementary Schools\",\"Middle Schools\",\"Middle Schools\",\"Elementary Schools\",\"Elementary Schools\",\"Elementary Schools\",\"Middle Schools\",\"High Schools\",\"High Schools\",\"Elementary Schools\",\"Middle Schools\",\"Elementary Schools\",\"Middle Schools\",\"High Schools\",\"Middle Schools\",\"High Schools\"],\"y0\":\" \",\"yaxis\":\"y\",\"type\":\"box\",\"hoverlabel\":{\"font\":{\"size\":16},\"bgcolor\":\"lightgray\"}}],                        {\"template\":{\"data\":{\"histogram2dcontour\":[{\"type\":\"histogram2dcontour\",\"colorbar\":{\"outlinewidth\":0,\"ticks\":\"\"},\"colorscale\":[[0.0,\"#0d0887\"],[0.1111111111111111,\"#46039f\"],[0.2222222222222222,\"#7201a8\"],[0.3333333333333333,\"#9c179e\"],[0.4444444444444444,\"#bd3786\"],[0.5555555555555556,\"#d8576b\"],[0.6666666666666666,\"#ed7953\"],[0.7777777777777778,\"#fb9f3a\"],[0.8888888888888888,\"#fdca26\"],[1.0,\"#f0f921\"]]}],\"choropleth\":[{\"type\":\"choropleth\",\"colorbar\":{\"outlinewidth\":0,\"ticks\":\"\"}}],\"histogram2d\":[{\"type\":\"histogram2d\",\"colorbar\":{\"outlinewidth\":0,\"ticks\":\"\"},\"colorscale\":[[0.0,\"#0d0887\"],[0.1111111111111111,\"#46039f\"],[0.2222222222222222,\"#7201a8\"],[0.3333333333333333,\"#9c179e\"],[0.4444444444444444,\"#bd3786\"],[0.5555555555555556,\"#d8576b\"],[0.6666666666666666,\"#ed7953\"],[0.7777777777777778,\"#fb9f3a\"],[0.8888888888888888,\"#fdca26\"],[1.0,\"#f0f921\"]]}],\"heatmap\":[{\"type\":\"heatmap\",\"colorbar\":{\"outlinewidth\":0,\"ticks\":\"\"},\"colorscale\":[[0.0,\"#0d0887\"],[0.1111111111111111,\"#46039f\"],[0.2222222222222222,\"#7201a8\"],[0.3333333333333333,\"#9c179e\"],[0.4444444444444444,\"#bd3786\"],[0.5555555555555556,\"#d8576b\"],[0.6666666666666666,\"#ed7953\"],[0.7777777777777778,\"#fb9f3a\"],[0.8888888888888888,\"#fdca26\"],[1.0,\"#f0f921\"]]}],\"heatmapgl\":[{\"type\":\"heatmapgl\",\"colorbar\":{\"outlinewidth\":0,\"ticks\":\"\"},\"colorscale\":[[0.0,\"#0d0887\"],[0.1111111111111111,\"#46039f\"],[0.2222222222222222,\"#7201a8\"],[0.3333333333333333,\"#9c179e\"],[0.4444444444444444,\"#bd3786\"],[0.5555555555555556,\"#d8576b\"],[0.6666666666666666,\"#ed7953\"],[0.7777777777777778,\"#fb9f3a\"],[0.8888888888888888,\"#fdca26\"],[1.0,\"#f0f921\"]]}],\"contourcarpet\":[{\"type\":\"contourcarpet\",\"colorbar\":{\"outlinewidth\":0,\"ticks\":\"\"}}],\"contour\":[{\"type\":\"contour\",\"colorbar\":{\"outlinewidth\":0,\"ticks\":\"\"},\"colorscale\":[[0.0,\"#0d0887\"],[0.1111111111111111,\"#46039f\"],[0.2222222222222222,\"#7201a8\"],[0.3333333333333333,\"#9c179e\"],[0.4444444444444444,\"#bd3786\"],[0.5555555555555556,\"#d8576b\"],[0.6666666666666666,\"#ed7953\"],[0.7777777777777778,\"#fb9f3a\"],[0.8888888888888888,\"#fdca26\"],[1.0,\"#f0f921\"]]}],\"surface\":[{\"type\":\"surface\",\"colorbar\":{\"outlinewidth\":0,\"ticks\":\"\"},\"colorscale\":[[0.0,\"#0d0887\"],[0.1111111111111111,\"#46039f\"],[0.2222222222222222,\"#7201a8\"],[0.3333333333333333,\"#9c179e\"],[0.4444444444444444,\"#bd3786\"],[0.5555555555555556,\"#d8576b\"],[0.6666666666666666,\"#ed7953\"],[0.7777777777777778,\"#fb9f3a\"],[0.8888888888888888,\"#fdca26\"],[1.0,\"#f0f921\"]]}],\"mesh3d\":[{\"type\":\"mesh3d\",\"colorbar\":{\"outlinewidth\":0,\"ticks\":\"\"}}],\"scatter\":[{\"fillpattern\":{\"fillmode\":\"overlay\",\"size\":10,\"solidity\":0.2},\"type\":\"scatter\"}],\"parcoords\":[{\"type\":\"parcoords\",\"line\":{\"colorbar\":{\"outlinewidth\":0,\"ticks\":\"\"}}}],\"scatterpolargl\":[{\"type\":\"scatterpolargl\",\"marker\":{\"colorbar\":{\"outlinewidth\":0,\"ticks\":\"\"}}}],\"bar\":[{\"error_x\":{\"color\":\"#2a3f5f\"},\"error_y\":{\"color\":\"#2a3f5f\"},\"marker\":{\"line\":{\"color\":\"#E5ECF6\",\"width\":0.5},\"pattern\":{\"fillmode\":\"overlay\",\"size\":10,\"solidity\":0.2}},\"type\":\"bar\"}],\"scattergeo\":[{\"type\":\"scattergeo\",\"marker\":{\"colorbar\":{\"outlinewidth\":0,\"ticks\":\"\"}}}],\"scatterpolar\":[{\"type\":\"scatterpolar\",\"marker\":{\"colorbar\":{\"outlinewidth\":0,\"ticks\":\"\"}}}],\"histogram\":[{\"marker\":{\"pattern\":{\"fillmode\":\"overlay\",\"size\":10,\"solidity\":0.2}},\"type\":\"histogram\"}],\"scattergl\":[{\"type\":\"scattergl\",\"marker\":{\"colorbar\":{\"outlinewidth\":0,\"ticks\":\"\"}}}],\"scatter3d\":[{\"type\":\"scatter3d\",\"line\":{\"colorbar\":{\"outlinewidth\":0,\"ticks\":\"\"}},\"marker\":{\"colorbar\":{\"outlinewidth\":0,\"ticks\":\"\"}}}],\"scattermapbox\":[{\"type\":\"scattermapbox\",\"marker\":{\"colorbar\":{\"outlinewidth\":0,\"ticks\":\"\"}}}],\"scatterternary\":[{\"type\":\"scatterternary\",\"marker\":{\"colorbar\":{\"outlinewidth\":0,\"ticks\":\"\"}}}],\"scattercarpet\":[{\"type\":\"scattercarpet\",\"marker\":{\"colorbar\":{\"outlinewidth\":0,\"ticks\":\"\"}}}],\"carpet\":[{\"aaxis\":{\"endlinecolor\":\"#2a3f5f\",\"gridcolor\":\"white\",\"linecolor\":\"white\",\"minorgridcolor\":\"white\",\"startlinecolor\":\"#2a3f5f\"},\"baxis\":{\"endlinecolor\":\"#2a3f5f\",\"gridcolor\":\"white\",\"linecolor\":\"white\",\"minorgridcolor\":\"white\",\"startlinecolor\":\"#2a3f5f\"},\"type\":\"carpet\"}],\"table\":[{\"cells\":{\"fill\":{\"color\":\"#EBF0F8\"},\"line\":{\"color\":\"white\"}},\"header\":{\"fill\":{\"color\":\"#C8D4E3\"},\"line\":{\"color\":\"white\"}},\"type\":\"table\"}],\"barpolar\":[{\"marker\":{\"line\":{\"color\":\"#E5ECF6\",\"width\":0.5},\"pattern\":{\"fillmode\":\"overlay\",\"size\":10,\"solidity\":0.2}},\"type\":\"barpolar\"}],\"pie\":[{\"automargin\":true,\"type\":\"pie\"}]},\"layout\":{\"autotypenumbers\":\"strict\",\"colorway\":[\"#636efa\",\"#EF553B\",\"#00cc96\",\"#ab63fa\",\"#FFA15A\",\"#19d3f3\",\"#FF6692\",\"#B6E880\",\"#FF97FF\",\"#FECB52\"],\"font\":{\"color\":\"#2a3f5f\"},\"hovermode\":\"closest\",\"hoverlabel\":{\"align\":\"left\"},\"paper_bgcolor\":\"white\",\"plot_bgcolor\":\"#E5ECF6\",\"polar\":{\"bgcolor\":\"#E5ECF6\",\"angularaxis\":{\"gridcolor\":\"white\",\"linecolor\":\"white\",\"ticks\":\"\"},\"radialaxis\":{\"gridcolor\":\"white\",\"linecolor\":\"white\",\"ticks\":\"\"}},\"ternary\":{\"bgcolor\":\"#E5ECF6\",\"aaxis\":{\"gridcolor\":\"white\",\"linecolor\":\"white\",\"ticks\":\"\"},\"baxis\":{\"gridcolor\":\"white\",\"linecolor\":\"white\",\"ticks\":\"\"},\"caxis\":{\"gridcolor\":\"white\",\"linecolor\":\"white\",\"ticks\":\"\"}},\"coloraxis\":{\"colorbar\":{\"outlinewidth\":0,\"ticks\":\"\"}},\"colorscale\":{\"sequential\":[[0.0,\"#0d0887\"],[0.1111111111111111,\"#46039f\"],[0.2222222222222222,\"#7201a8\"],[0.3333333333333333,\"#9c179e\"],[0.4444444444444444,\"#bd3786\"],[0.5555555555555556,\"#d8576b\"],[0.6666666666666666,\"#ed7953\"],[0.7777777777777778,\"#fb9f3a\"],[0.8888888888888888,\"#fdca26\"],[1.0,\"#f0f921\"]],\"sequentialminus\":[[0.0,\"#0d0887\"],[0.1111111111111111,\"#46039f\"],[0.2222222222222222,\"#7201a8\"],[0.3333333333333333,\"#9c179e\"],[0.4444444444444444,\"#bd3786\"],[0.5555555555555556,\"#d8576b\"],[0.6666666666666666,\"#ed7953\"],[0.7777777777777778,\"#fb9f3a\"],[0.8888888888888888,\"#fdca26\"],[1.0,\"#f0f921\"]],\"diverging\":[[0,\"#8e0152\"],[0.1,\"#c51b7d\"],[0.2,\"#de77ae\"],[0.3,\"#f1b6da\"],[0.4,\"#fde0ef\"],[0.5,\"#f7f7f7\"],[0.6,\"#e6f5d0\"],[0.7,\"#b8e186\"],[0.8,\"#7fbc41\"],[0.9,\"#4d9221\"],[1,\"#276419\"]]},\"xaxis\":{\"gridcolor\":\"white\",\"linecolor\":\"white\",\"ticks\":\"\",\"title\":{\"standoff\":15},\"zerolinecolor\":\"white\",\"automargin\":true,\"zerolinewidth\":2},\"yaxis\":{\"gridcolor\":\"white\",\"linecolor\":\"white\",\"ticks\":\"\",\"title\":{\"standoff\":15},\"zerolinecolor\":\"white\",\"automargin\":true,\"zerolinewidth\":2},\"scene\":{\"xaxis\":{\"backgroundcolor\":\"#E5ECF6\",\"gridcolor\":\"white\",\"linecolor\":\"white\",\"showbackground\":true,\"ticks\":\"\",\"zerolinecolor\":\"white\",\"gridwidth\":2},\"yaxis\":{\"backgroundcolor\":\"#E5ECF6\",\"gridcolor\":\"white\",\"linecolor\":\"white\",\"showbackground\":true,\"ticks\":\"\",\"zerolinecolor\":\"white\",\"gridwidth\":2},\"zaxis\":{\"backgroundcolor\":\"#E5ECF6\",\"gridcolor\":\"white\",\"linecolor\":\"white\",\"showbackground\":true,\"ticks\":\"\",\"zerolinecolor\":\"white\",\"gridwidth\":2}},\"shapedefaults\":{\"line\":{\"color\":\"#2a3f5f\"}},\"annotationdefaults\":{\"arrowcolor\":\"#2a3f5f\",\"arrowhead\":0,\"arrowwidth\":1},\"geo\":{\"bgcolor\":\"white\",\"landcolor\":\"#E5ECF6\",\"subunitcolor\":\"white\",\"showland\":true,\"showlakes\":true,\"lakecolor\":\"white\"},\"title\":{\"x\":0.05},\"mapbox\":{\"style\":\"light\"}}},\"xaxis\":{\"anchor\":\"y\",\"domain\":[0.0,1.0],\"title\":{\"text\":\"black\"},\"range\":[0,100]},\"yaxis\":{\"anchor\":\"x\",\"domain\":[0.0,1.0],\"title\":{\"text\":\"\"},\"categoryorder\":\"array\",\"categoryarray\":[\"High Schools\",\"Middle Schools\",\"Elementary Schools\"],\"showgrid\":true,\"gridwidth\":2,\"gridcolor\":\"lightgray\"},\"legend\":{\"title\":{\"text\":\"Accreditation Status\"},\"tracegroupgap\":0},\"margin\":{\"t\":60},\"boxmode\":\"group\",\"height\":500,\"hovermode\":\"x unified\",\"plot_bgcolor\":\"white\"},                        {\"responsive\": true}                    ).then(function(){\n",
       "                            \n",
       "var gd = document.getElementById('0d96cd84-d2a8-4a77-ba1e-9419d239a649');\n",
       "var x = new MutationObserver(function (mutations, observer) {{\n",
       "        var display = window.getComputedStyle(gd).display;\n",
       "        if (!display || display === 'none') {{\n",
       "            console.log([gd, 'removed!']);\n",
       "            Plotly.purge(gd);\n",
       "            observer.disconnect();\n",
       "        }}\n",
       "}});\n",
       "\n",
       "// Listen for the removal of the full notebook cells\n",
       "var notebookContainer = gd.closest('#notebook-container');\n",
       "if (notebookContainer) {{\n",
       "    x.observe(notebookContainer, {childList: true});\n",
       "}}\n",
       "\n",
       "// Listen for the clearing of the current output cell\n",
       "var outputEl = gd.closest('.output');\n",
       "if (outputEl) {{\n",
       "    x.observe(outputEl, {childList: true});\n",
       "}}\n",
       "\n",
       "                        })                };                });            </script>        </div>"
      ]
     },
     "metadata": {},
     "output_type": "display_data"
    }
   ],
   "source": [
    "fig = px.strip(evic_ed, x='black', y='school_type',\n",
    "              color = 'accred',\n",
    "              labels = {'accred':'Accreditation Status','econ_disadv':'% Economically Disadvantaged Students',\n",
    "                        'school_type':'', 'Accredited':'Fully Accredited'},\n",
    "              hover_data = {'accred':False, 'black':':.0f%', 'school_type':False},\n",
    "              hover_name = 'school',\n",
    "              category_orders = {'school_type':['Elementary Schools', 'Middle Schools', 'High Schools']},\n",
    "              orientation = 'v',\n",
    "              stripmode = 'group',\n",
    "              range_x = [0,100],\n",
    "              height = 500,\n",
    "              custom_data = ['school', 'Month Rate'],\n",
    "              color_discrete_sequence = ['gray','red'],\n",
    "\n",
    "               \n",
    "              )\n",
    "fig.update_traces(marker={'size': 14, 'opacity':0.5})\n",
    "\n",
    "fig.update_traces(hovertemplate=('%{customdata[0]}<br>'+'Black Students: %{x:.1f}%<br>'+'Eviction Rate in Zipcode: %{customdata[1]}'),\n",
    "                        hoverlabel=dict(\n",
    "                        bgcolor = 'lightgray',\n",
    "                        font_size=16,\n",
    "                        ))\n",
    "\n",
    "fig.update_layout(hovermode=\"x unified\", plot_bgcolor = 'white')\n",
    "fig.update_yaxes(showgrid=True, gridwidth=2, gridcolor='lightgray')\n",
    "fig.write_html('afr_am_strip.html')\n",
    "fig.write_image('afr_am_strip.png')\n",
    "\n",
    "fig.show()"
   ]
  },
  {
   "cell_type": "code",
   "execution_count": 86,
   "id": "23f93470",
   "metadata": {},
   "outputs": [
    {
     "data": {
      "application/vnd.plotly.v1+json": {
       "config": {
        "plotlyServerURL": "https://plot.ly"
       },
       "data": [
        {
         "alignmentgroup": "True",
         "boxpoints": "all",
         "customdata": [
          [
           "Barack Obama Elementary",
           "16.1%",
           "Fully Accredited",
           null
          ],
          [
           "Richmond Community High",
           "16.1%",
           "Fully Accredited",
           57.5
          ],
          [
           "Fairfield Court Elementary",
           "13.8%",
           "Fully Accredited",
           91.6
          ],
          [
           "J.L. Francis Elementary",
           "38.2%",
           "Fully Accredited",
           38.8
          ],
          [
           "Broad Rock Elementary",
           "32.2%",
           "Fully Accredited",
           46.2
          ],
          [
           "Elizabeth D. Redd Elementary",
           "42.4%",
           "Fully Accredited",
           56.6
          ],
          [
           "Patrick Henry School Of Science And Arts",
           "42.4%",
           "Fully Accredited",
           47.6
          ],
          [
           "Southampton Elementary",
           "42.4%",
           "Fully Accredited",
           71.3
          ],
          [
           "Richmond Career Education and Employment Charter School",
           "42.4%",
           "Fully Accredited",
           null
          ],
          [
           "William Fox Elementary",
           "10.8%",
           "Fully Accredited",
           36.8
          ],
          [
           "Open High",
           "10.8%",
           "Fully Accredited",
           37
          ],
          [
           "Linwood Holton Elementary",
           "5.3%",
           "Fully Accredited",
           38.1
          ],
          [
           "J.B. Fisher Elementary",
           "8.5%",
           "Fully Accredited",
           58.3
          ],
          [
           "John B. Cary Elementary",
           "2.7%",
           "Fully Accredited",
           49.8
          ],
          [
           "Mary Munford Elementary",
           "0.8%",
           "Fully Accredited",
           8.5
          ]
         ],
         "fillcolor": "rgba(255,255,255,0)",
         "hoverlabel": {
          "bgcolor": "lightgray",
          "font": {
           "size": 16
          }
         },
         "hoveron": "points",
         "hovertemplate": "%{customdata[0]}<br>Non-white Students: %{x:.1f}%<br>Eviction Rate in Zipcode: %{customdata[1]}",
         "hovertext": [
          "Barack Obama Elementary",
          "Richmond Community High",
          "Fairfield Court Elementary",
          "J.L. Francis Elementary",
          "Broad Rock Elementary",
          "Elizabeth D. Redd Elementary",
          "Patrick Henry School Of Science And Arts",
          "Southampton Elementary",
          "Richmond Career Education and Employment Charter School",
          "William Fox Elementary",
          "Open High",
          "Linwood Holton Elementary",
          "J.B. Fisher Elementary",
          "John B. Cary Elementary",
          "Mary Munford Elementary"
         ],
         "jitter": 1,
         "legendgroup": "Fully Accredited",
         "line": {
          "color": "rgba(255,255,255,0)"
         },
         "marker": {
          "color": "gray",
          "opacity": 0.5,
          "size": 14
         },
         "name": "Fully Accredited",
         "offsetgroup": "Fully Accredited",
         "orientation": "v",
         "pointpos": 0,
         "showlegend": true,
         "type": "box",
         "x": [
          null,
          74.5,
          100,
          95.1,
          97.6,
          93.9,
          61.8,
          91.9,
          null,
          53.1,
          60.9,
          47.2,
          80.3,
          67.3,
          23.799999999999997
         ],
         "x0": " ",
         "xaxis": "x",
         "y": [
          "Elementary Schools",
          "High Schools",
          "Elementary Schools",
          "Elementary Schools",
          "Elementary Schools",
          "Elementary Schools",
          "Elementary Schools",
          "Elementary Schools",
          "High Schools",
          "Elementary Schools",
          "High Schools",
          "Elementary Schools",
          "Elementary Schools",
          "Elementary Schools",
          "Elementary Schools"
         ],
         "y0": " ",
         "yaxis": "y"
        },
        {
         "alignmentgroup": "True",
         "boxpoints": "all",
         "customdata": [
          [
           "Overby-Sheppard Elementary",
           "16.1%",
           "Accredited with Conditions",
           null
          ],
          [
           "Bellevue Elementary",
           "13.8%",
           "Accredited with Conditions",
           null
          ],
          [
           "Chimborazo Elementary",
           "13.8%",
           "Accredited with Conditions",
           78.7
          ],
          [
           "Henry Marsh III Elementary",
           "13.8%",
           "Accredited with Conditions",
           92.5
          ],
          [
           "Woodville Elementary",
           "13.8%",
           "Accredited with Conditions",
           93.6
          ],
          [
           "Martin Luther King Jr. Middle",
           "13.8%",
           "Accredited with Conditions",
           90.6
          ],
          [
           "Armstrong High",
           "13.8%",
           "Accredited with Conditions",
           90.2
          ],
          [
           "Blackwell Elementary",
           "38.2%",
           "Accredited with Conditions",
           85.5
          ],
          [
           "Cardinal Elementary",
           "38.2%",
           "Accredited with Conditions",
           13.2
          ],
          [
           "Oak Grove/Bellemeade Elementary",
           "38.2%",
           "Accredited with Conditions",
           70.4
          ],
          [
           "Swansboro Elementary",
           "38.2%",
           "Accredited with Conditions",
           77.2
          ],
          [
           "River City Middle",
           "38.2%",
           "Accredited with Conditions",
           38.5
          ],
          [
           "Thomas C. Boushall Middle",
           "32.2%",
           "Accredited with Conditions",
           51.6
          ],
          [
           "G.H. Reid Elementary",
           "42.4%",
           "Accredited with Conditions",
           36.3
          ],
          [
           "Miles Jones Elementary",
           "42.4%",
           "Accredited with Conditions",
           59.8
          ],
          [
           "Westover Hills Elementary",
           "42.4%",
           "Accredited with Conditions",
           null
          ],
          [
           "Lucille M. Brown Middle",
           "42.4%",
           "Accredited with Conditions",
           70.6
          ],
          [
           "George Wythe High",
           "42.4%",
           "Accredited with Conditions",
           41.7
          ],
          [
           "Huguenot High",
           "42.4%",
           "Accredited with Conditions",
           53.4
          ],
          [
           "George W. Carver Elementary",
           "10.8%",
           "Accredited with Conditions",
           89.8
          ],
          [
           "Binford Middle",
           "10.8%",
           "Accredited with Conditions",
           64.8
          ],
          [
           "Ginter Park Elementary",
           "5.3%",
           "Accredited with Conditions",
           88.6
          ],
          [
           "Henderson Middle",
           "5.3%",
           "Accredited with Conditions",
           84.9
          ],
          [
           "John Marshall High",
           "5.3%",
           "Accredited with Conditions",
           79.5
          ],
          [
           "Albert Hill Middle",
           "2.7%",
           "Accredited with Conditions",
           57
          ],
          [
           "Thomas Jefferson High",
           "9.1%",
           "Accredited with Conditions",
           63.9
          ]
         ],
         "fillcolor": "rgba(255,255,255,0)",
         "hoverlabel": {
          "bgcolor": "lightgray",
          "font": {
           "size": 16
          }
         },
         "hoveron": "points",
         "hovertemplate": "%{customdata[0]}<br>Non-white Students: %{x:.1f}%<br>Eviction Rate in Zipcode: %{customdata[1]}",
         "hovertext": [
          "Overby-Sheppard Elementary",
          "Bellevue Elementary",
          "Chimborazo Elementary",
          "Henry Marsh III Elementary",
          "Woodville Elementary",
          "Martin Luther King Jr. Middle",
          "Armstrong High",
          "Blackwell Elementary",
          "Cardinal Elementary",
          "Oak Grove/Bellemeade Elementary",
          "Swansboro Elementary",
          "River City Middle",
          "Thomas C. Boushall Middle",
          "G.H. Reid Elementary",
          "Miles Jones Elementary",
          "Westover Hills Elementary",
          "Lucille M. Brown Middle",
          "George Wythe High",
          "Huguenot High",
          "George W. Carver Elementary",
          "Binford Middle",
          "Ginter Park Elementary",
          "Henderson Middle",
          "John Marshall High",
          "Albert Hill Middle",
          "Thomas Jefferson High"
         ],
         "jitter": 1,
         "legendgroup": "Accredited with Conditions",
         "line": {
          "color": "rgba(255,255,255,0)"
         },
         "marker": {
          "color": "red",
          "opacity": 0.5,
          "size": 14
         },
         "name": "Accredited with Conditions",
         "offsetgroup": "Accredited with Conditions",
         "orientation": "v",
         "pointpos": 0,
         "showlegend": true,
         "type": "box",
         "x": [
          null,
          null,
          89.4,
          97.8,
          98.5,
          98,
          96.9,
          98.2,
          98.4,
          98.3,
          95.6,
          98,
          98.2,
          98.4,
          96.1,
          null,
          94.3,
          97.6,
          93.7,
          96.7,
          76.5,
          96.6,
          93.5,
          87.3,
          70.3,
          77.5
         ],
         "x0": " ",
         "xaxis": "x",
         "y": [
          "Elementary Schools",
          "Elementary Schools",
          "Elementary Schools",
          "Elementary Schools",
          "Elementary Schools",
          "Middle Schools",
          "High Schools",
          "Elementary Schools",
          "Elementary Schools",
          "Elementary Schools",
          "Elementary Schools",
          "Middle Schools",
          "Middle Schools",
          "Elementary Schools",
          "Elementary Schools",
          "Elementary Schools",
          "Middle Schools",
          "High Schools",
          "High Schools",
          "Elementary Schools",
          "Middle Schools",
          "Elementary Schools",
          "Middle Schools",
          "High Schools",
          "Middle Schools",
          "High Schools"
         ],
         "y0": " ",
         "yaxis": "y"
        }
       ],
       "layout": {
        "boxmode": "group",
        "height": 500,
        "hovermode": "x unified",
        "legend": {
         "title": {
          "text": "Accreditation Status"
         },
         "tracegroupgap": 0
        },
        "margin": {
         "t": 60
        },
        "plot_bgcolor": "white",
        "template": {
         "data": {
          "bar": [
           {
            "error_x": {
             "color": "#2a3f5f"
            },
            "error_y": {
             "color": "#2a3f5f"
            },
            "marker": {
             "line": {
              "color": "#E5ECF6",
              "width": 0.5
             },
             "pattern": {
              "fillmode": "overlay",
              "size": 10,
              "solidity": 0.2
             }
            },
            "type": "bar"
           }
          ],
          "barpolar": [
           {
            "marker": {
             "line": {
              "color": "#E5ECF6",
              "width": 0.5
             },
             "pattern": {
              "fillmode": "overlay",
              "size": 10,
              "solidity": 0.2
             }
            },
            "type": "barpolar"
           }
          ],
          "carpet": [
           {
            "aaxis": {
             "endlinecolor": "#2a3f5f",
             "gridcolor": "white",
             "linecolor": "white",
             "minorgridcolor": "white",
             "startlinecolor": "#2a3f5f"
            },
            "baxis": {
             "endlinecolor": "#2a3f5f",
             "gridcolor": "white",
             "linecolor": "white",
             "minorgridcolor": "white",
             "startlinecolor": "#2a3f5f"
            },
            "type": "carpet"
           }
          ],
          "choropleth": [
           {
            "colorbar": {
             "outlinewidth": 0,
             "ticks": ""
            },
            "type": "choropleth"
           }
          ],
          "contour": [
           {
            "colorbar": {
             "outlinewidth": 0,
             "ticks": ""
            },
            "colorscale": [
             [
              0,
              "#0d0887"
             ],
             [
              0.1111111111111111,
              "#46039f"
             ],
             [
              0.2222222222222222,
              "#7201a8"
             ],
             [
              0.3333333333333333,
              "#9c179e"
             ],
             [
              0.4444444444444444,
              "#bd3786"
             ],
             [
              0.5555555555555556,
              "#d8576b"
             ],
             [
              0.6666666666666666,
              "#ed7953"
             ],
             [
              0.7777777777777778,
              "#fb9f3a"
             ],
             [
              0.8888888888888888,
              "#fdca26"
             ],
             [
              1,
              "#f0f921"
             ]
            ],
            "type": "contour"
           }
          ],
          "contourcarpet": [
           {
            "colorbar": {
             "outlinewidth": 0,
             "ticks": ""
            },
            "type": "contourcarpet"
           }
          ],
          "heatmap": [
           {
            "colorbar": {
             "outlinewidth": 0,
             "ticks": ""
            },
            "colorscale": [
             [
              0,
              "#0d0887"
             ],
             [
              0.1111111111111111,
              "#46039f"
             ],
             [
              0.2222222222222222,
              "#7201a8"
             ],
             [
              0.3333333333333333,
              "#9c179e"
             ],
             [
              0.4444444444444444,
              "#bd3786"
             ],
             [
              0.5555555555555556,
              "#d8576b"
             ],
             [
              0.6666666666666666,
              "#ed7953"
             ],
             [
              0.7777777777777778,
              "#fb9f3a"
             ],
             [
              0.8888888888888888,
              "#fdca26"
             ],
             [
              1,
              "#f0f921"
             ]
            ],
            "type": "heatmap"
           }
          ],
          "heatmapgl": [
           {
            "colorbar": {
             "outlinewidth": 0,
             "ticks": ""
            },
            "colorscale": [
             [
              0,
              "#0d0887"
             ],
             [
              0.1111111111111111,
              "#46039f"
             ],
             [
              0.2222222222222222,
              "#7201a8"
             ],
             [
              0.3333333333333333,
              "#9c179e"
             ],
             [
              0.4444444444444444,
              "#bd3786"
             ],
             [
              0.5555555555555556,
              "#d8576b"
             ],
             [
              0.6666666666666666,
              "#ed7953"
             ],
             [
              0.7777777777777778,
              "#fb9f3a"
             ],
             [
              0.8888888888888888,
              "#fdca26"
             ],
             [
              1,
              "#f0f921"
             ]
            ],
            "type": "heatmapgl"
           }
          ],
          "histogram": [
           {
            "marker": {
             "pattern": {
              "fillmode": "overlay",
              "size": 10,
              "solidity": 0.2
             }
            },
            "type": "histogram"
           }
          ],
          "histogram2d": [
           {
            "colorbar": {
             "outlinewidth": 0,
             "ticks": ""
            },
            "colorscale": [
             [
              0,
              "#0d0887"
             ],
             [
              0.1111111111111111,
              "#46039f"
             ],
             [
              0.2222222222222222,
              "#7201a8"
             ],
             [
              0.3333333333333333,
              "#9c179e"
             ],
             [
              0.4444444444444444,
              "#bd3786"
             ],
             [
              0.5555555555555556,
              "#d8576b"
             ],
             [
              0.6666666666666666,
              "#ed7953"
             ],
             [
              0.7777777777777778,
              "#fb9f3a"
             ],
             [
              0.8888888888888888,
              "#fdca26"
             ],
             [
              1,
              "#f0f921"
             ]
            ],
            "type": "histogram2d"
           }
          ],
          "histogram2dcontour": [
           {
            "colorbar": {
             "outlinewidth": 0,
             "ticks": ""
            },
            "colorscale": [
             [
              0,
              "#0d0887"
             ],
             [
              0.1111111111111111,
              "#46039f"
             ],
             [
              0.2222222222222222,
              "#7201a8"
             ],
             [
              0.3333333333333333,
              "#9c179e"
             ],
             [
              0.4444444444444444,
              "#bd3786"
             ],
             [
              0.5555555555555556,
              "#d8576b"
             ],
             [
              0.6666666666666666,
              "#ed7953"
             ],
             [
              0.7777777777777778,
              "#fb9f3a"
             ],
             [
              0.8888888888888888,
              "#fdca26"
             ],
             [
              1,
              "#f0f921"
             ]
            ],
            "type": "histogram2dcontour"
           }
          ],
          "mesh3d": [
           {
            "colorbar": {
             "outlinewidth": 0,
             "ticks": ""
            },
            "type": "mesh3d"
           }
          ],
          "parcoords": [
           {
            "line": {
             "colorbar": {
              "outlinewidth": 0,
              "ticks": ""
             }
            },
            "type": "parcoords"
           }
          ],
          "pie": [
           {
            "automargin": true,
            "type": "pie"
           }
          ],
          "scatter": [
           {
            "fillpattern": {
             "fillmode": "overlay",
             "size": 10,
             "solidity": 0.2
            },
            "type": "scatter"
           }
          ],
          "scatter3d": [
           {
            "line": {
             "colorbar": {
              "outlinewidth": 0,
              "ticks": ""
             }
            },
            "marker": {
             "colorbar": {
              "outlinewidth": 0,
              "ticks": ""
             }
            },
            "type": "scatter3d"
           }
          ],
          "scattercarpet": [
           {
            "marker": {
             "colorbar": {
              "outlinewidth": 0,
              "ticks": ""
             }
            },
            "type": "scattercarpet"
           }
          ],
          "scattergeo": [
           {
            "marker": {
             "colorbar": {
              "outlinewidth": 0,
              "ticks": ""
             }
            },
            "type": "scattergeo"
           }
          ],
          "scattergl": [
           {
            "marker": {
             "colorbar": {
              "outlinewidth": 0,
              "ticks": ""
             }
            },
            "type": "scattergl"
           }
          ],
          "scattermapbox": [
           {
            "marker": {
             "colorbar": {
              "outlinewidth": 0,
              "ticks": ""
             }
            },
            "type": "scattermapbox"
           }
          ],
          "scatterpolar": [
           {
            "marker": {
             "colorbar": {
              "outlinewidth": 0,
              "ticks": ""
             }
            },
            "type": "scatterpolar"
           }
          ],
          "scatterpolargl": [
           {
            "marker": {
             "colorbar": {
              "outlinewidth": 0,
              "ticks": ""
             }
            },
            "type": "scatterpolargl"
           }
          ],
          "scatterternary": [
           {
            "marker": {
             "colorbar": {
              "outlinewidth": 0,
              "ticks": ""
             }
            },
            "type": "scatterternary"
           }
          ],
          "surface": [
           {
            "colorbar": {
             "outlinewidth": 0,
             "ticks": ""
            },
            "colorscale": [
             [
              0,
              "#0d0887"
             ],
             [
              0.1111111111111111,
              "#46039f"
             ],
             [
              0.2222222222222222,
              "#7201a8"
             ],
             [
              0.3333333333333333,
              "#9c179e"
             ],
             [
              0.4444444444444444,
              "#bd3786"
             ],
             [
              0.5555555555555556,
              "#d8576b"
             ],
             [
              0.6666666666666666,
              "#ed7953"
             ],
             [
              0.7777777777777778,
              "#fb9f3a"
             ],
             [
              0.8888888888888888,
              "#fdca26"
             ],
             [
              1,
              "#f0f921"
             ]
            ],
            "type": "surface"
           }
          ],
          "table": [
           {
            "cells": {
             "fill": {
              "color": "#EBF0F8"
             },
             "line": {
              "color": "white"
             }
            },
            "header": {
             "fill": {
              "color": "#C8D4E3"
             },
             "line": {
              "color": "white"
             }
            },
            "type": "table"
           }
          ]
         },
         "layout": {
          "annotationdefaults": {
           "arrowcolor": "#2a3f5f",
           "arrowhead": 0,
           "arrowwidth": 1
          },
          "autotypenumbers": "strict",
          "coloraxis": {
           "colorbar": {
            "outlinewidth": 0,
            "ticks": ""
           }
          },
          "colorscale": {
           "diverging": [
            [
             0,
             "#8e0152"
            ],
            [
             0.1,
             "#c51b7d"
            ],
            [
             0.2,
             "#de77ae"
            ],
            [
             0.3,
             "#f1b6da"
            ],
            [
             0.4,
             "#fde0ef"
            ],
            [
             0.5,
             "#f7f7f7"
            ],
            [
             0.6,
             "#e6f5d0"
            ],
            [
             0.7,
             "#b8e186"
            ],
            [
             0.8,
             "#7fbc41"
            ],
            [
             0.9,
             "#4d9221"
            ],
            [
             1,
             "#276419"
            ]
           ],
           "sequential": [
            [
             0,
             "#0d0887"
            ],
            [
             0.1111111111111111,
             "#46039f"
            ],
            [
             0.2222222222222222,
             "#7201a8"
            ],
            [
             0.3333333333333333,
             "#9c179e"
            ],
            [
             0.4444444444444444,
             "#bd3786"
            ],
            [
             0.5555555555555556,
             "#d8576b"
            ],
            [
             0.6666666666666666,
             "#ed7953"
            ],
            [
             0.7777777777777778,
             "#fb9f3a"
            ],
            [
             0.8888888888888888,
             "#fdca26"
            ],
            [
             1,
             "#f0f921"
            ]
           ],
           "sequentialminus": [
            [
             0,
             "#0d0887"
            ],
            [
             0.1111111111111111,
             "#46039f"
            ],
            [
             0.2222222222222222,
             "#7201a8"
            ],
            [
             0.3333333333333333,
             "#9c179e"
            ],
            [
             0.4444444444444444,
             "#bd3786"
            ],
            [
             0.5555555555555556,
             "#d8576b"
            ],
            [
             0.6666666666666666,
             "#ed7953"
            ],
            [
             0.7777777777777778,
             "#fb9f3a"
            ],
            [
             0.8888888888888888,
             "#fdca26"
            ],
            [
             1,
             "#f0f921"
            ]
           ]
          },
          "colorway": [
           "#636efa",
           "#EF553B",
           "#00cc96",
           "#ab63fa",
           "#FFA15A",
           "#19d3f3",
           "#FF6692",
           "#B6E880",
           "#FF97FF",
           "#FECB52"
          ],
          "font": {
           "color": "#2a3f5f"
          },
          "geo": {
           "bgcolor": "white",
           "lakecolor": "white",
           "landcolor": "#E5ECF6",
           "showlakes": true,
           "showland": true,
           "subunitcolor": "white"
          },
          "hoverlabel": {
           "align": "left"
          },
          "hovermode": "closest",
          "mapbox": {
           "style": "light"
          },
          "paper_bgcolor": "white",
          "plot_bgcolor": "#E5ECF6",
          "polar": {
           "angularaxis": {
            "gridcolor": "white",
            "linecolor": "white",
            "ticks": ""
           },
           "bgcolor": "#E5ECF6",
           "radialaxis": {
            "gridcolor": "white",
            "linecolor": "white",
            "ticks": ""
           }
          },
          "scene": {
           "xaxis": {
            "backgroundcolor": "#E5ECF6",
            "gridcolor": "white",
            "gridwidth": 2,
            "linecolor": "white",
            "showbackground": true,
            "ticks": "",
            "zerolinecolor": "white"
           },
           "yaxis": {
            "backgroundcolor": "#E5ECF6",
            "gridcolor": "white",
            "gridwidth": 2,
            "linecolor": "white",
            "showbackground": true,
            "ticks": "",
            "zerolinecolor": "white"
           },
           "zaxis": {
            "backgroundcolor": "#E5ECF6",
            "gridcolor": "white",
            "gridwidth": 2,
            "linecolor": "white",
            "showbackground": true,
            "ticks": "",
            "zerolinecolor": "white"
           }
          },
          "shapedefaults": {
           "line": {
            "color": "#2a3f5f"
           }
          },
          "ternary": {
           "aaxis": {
            "gridcolor": "white",
            "linecolor": "white",
            "ticks": ""
           },
           "baxis": {
            "gridcolor": "white",
            "linecolor": "white",
            "ticks": ""
           },
           "bgcolor": "#E5ECF6",
           "caxis": {
            "gridcolor": "white",
            "linecolor": "white",
            "ticks": ""
           }
          },
          "title": {
           "x": 0.05
          },
          "xaxis": {
           "automargin": true,
           "gridcolor": "white",
           "linecolor": "white",
           "ticks": "",
           "title": {
            "standoff": 15
           },
           "zerolinecolor": "white",
           "zerolinewidth": 2
          },
          "yaxis": {
           "automargin": true,
           "gridcolor": "white",
           "linecolor": "white",
           "ticks": "",
           "title": {
            "standoff": 15
           },
           "zerolinecolor": "white",
           "zerolinewidth": 2
          }
         }
        },
        "xaxis": {
         "anchor": "y",
         "domain": [
          0,
          1
         ],
         "range": [
          0,
          110
         ],
         "title": {
          "text": "% Non-white Students"
         }
        },
        "yaxis": {
         "anchor": "x",
         "categoryarray": [
          "High",
          "Middle",
          "Elementary"
         ],
         "categoryorder": "array",
         "domain": [
          0,
          1
         ],
         "gridcolor": "lightgray",
         "gridwidth": 2,
         "showgrid": true,
         "title": {
          "text": ""
         }
        }
       }
      },
      "text/html": [
       "<div>                            <div id=\"435105a6-c02e-4c73-9ed1-7961872119dd\" class=\"plotly-graph-div\" style=\"height:500px; width:100%;\"></div>            <script type=\"text/javascript\">                require([\"plotly\"], function(Plotly) {                    window.PLOTLYENV=window.PLOTLYENV || {};                                    if (document.getElementById(\"435105a6-c02e-4c73-9ed1-7961872119dd\")) {                    Plotly.newPlot(                        \"435105a6-c02e-4c73-9ed1-7961872119dd\",                        [{\"alignmentgroup\":\"True\",\"boxpoints\":\"all\",\"customdata\":[[\"Barack Obama Elementary\",\"16.1%\",\"Fully Accredited\",null],[\"Richmond Community High\",\"16.1%\",\"Fully Accredited\",57.5],[\"Fairfield Court Elementary\",\"13.8%\",\"Fully Accredited\",91.6],[\"J.L. Francis Elementary\",\"38.2%\",\"Fully Accredited\",38.8],[\"Broad Rock Elementary\",\"32.2%\",\"Fully Accredited\",46.2],[\"Elizabeth D. Redd Elementary\",\"42.4%\",\"Fully Accredited\",56.6],[\"Patrick Henry School Of Science And Arts\",\"42.4%\",\"Fully Accredited\",47.6],[\"Southampton Elementary\",\"42.4%\",\"Fully Accredited\",71.3],[\"Richmond Career Education and Employment Charter School\",\"42.4%\",\"Fully Accredited\",null],[\"William Fox Elementary\",\"10.8%\",\"Fully Accredited\",36.8],[\"Open High\",\"10.8%\",\"Fully Accredited\",37.0],[\"Linwood Holton Elementary\",\"5.3%\",\"Fully Accredited\",38.1],[\"J.B. Fisher Elementary\",\"8.5%\",\"Fully Accredited\",58.3],[\"John B. Cary Elementary\",\"2.7%\",\"Fully Accredited\",49.8],[\"Mary Munford Elementary\",\"0.8%\",\"Fully Accredited\",8.5]],\"fillcolor\":\"rgba(255,255,255,0)\",\"hoveron\":\"points\",\"hovertemplate\":\"%{customdata[0]}<br>Non-white Students: %{x:.1f}%<br>Eviction Rate in Zipcode: %{customdata[1]}\",\"hovertext\":[\"Barack Obama Elementary\",\"Richmond Community High\",\"Fairfield Court Elementary\",\"J.L. Francis Elementary\",\"Broad Rock Elementary\",\"Elizabeth D. Redd Elementary\",\"Patrick Henry School Of Science And Arts\",\"Southampton Elementary\",\"Richmond Career Education and Employment Charter School\",\"William Fox Elementary\",\"Open High\",\"Linwood Holton Elementary\",\"J.B. Fisher Elementary\",\"John B. Cary Elementary\",\"Mary Munford Elementary\"],\"legendgroup\":\"Fully Accredited\",\"line\":{\"color\":\"rgba(255,255,255,0)\"},\"marker\":{\"color\":\"gray\",\"opacity\":0.5,\"size\":14},\"name\":\"Fully Accredited\",\"offsetgroup\":\"Fully Accredited\",\"orientation\":\"v\",\"pointpos\":0,\"showlegend\":true,\"x\":[null,74.5,100.0,95.1,97.6,93.9,61.8,91.9,null,53.1,60.9,47.2,80.3,67.3,23.799999999999997],\"x0\":\" \",\"xaxis\":\"x\",\"y\":[\"Elementary Schools\",\"High Schools\",\"Elementary Schools\",\"Elementary Schools\",\"Elementary Schools\",\"Elementary Schools\",\"Elementary Schools\",\"Elementary Schools\",\"High Schools\",\"Elementary Schools\",\"High Schools\",\"Elementary Schools\",\"Elementary Schools\",\"Elementary Schools\",\"Elementary Schools\"],\"y0\":\" \",\"yaxis\":\"y\",\"type\":\"box\",\"hoverlabel\":{\"font\":{\"size\":16},\"bgcolor\":\"lightgray\"},\"jitter\":1},{\"alignmentgroup\":\"True\",\"boxpoints\":\"all\",\"customdata\":[[\"Overby-Sheppard Elementary\",\"16.1%\",\"Accredited with Conditions\",null],[\"Bellevue Elementary\",\"13.8%\",\"Accredited with Conditions\",null],[\"Chimborazo Elementary\",\"13.8%\",\"Accredited with Conditions\",78.7],[\"Henry Marsh III Elementary\",\"13.8%\",\"Accredited with Conditions\",92.5],[\"Woodville Elementary\",\"13.8%\",\"Accredited with Conditions\",93.6],[\"Martin Luther King Jr. Middle\",\"13.8%\",\"Accredited with Conditions\",90.6],[\"Armstrong High\",\"13.8%\",\"Accredited with Conditions\",90.2],[\"Blackwell Elementary\",\"38.2%\",\"Accredited with Conditions\",85.5],[\"Cardinal Elementary\",\"38.2%\",\"Accredited with Conditions\",13.2],[\"Oak Grove/Bellemeade Elementary\",\"38.2%\",\"Accredited with Conditions\",70.4],[\"Swansboro Elementary\",\"38.2%\",\"Accredited with Conditions\",77.2],[\"River City Middle\",\"38.2%\",\"Accredited with Conditions\",38.5],[\"Thomas C. Boushall Middle\",\"32.2%\",\"Accredited with Conditions\",51.6],[\"G.H. Reid Elementary\",\"42.4%\",\"Accredited with Conditions\",36.3],[\"Miles Jones Elementary\",\"42.4%\",\"Accredited with Conditions\",59.8],[\"Westover Hills Elementary\",\"42.4%\",\"Accredited with Conditions\",null],[\"Lucille M. Brown Middle\",\"42.4%\",\"Accredited with Conditions\",70.6],[\"George Wythe High\",\"42.4%\",\"Accredited with Conditions\",41.7],[\"Huguenot High\",\"42.4%\",\"Accredited with Conditions\",53.4],[\"George W. Carver Elementary\",\"10.8%\",\"Accredited with Conditions\",89.8],[\"Binford Middle\",\"10.8%\",\"Accredited with Conditions\",64.8],[\"Ginter Park Elementary\",\"5.3%\",\"Accredited with Conditions\",88.6],[\"Henderson Middle\",\"5.3%\",\"Accredited with Conditions\",84.9],[\"John Marshall High\",\"5.3%\",\"Accredited with Conditions\",79.5],[\"Albert Hill Middle\",\"2.7%\",\"Accredited with Conditions\",57.0],[\"Thomas Jefferson High\",\"9.1%\",\"Accredited with Conditions\",63.9]],\"fillcolor\":\"rgba(255,255,255,0)\",\"hoveron\":\"points\",\"hovertemplate\":\"%{customdata[0]}<br>Non-white Students: %{x:.1f}%<br>Eviction Rate in Zipcode: %{customdata[1]}\",\"hovertext\":[\"Overby-Sheppard Elementary\",\"Bellevue Elementary\",\"Chimborazo Elementary\",\"Henry Marsh III Elementary\",\"Woodville Elementary\",\"Martin Luther King Jr. Middle\",\"Armstrong High\",\"Blackwell Elementary\",\"Cardinal Elementary\",\"Oak Grove/Bellemeade Elementary\",\"Swansboro Elementary\",\"River City Middle\",\"Thomas C. Boushall Middle\",\"G.H. Reid Elementary\",\"Miles Jones Elementary\",\"Westover Hills Elementary\",\"Lucille M. Brown Middle\",\"George Wythe High\",\"Huguenot High\",\"George W. Carver Elementary\",\"Binford Middle\",\"Ginter Park Elementary\",\"Henderson Middle\",\"John Marshall High\",\"Albert Hill Middle\",\"Thomas Jefferson High\"],\"legendgroup\":\"Accredited with Conditions\",\"line\":{\"color\":\"rgba(255,255,255,0)\"},\"marker\":{\"color\":\"red\",\"opacity\":0.5,\"size\":14},\"name\":\"Accredited with Conditions\",\"offsetgroup\":\"Accredited with Conditions\",\"orientation\":\"v\",\"pointpos\":0,\"showlegend\":true,\"x\":[null,null,89.4,97.8,98.5,98.0,96.9,98.2,98.4,98.3,95.6,98.0,98.2,98.4,96.1,null,94.3,97.6,93.7,96.7,76.5,96.6,93.5,87.3,70.3,77.5],\"x0\":\" \",\"xaxis\":\"x\",\"y\":[\"Elementary Schools\",\"Elementary Schools\",\"Elementary Schools\",\"Elementary Schools\",\"Elementary Schools\",\"Middle Schools\",\"High Schools\",\"Elementary Schools\",\"Elementary Schools\",\"Elementary Schools\",\"Elementary Schools\",\"Middle Schools\",\"Middle Schools\",\"Elementary Schools\",\"Elementary Schools\",\"Elementary Schools\",\"Middle Schools\",\"High Schools\",\"High Schools\",\"Elementary Schools\",\"Middle Schools\",\"Elementary Schools\",\"Middle Schools\",\"High Schools\",\"Middle Schools\",\"High Schools\"],\"y0\":\" \",\"yaxis\":\"y\",\"type\":\"box\",\"hoverlabel\":{\"font\":{\"size\":16},\"bgcolor\":\"lightgray\"},\"jitter\":1}],                        {\"template\":{\"data\":{\"histogram2dcontour\":[{\"type\":\"histogram2dcontour\",\"colorbar\":{\"outlinewidth\":0,\"ticks\":\"\"},\"colorscale\":[[0.0,\"#0d0887\"],[0.1111111111111111,\"#46039f\"],[0.2222222222222222,\"#7201a8\"],[0.3333333333333333,\"#9c179e\"],[0.4444444444444444,\"#bd3786\"],[0.5555555555555556,\"#d8576b\"],[0.6666666666666666,\"#ed7953\"],[0.7777777777777778,\"#fb9f3a\"],[0.8888888888888888,\"#fdca26\"],[1.0,\"#f0f921\"]]}],\"choropleth\":[{\"type\":\"choropleth\",\"colorbar\":{\"outlinewidth\":0,\"ticks\":\"\"}}],\"histogram2d\":[{\"type\":\"histogram2d\",\"colorbar\":{\"outlinewidth\":0,\"ticks\":\"\"},\"colorscale\":[[0.0,\"#0d0887\"],[0.1111111111111111,\"#46039f\"],[0.2222222222222222,\"#7201a8\"],[0.3333333333333333,\"#9c179e\"],[0.4444444444444444,\"#bd3786\"],[0.5555555555555556,\"#d8576b\"],[0.6666666666666666,\"#ed7953\"],[0.7777777777777778,\"#fb9f3a\"],[0.8888888888888888,\"#fdca26\"],[1.0,\"#f0f921\"]]}],\"heatmap\":[{\"type\":\"heatmap\",\"colorbar\":{\"outlinewidth\":0,\"ticks\":\"\"},\"colorscale\":[[0.0,\"#0d0887\"],[0.1111111111111111,\"#46039f\"],[0.2222222222222222,\"#7201a8\"],[0.3333333333333333,\"#9c179e\"],[0.4444444444444444,\"#bd3786\"],[0.5555555555555556,\"#d8576b\"],[0.6666666666666666,\"#ed7953\"],[0.7777777777777778,\"#fb9f3a\"],[0.8888888888888888,\"#fdca26\"],[1.0,\"#f0f921\"]]}],\"heatmapgl\":[{\"type\":\"heatmapgl\",\"colorbar\":{\"outlinewidth\":0,\"ticks\":\"\"},\"colorscale\":[[0.0,\"#0d0887\"],[0.1111111111111111,\"#46039f\"],[0.2222222222222222,\"#7201a8\"],[0.3333333333333333,\"#9c179e\"],[0.4444444444444444,\"#bd3786\"],[0.5555555555555556,\"#d8576b\"],[0.6666666666666666,\"#ed7953\"],[0.7777777777777778,\"#fb9f3a\"],[0.8888888888888888,\"#fdca26\"],[1.0,\"#f0f921\"]]}],\"contourcarpet\":[{\"type\":\"contourcarpet\",\"colorbar\":{\"outlinewidth\":0,\"ticks\":\"\"}}],\"contour\":[{\"type\":\"contour\",\"colorbar\":{\"outlinewidth\":0,\"ticks\":\"\"},\"colorscale\":[[0.0,\"#0d0887\"],[0.1111111111111111,\"#46039f\"],[0.2222222222222222,\"#7201a8\"],[0.3333333333333333,\"#9c179e\"],[0.4444444444444444,\"#bd3786\"],[0.5555555555555556,\"#d8576b\"],[0.6666666666666666,\"#ed7953\"],[0.7777777777777778,\"#fb9f3a\"],[0.8888888888888888,\"#fdca26\"],[1.0,\"#f0f921\"]]}],\"surface\":[{\"type\":\"surface\",\"colorbar\":{\"outlinewidth\":0,\"ticks\":\"\"},\"colorscale\":[[0.0,\"#0d0887\"],[0.1111111111111111,\"#46039f\"],[0.2222222222222222,\"#7201a8\"],[0.3333333333333333,\"#9c179e\"],[0.4444444444444444,\"#bd3786\"],[0.5555555555555556,\"#d8576b\"],[0.6666666666666666,\"#ed7953\"],[0.7777777777777778,\"#fb9f3a\"],[0.8888888888888888,\"#fdca26\"],[1.0,\"#f0f921\"]]}],\"mesh3d\":[{\"type\":\"mesh3d\",\"colorbar\":{\"outlinewidth\":0,\"ticks\":\"\"}}],\"scatter\":[{\"fillpattern\":{\"fillmode\":\"overlay\",\"size\":10,\"solidity\":0.2},\"type\":\"scatter\"}],\"parcoords\":[{\"type\":\"parcoords\",\"line\":{\"colorbar\":{\"outlinewidth\":0,\"ticks\":\"\"}}}],\"scatterpolargl\":[{\"type\":\"scatterpolargl\",\"marker\":{\"colorbar\":{\"outlinewidth\":0,\"ticks\":\"\"}}}],\"bar\":[{\"error_x\":{\"color\":\"#2a3f5f\"},\"error_y\":{\"color\":\"#2a3f5f\"},\"marker\":{\"line\":{\"color\":\"#E5ECF6\",\"width\":0.5},\"pattern\":{\"fillmode\":\"overlay\",\"size\":10,\"solidity\":0.2}},\"type\":\"bar\"}],\"scattergeo\":[{\"type\":\"scattergeo\",\"marker\":{\"colorbar\":{\"outlinewidth\":0,\"ticks\":\"\"}}}],\"scatterpolar\":[{\"type\":\"scatterpolar\",\"marker\":{\"colorbar\":{\"outlinewidth\":0,\"ticks\":\"\"}}}],\"histogram\":[{\"marker\":{\"pattern\":{\"fillmode\":\"overlay\",\"size\":10,\"solidity\":0.2}},\"type\":\"histogram\"}],\"scattergl\":[{\"type\":\"scattergl\",\"marker\":{\"colorbar\":{\"outlinewidth\":0,\"ticks\":\"\"}}}],\"scatter3d\":[{\"type\":\"scatter3d\",\"line\":{\"colorbar\":{\"outlinewidth\":0,\"ticks\":\"\"}},\"marker\":{\"colorbar\":{\"outlinewidth\":0,\"ticks\":\"\"}}}],\"scattermapbox\":[{\"type\":\"scattermapbox\",\"marker\":{\"colorbar\":{\"outlinewidth\":0,\"ticks\":\"\"}}}],\"scatterternary\":[{\"type\":\"scatterternary\",\"marker\":{\"colorbar\":{\"outlinewidth\":0,\"ticks\":\"\"}}}],\"scattercarpet\":[{\"type\":\"scattercarpet\",\"marker\":{\"colorbar\":{\"outlinewidth\":0,\"ticks\":\"\"}}}],\"carpet\":[{\"aaxis\":{\"endlinecolor\":\"#2a3f5f\",\"gridcolor\":\"white\",\"linecolor\":\"white\",\"minorgridcolor\":\"white\",\"startlinecolor\":\"#2a3f5f\"},\"baxis\":{\"endlinecolor\":\"#2a3f5f\",\"gridcolor\":\"white\",\"linecolor\":\"white\",\"minorgridcolor\":\"white\",\"startlinecolor\":\"#2a3f5f\"},\"type\":\"carpet\"}],\"table\":[{\"cells\":{\"fill\":{\"color\":\"#EBF0F8\"},\"line\":{\"color\":\"white\"}},\"header\":{\"fill\":{\"color\":\"#C8D4E3\"},\"line\":{\"color\":\"white\"}},\"type\":\"table\"}],\"barpolar\":[{\"marker\":{\"line\":{\"color\":\"#E5ECF6\",\"width\":0.5},\"pattern\":{\"fillmode\":\"overlay\",\"size\":10,\"solidity\":0.2}},\"type\":\"barpolar\"}],\"pie\":[{\"automargin\":true,\"type\":\"pie\"}]},\"layout\":{\"autotypenumbers\":\"strict\",\"colorway\":[\"#636efa\",\"#EF553B\",\"#00cc96\",\"#ab63fa\",\"#FFA15A\",\"#19d3f3\",\"#FF6692\",\"#B6E880\",\"#FF97FF\",\"#FECB52\"],\"font\":{\"color\":\"#2a3f5f\"},\"hovermode\":\"closest\",\"hoverlabel\":{\"align\":\"left\"},\"paper_bgcolor\":\"white\",\"plot_bgcolor\":\"#E5ECF6\",\"polar\":{\"bgcolor\":\"#E5ECF6\",\"angularaxis\":{\"gridcolor\":\"white\",\"linecolor\":\"white\",\"ticks\":\"\"},\"radialaxis\":{\"gridcolor\":\"white\",\"linecolor\":\"white\",\"ticks\":\"\"}},\"ternary\":{\"bgcolor\":\"#E5ECF6\",\"aaxis\":{\"gridcolor\":\"white\",\"linecolor\":\"white\",\"ticks\":\"\"},\"baxis\":{\"gridcolor\":\"white\",\"linecolor\":\"white\",\"ticks\":\"\"},\"caxis\":{\"gridcolor\":\"white\",\"linecolor\":\"white\",\"ticks\":\"\"}},\"coloraxis\":{\"colorbar\":{\"outlinewidth\":0,\"ticks\":\"\"}},\"colorscale\":{\"sequential\":[[0.0,\"#0d0887\"],[0.1111111111111111,\"#46039f\"],[0.2222222222222222,\"#7201a8\"],[0.3333333333333333,\"#9c179e\"],[0.4444444444444444,\"#bd3786\"],[0.5555555555555556,\"#d8576b\"],[0.6666666666666666,\"#ed7953\"],[0.7777777777777778,\"#fb9f3a\"],[0.8888888888888888,\"#fdca26\"],[1.0,\"#f0f921\"]],\"sequentialminus\":[[0.0,\"#0d0887\"],[0.1111111111111111,\"#46039f\"],[0.2222222222222222,\"#7201a8\"],[0.3333333333333333,\"#9c179e\"],[0.4444444444444444,\"#bd3786\"],[0.5555555555555556,\"#d8576b\"],[0.6666666666666666,\"#ed7953\"],[0.7777777777777778,\"#fb9f3a\"],[0.8888888888888888,\"#fdca26\"],[1.0,\"#f0f921\"]],\"diverging\":[[0,\"#8e0152\"],[0.1,\"#c51b7d\"],[0.2,\"#de77ae\"],[0.3,\"#f1b6da\"],[0.4,\"#fde0ef\"],[0.5,\"#f7f7f7\"],[0.6,\"#e6f5d0\"],[0.7,\"#b8e186\"],[0.8,\"#7fbc41\"],[0.9,\"#4d9221\"],[1,\"#276419\"]]},\"xaxis\":{\"gridcolor\":\"white\",\"linecolor\":\"white\",\"ticks\":\"\",\"title\":{\"standoff\":15},\"zerolinecolor\":\"white\",\"automargin\":true,\"zerolinewidth\":2},\"yaxis\":{\"gridcolor\":\"white\",\"linecolor\":\"white\",\"ticks\":\"\",\"title\":{\"standoff\":15},\"zerolinecolor\":\"white\",\"automargin\":true,\"zerolinewidth\":2},\"scene\":{\"xaxis\":{\"backgroundcolor\":\"#E5ECF6\",\"gridcolor\":\"white\",\"linecolor\":\"white\",\"showbackground\":true,\"ticks\":\"\",\"zerolinecolor\":\"white\",\"gridwidth\":2},\"yaxis\":{\"backgroundcolor\":\"#E5ECF6\",\"gridcolor\":\"white\",\"linecolor\":\"white\",\"showbackground\":true,\"ticks\":\"\",\"zerolinecolor\":\"white\",\"gridwidth\":2},\"zaxis\":{\"backgroundcolor\":\"#E5ECF6\",\"gridcolor\":\"white\",\"linecolor\":\"white\",\"showbackground\":true,\"ticks\":\"\",\"zerolinecolor\":\"white\",\"gridwidth\":2}},\"shapedefaults\":{\"line\":{\"color\":\"#2a3f5f\"}},\"annotationdefaults\":{\"arrowcolor\":\"#2a3f5f\",\"arrowhead\":0,\"arrowwidth\":1},\"geo\":{\"bgcolor\":\"white\",\"landcolor\":\"#E5ECF6\",\"subunitcolor\":\"white\",\"showland\":true,\"showlakes\":true,\"lakecolor\":\"white\"},\"title\":{\"x\":0.05},\"mapbox\":{\"style\":\"light\"}}},\"xaxis\":{\"anchor\":\"y\",\"domain\":[0.0,1.0],\"title\":{\"text\":\"% Non-white Students\"},\"range\":[0,110]},\"yaxis\":{\"anchor\":\"x\",\"domain\":[0.0,1.0],\"title\":{\"text\":\"\"},\"categoryorder\":\"array\",\"categoryarray\":[\"High\",\"Middle\",\"Elementary\"],\"showgrid\":true,\"gridwidth\":2,\"gridcolor\":\"lightgray\"},\"legend\":{\"title\":{\"text\":\"Accreditation Status\"},\"tracegroupgap\":0},\"margin\":{\"t\":60},\"boxmode\":\"group\",\"height\":500,\"hovermode\":\"x unified\",\"plot_bgcolor\":\"white\"},                        {\"responsive\": true}                    ).then(function(){\n",
       "                            \n",
       "var gd = document.getElementById('435105a6-c02e-4c73-9ed1-7961872119dd');\n",
       "var x = new MutationObserver(function (mutations, observer) {{\n",
       "        var display = window.getComputedStyle(gd).display;\n",
       "        if (!display || display === 'none') {{\n",
       "            console.log([gd, 'removed!']);\n",
       "            Plotly.purge(gd);\n",
       "            observer.disconnect();\n",
       "        }}\n",
       "}});\n",
       "\n",
       "// Listen for the removal of the full notebook cells\n",
       "var notebookContainer = gd.closest('#notebook-container');\n",
       "if (notebookContainer) {{\n",
       "    x.observe(notebookContainer, {childList: true});\n",
       "}}\n",
       "\n",
       "// Listen for the clearing of the current output cell\n",
       "var outputEl = gd.closest('.output');\n",
       "if (outputEl) {{\n",
       "    x.observe(outputEl, {childList: true});\n",
       "}}\n",
       "\n",
       "                        })                };                });            </script>        </div>"
      ]
     },
     "metadata": {},
     "output_type": "display_data"
    }
   ],
   "source": [
    "fig = px.strip(evic_ed, x='nonwhite', y='school_type',\n",
    "              color = 'accred',\n",
    "              labels = {'accred':'Accreditation Status','econ_disadv':'% Economically Disadvantaged Students',\n",
    "                        'school_type':'', 'Accredited':'Fully Accredited', 'nonwhite':'% Non-white Students'},\n",
    "              hover_data = {'accred':False, 'black':':.0f%', 'school_type':False},\n",
    "              hover_name = 'school',\n",
    "              category_orders = {'school_type':['Elementary', 'Middle', 'High']},\n",
    "              orientation = 'v',\n",
    "              range_x = [0,110],\n",
    "              height = 500,\n",
    "              custom_data = ['school', 'Month Rate'],\n",
    "              color_discrete_sequence = ['gray','red'],\n",
    "\n",
    "               \n",
    "              )\n",
    "fig.update_traces(marker={'size': 14, 'opacity':0.5})\n",
    "\n",
    "fig.update_traces(hovertemplate=('%{customdata[0]}<br>'+'Non-white Students: %{x:.1f}%<br>'+'Eviction Rate in Zipcode: %{customdata[1]}'),\n",
    "                        hoverlabel=dict(\n",
    "                        bgcolor = 'lightgray',\n",
    "                        font_size=16,\n",
    "                        ))\n",
    "fig.update_traces(jitter=1)\n",
    "\n",
    "fig.update_layout(hovermode=\"x unified\", plot_bgcolor = 'white')\n",
    "fig.update_yaxes(showgrid=True, gridwidth=2, gridcolor='lightgray')\n",
    "\n",
    "fig.write_html('non_white_strip.html')\n",
    "fig.write_image('non_white_strip.png')\n",
    "\n",
    "fig.show()"
   ]
  },
  {
   "cell_type": "code",
   "execution_count": 87,
   "id": "cf5ca122",
   "metadata": {
    "scrolled": true
   },
   "outputs": [
    {
     "data": {
      "application/vnd.plotly.v1+json": {
       "config": {
        "plotlyServerURL": "https://plot.ly"
       },
       "data": [
        {
         "customdata": [
          [
           "Fully Accredited"
          ],
          [
           "Fully Accredited"
          ],
          [
           "Fully Accredited"
          ],
          [
           "Fully Accredited"
          ],
          [
           "Fully Accredited"
          ],
          [
           "Fully Accredited"
          ],
          [
           "Fully Accredited"
          ],
          [
           "Fully Accredited"
          ],
          [
           "Fully Accredited"
          ],
          [
           "Fully Accredited"
          ],
          [
           "Fully Accredited"
          ],
          [
           "Fully Accredited"
          ],
          [
           "Fully Accredited"
          ],
          [
           "Fully Accredited"
          ],
          [
           "Fully Accredited"
          ]
         ],
         "hovertemplate": "<b>%{hovertext}</b><br><br>% Black Students=%{x}<br>% Economically Disadvantaged Students=%{y}<extra></extra>",
         "hovertext": [
          "Barack Obama Elementary",
          "Richmond Community High",
          "Fairfield Court Elementary",
          "J.L. Francis Elementary",
          "Broad Rock Elementary",
          "Elizabeth D. Redd Elementary",
          "Patrick Henry School Of Science And Arts",
          "Southampton Elementary",
          "Richmond Career Education and Employment Charter School",
          "William Fox Elementary",
          "Open High",
          "Linwood Holton Elementary",
          "J.B. Fisher Elementary",
          "John B. Cary Elementary",
          "Mary Munford Elementary"
         ],
         "legendgroup": "Fully Accredited",
         "marker": {
          "color": "#636efa",
          "opacity": 0.7,
          "size": 12,
          "symbol": "circle"
         },
         "mode": "markers",
         "name": "Fully Accredited",
         "orientation": "v",
         "showlegend": true,
         "type": "scatter",
         "x": [
          null,
          57.5,
          91.6,
          38.8,
          46.2,
          56.6,
          47.6,
          71.3,
          null,
          36.8,
          37,
          38.1,
          58.3,
          49.8,
          8.5
         ],
         "xaxis": "x",
         "y": [
          null,
          36.5,
          96.4,
          72.6,
          74.4,
          74.7,
          43.7,
          63,
          null,
          43.9,
          37,
          32.9,
          48.9,
          54,
          12
         ],
         "yaxis": "y"
        },
        {
         "customdata": [
          [
           "Accredited with Conditions"
          ],
          [
           "Accredited with Conditions"
          ],
          [
           "Accredited with Conditions"
          ],
          [
           "Accredited with Conditions"
          ],
          [
           "Accredited with Conditions"
          ],
          [
           "Accredited with Conditions"
          ],
          [
           "Accredited with Conditions"
          ],
          [
           "Accredited with Conditions"
          ],
          [
           "Accredited with Conditions"
          ],
          [
           "Accredited with Conditions"
          ],
          [
           "Accredited with Conditions"
          ],
          [
           "Accredited with Conditions"
          ],
          [
           "Accredited with Conditions"
          ],
          [
           "Accredited with Conditions"
          ],
          [
           "Accredited with Conditions"
          ],
          [
           "Accredited with Conditions"
          ],
          [
           "Accredited with Conditions"
          ],
          [
           "Accredited with Conditions"
          ],
          [
           "Accredited with Conditions"
          ],
          [
           "Accredited with Conditions"
          ],
          [
           "Accredited with Conditions"
          ],
          [
           "Accredited with Conditions"
          ],
          [
           "Accredited with Conditions"
          ],
          [
           "Accredited with Conditions"
          ],
          [
           "Accredited with Conditions"
          ],
          [
           "Accredited with Conditions"
          ]
         ],
         "hovertemplate": "<b>%{hovertext}</b><br><br>% Black Students=%{x}<br>% Economically Disadvantaged Students=%{y}<extra></extra>",
         "hovertext": [
          "Overby-Sheppard Elementary",
          "Bellevue Elementary",
          "Chimborazo Elementary",
          "Henry Marsh III Elementary",
          "Woodville Elementary",
          "Martin Luther King Jr. Middle",
          "Armstrong High",
          "Blackwell Elementary",
          "Cardinal Elementary",
          "Oak Grove/Bellemeade Elementary",
          "Swansboro Elementary",
          "River City Middle",
          "Thomas C. Boushall Middle",
          "G.H. Reid Elementary",
          "Miles Jones Elementary",
          "Westover Hills Elementary",
          "Lucille M. Brown Middle",
          "George Wythe High",
          "Huguenot High",
          "George W. Carver Elementary",
          "Binford Middle",
          "Ginter Park Elementary",
          "Henderson Middle",
          "John Marshall High",
          "Albert Hill Middle",
          "Thomas Jefferson High"
         ],
         "legendgroup": "Accredited with Conditions",
         "marker": {
          "color": "#EF553B",
          "opacity": 0.7,
          "size": 12,
          "symbol": "circle"
         },
         "mode": "markers",
         "name": "Accredited with Conditions",
         "orientation": "v",
         "showlegend": true,
         "type": "scatter",
         "x": [
          null,
          null,
          78.7,
          92.5,
          93.6,
          90.6,
          90.2,
          85.5,
          13.2,
          70.4,
          77.2,
          38.5,
          51.6,
          36.3,
          59.8,
          null,
          70.6,
          41.7,
          53.4,
          89.8,
          64.8,
          88.6,
          84.9,
          79.5,
          57,
          63.9
         ],
         "xaxis": "x",
         "y": [
          85.1,
          null,
          80.8,
          91.7,
          95.1,
          93.8,
          85.4,
          85.5,
          53.8,
          83.5,
          80.4,
          67.9,
          75,
          69.2,
          78.5,
          null,
          71.6,
          60.1,
          62.8,
          89.3,
          65.7,
          88.6,
          79.8,
          72,
          62.8,
          61.7
         ],
         "yaxis": "y"
        }
       ],
       "layout": {
        "height": 600,
        "legend": {
         "title": {
          "text": "Accreditation"
         },
         "tracegroupgap": 0
        },
        "margin": {
         "t": 60
        },
        "template": {
         "data": {
          "bar": [
           {
            "error_x": {
             "color": "#2a3f5f"
            },
            "error_y": {
             "color": "#2a3f5f"
            },
            "marker": {
             "line": {
              "color": "#E5ECF6",
              "width": 0.5
             },
             "pattern": {
              "fillmode": "overlay",
              "size": 10,
              "solidity": 0.2
             }
            },
            "type": "bar"
           }
          ],
          "barpolar": [
           {
            "marker": {
             "line": {
              "color": "#E5ECF6",
              "width": 0.5
             },
             "pattern": {
              "fillmode": "overlay",
              "size": 10,
              "solidity": 0.2
             }
            },
            "type": "barpolar"
           }
          ],
          "carpet": [
           {
            "aaxis": {
             "endlinecolor": "#2a3f5f",
             "gridcolor": "white",
             "linecolor": "white",
             "minorgridcolor": "white",
             "startlinecolor": "#2a3f5f"
            },
            "baxis": {
             "endlinecolor": "#2a3f5f",
             "gridcolor": "white",
             "linecolor": "white",
             "minorgridcolor": "white",
             "startlinecolor": "#2a3f5f"
            },
            "type": "carpet"
           }
          ],
          "choropleth": [
           {
            "colorbar": {
             "outlinewidth": 0,
             "ticks": ""
            },
            "type": "choropleth"
           }
          ],
          "contour": [
           {
            "colorbar": {
             "outlinewidth": 0,
             "ticks": ""
            },
            "colorscale": [
             [
              0,
              "#0d0887"
             ],
             [
              0.1111111111111111,
              "#46039f"
             ],
             [
              0.2222222222222222,
              "#7201a8"
             ],
             [
              0.3333333333333333,
              "#9c179e"
             ],
             [
              0.4444444444444444,
              "#bd3786"
             ],
             [
              0.5555555555555556,
              "#d8576b"
             ],
             [
              0.6666666666666666,
              "#ed7953"
             ],
             [
              0.7777777777777778,
              "#fb9f3a"
             ],
             [
              0.8888888888888888,
              "#fdca26"
             ],
             [
              1,
              "#f0f921"
             ]
            ],
            "type": "contour"
           }
          ],
          "contourcarpet": [
           {
            "colorbar": {
             "outlinewidth": 0,
             "ticks": ""
            },
            "type": "contourcarpet"
           }
          ],
          "heatmap": [
           {
            "colorbar": {
             "outlinewidth": 0,
             "ticks": ""
            },
            "colorscale": [
             [
              0,
              "#0d0887"
             ],
             [
              0.1111111111111111,
              "#46039f"
             ],
             [
              0.2222222222222222,
              "#7201a8"
             ],
             [
              0.3333333333333333,
              "#9c179e"
             ],
             [
              0.4444444444444444,
              "#bd3786"
             ],
             [
              0.5555555555555556,
              "#d8576b"
             ],
             [
              0.6666666666666666,
              "#ed7953"
             ],
             [
              0.7777777777777778,
              "#fb9f3a"
             ],
             [
              0.8888888888888888,
              "#fdca26"
             ],
             [
              1,
              "#f0f921"
             ]
            ],
            "type": "heatmap"
           }
          ],
          "heatmapgl": [
           {
            "colorbar": {
             "outlinewidth": 0,
             "ticks": ""
            },
            "colorscale": [
             [
              0,
              "#0d0887"
             ],
             [
              0.1111111111111111,
              "#46039f"
             ],
             [
              0.2222222222222222,
              "#7201a8"
             ],
             [
              0.3333333333333333,
              "#9c179e"
             ],
             [
              0.4444444444444444,
              "#bd3786"
             ],
             [
              0.5555555555555556,
              "#d8576b"
             ],
             [
              0.6666666666666666,
              "#ed7953"
             ],
             [
              0.7777777777777778,
              "#fb9f3a"
             ],
             [
              0.8888888888888888,
              "#fdca26"
             ],
             [
              1,
              "#f0f921"
             ]
            ],
            "type": "heatmapgl"
           }
          ],
          "histogram": [
           {
            "marker": {
             "pattern": {
              "fillmode": "overlay",
              "size": 10,
              "solidity": 0.2
             }
            },
            "type": "histogram"
           }
          ],
          "histogram2d": [
           {
            "colorbar": {
             "outlinewidth": 0,
             "ticks": ""
            },
            "colorscale": [
             [
              0,
              "#0d0887"
             ],
             [
              0.1111111111111111,
              "#46039f"
             ],
             [
              0.2222222222222222,
              "#7201a8"
             ],
             [
              0.3333333333333333,
              "#9c179e"
             ],
             [
              0.4444444444444444,
              "#bd3786"
             ],
             [
              0.5555555555555556,
              "#d8576b"
             ],
             [
              0.6666666666666666,
              "#ed7953"
             ],
             [
              0.7777777777777778,
              "#fb9f3a"
             ],
             [
              0.8888888888888888,
              "#fdca26"
             ],
             [
              1,
              "#f0f921"
             ]
            ],
            "type": "histogram2d"
           }
          ],
          "histogram2dcontour": [
           {
            "colorbar": {
             "outlinewidth": 0,
             "ticks": ""
            },
            "colorscale": [
             [
              0,
              "#0d0887"
             ],
             [
              0.1111111111111111,
              "#46039f"
             ],
             [
              0.2222222222222222,
              "#7201a8"
             ],
             [
              0.3333333333333333,
              "#9c179e"
             ],
             [
              0.4444444444444444,
              "#bd3786"
             ],
             [
              0.5555555555555556,
              "#d8576b"
             ],
             [
              0.6666666666666666,
              "#ed7953"
             ],
             [
              0.7777777777777778,
              "#fb9f3a"
             ],
             [
              0.8888888888888888,
              "#fdca26"
             ],
             [
              1,
              "#f0f921"
             ]
            ],
            "type": "histogram2dcontour"
           }
          ],
          "mesh3d": [
           {
            "colorbar": {
             "outlinewidth": 0,
             "ticks": ""
            },
            "type": "mesh3d"
           }
          ],
          "parcoords": [
           {
            "line": {
             "colorbar": {
              "outlinewidth": 0,
              "ticks": ""
             }
            },
            "type": "parcoords"
           }
          ],
          "pie": [
           {
            "automargin": true,
            "type": "pie"
           }
          ],
          "scatter": [
           {
            "fillpattern": {
             "fillmode": "overlay",
             "size": 10,
             "solidity": 0.2
            },
            "type": "scatter"
           }
          ],
          "scatter3d": [
           {
            "line": {
             "colorbar": {
              "outlinewidth": 0,
              "ticks": ""
             }
            },
            "marker": {
             "colorbar": {
              "outlinewidth": 0,
              "ticks": ""
             }
            },
            "type": "scatter3d"
           }
          ],
          "scattercarpet": [
           {
            "marker": {
             "colorbar": {
              "outlinewidth": 0,
              "ticks": ""
             }
            },
            "type": "scattercarpet"
           }
          ],
          "scattergeo": [
           {
            "marker": {
             "colorbar": {
              "outlinewidth": 0,
              "ticks": ""
             }
            },
            "type": "scattergeo"
           }
          ],
          "scattergl": [
           {
            "marker": {
             "colorbar": {
              "outlinewidth": 0,
              "ticks": ""
             }
            },
            "type": "scattergl"
           }
          ],
          "scattermapbox": [
           {
            "marker": {
             "colorbar": {
              "outlinewidth": 0,
              "ticks": ""
             }
            },
            "type": "scattermapbox"
           }
          ],
          "scatterpolar": [
           {
            "marker": {
             "colorbar": {
              "outlinewidth": 0,
              "ticks": ""
             }
            },
            "type": "scatterpolar"
           }
          ],
          "scatterpolargl": [
           {
            "marker": {
             "colorbar": {
              "outlinewidth": 0,
              "ticks": ""
             }
            },
            "type": "scatterpolargl"
           }
          ],
          "scatterternary": [
           {
            "marker": {
             "colorbar": {
              "outlinewidth": 0,
              "ticks": ""
             }
            },
            "type": "scatterternary"
           }
          ],
          "surface": [
           {
            "colorbar": {
             "outlinewidth": 0,
             "ticks": ""
            },
            "colorscale": [
             [
              0,
              "#0d0887"
             ],
             [
              0.1111111111111111,
              "#46039f"
             ],
             [
              0.2222222222222222,
              "#7201a8"
             ],
             [
              0.3333333333333333,
              "#9c179e"
             ],
             [
              0.4444444444444444,
              "#bd3786"
             ],
             [
              0.5555555555555556,
              "#d8576b"
             ],
             [
              0.6666666666666666,
              "#ed7953"
             ],
             [
              0.7777777777777778,
              "#fb9f3a"
             ],
             [
              0.8888888888888888,
              "#fdca26"
             ],
             [
              1,
              "#f0f921"
             ]
            ],
            "type": "surface"
           }
          ],
          "table": [
           {
            "cells": {
             "fill": {
              "color": "#EBF0F8"
             },
             "line": {
              "color": "white"
             }
            },
            "header": {
             "fill": {
              "color": "#C8D4E3"
             },
             "line": {
              "color": "white"
             }
            },
            "type": "table"
           }
          ]
         },
         "layout": {
          "annotationdefaults": {
           "arrowcolor": "#2a3f5f",
           "arrowhead": 0,
           "arrowwidth": 1
          },
          "autotypenumbers": "strict",
          "coloraxis": {
           "colorbar": {
            "outlinewidth": 0,
            "ticks": ""
           }
          },
          "colorscale": {
           "diverging": [
            [
             0,
             "#8e0152"
            ],
            [
             0.1,
             "#c51b7d"
            ],
            [
             0.2,
             "#de77ae"
            ],
            [
             0.3,
             "#f1b6da"
            ],
            [
             0.4,
             "#fde0ef"
            ],
            [
             0.5,
             "#f7f7f7"
            ],
            [
             0.6,
             "#e6f5d0"
            ],
            [
             0.7,
             "#b8e186"
            ],
            [
             0.8,
             "#7fbc41"
            ],
            [
             0.9,
             "#4d9221"
            ],
            [
             1,
             "#276419"
            ]
           ],
           "sequential": [
            [
             0,
             "#0d0887"
            ],
            [
             0.1111111111111111,
             "#46039f"
            ],
            [
             0.2222222222222222,
             "#7201a8"
            ],
            [
             0.3333333333333333,
             "#9c179e"
            ],
            [
             0.4444444444444444,
             "#bd3786"
            ],
            [
             0.5555555555555556,
             "#d8576b"
            ],
            [
             0.6666666666666666,
             "#ed7953"
            ],
            [
             0.7777777777777778,
             "#fb9f3a"
            ],
            [
             0.8888888888888888,
             "#fdca26"
            ],
            [
             1,
             "#f0f921"
            ]
           ],
           "sequentialminus": [
            [
             0,
             "#0d0887"
            ],
            [
             0.1111111111111111,
             "#46039f"
            ],
            [
             0.2222222222222222,
             "#7201a8"
            ],
            [
             0.3333333333333333,
             "#9c179e"
            ],
            [
             0.4444444444444444,
             "#bd3786"
            ],
            [
             0.5555555555555556,
             "#d8576b"
            ],
            [
             0.6666666666666666,
             "#ed7953"
            ],
            [
             0.7777777777777778,
             "#fb9f3a"
            ],
            [
             0.8888888888888888,
             "#fdca26"
            ],
            [
             1,
             "#f0f921"
            ]
           ]
          },
          "colorway": [
           "#636efa",
           "#EF553B",
           "#00cc96",
           "#ab63fa",
           "#FFA15A",
           "#19d3f3",
           "#FF6692",
           "#B6E880",
           "#FF97FF",
           "#FECB52"
          ],
          "font": {
           "color": "#2a3f5f"
          },
          "geo": {
           "bgcolor": "white",
           "lakecolor": "white",
           "landcolor": "#E5ECF6",
           "showlakes": true,
           "showland": true,
           "subunitcolor": "white"
          },
          "hoverlabel": {
           "align": "left"
          },
          "hovermode": "closest",
          "mapbox": {
           "style": "light"
          },
          "paper_bgcolor": "white",
          "plot_bgcolor": "#E5ECF6",
          "polar": {
           "angularaxis": {
            "gridcolor": "white",
            "linecolor": "white",
            "ticks": ""
           },
           "bgcolor": "#E5ECF6",
           "radialaxis": {
            "gridcolor": "white",
            "linecolor": "white",
            "ticks": ""
           }
          },
          "scene": {
           "xaxis": {
            "backgroundcolor": "#E5ECF6",
            "gridcolor": "white",
            "gridwidth": 2,
            "linecolor": "white",
            "showbackground": true,
            "ticks": "",
            "zerolinecolor": "white"
           },
           "yaxis": {
            "backgroundcolor": "#E5ECF6",
            "gridcolor": "white",
            "gridwidth": 2,
            "linecolor": "white",
            "showbackground": true,
            "ticks": "",
            "zerolinecolor": "white"
           },
           "zaxis": {
            "backgroundcolor": "#E5ECF6",
            "gridcolor": "white",
            "gridwidth": 2,
            "linecolor": "white",
            "showbackground": true,
            "ticks": "",
            "zerolinecolor": "white"
           }
          },
          "shapedefaults": {
           "line": {
            "color": "#2a3f5f"
           }
          },
          "ternary": {
           "aaxis": {
            "gridcolor": "white",
            "linecolor": "white",
            "ticks": ""
           },
           "baxis": {
            "gridcolor": "white",
            "linecolor": "white",
            "ticks": ""
           },
           "bgcolor": "#E5ECF6",
           "caxis": {
            "gridcolor": "white",
            "linecolor": "white",
            "ticks": ""
           }
          },
          "title": {
           "x": 0.05
          },
          "xaxis": {
           "automargin": true,
           "gridcolor": "white",
           "linecolor": "white",
           "ticks": "",
           "title": {
            "standoff": 15
           },
           "zerolinecolor": "white",
           "zerolinewidth": 2
          },
          "yaxis": {
           "automargin": true,
           "gridcolor": "white",
           "linecolor": "white",
           "ticks": "",
           "title": {
            "standoff": 15
           },
           "zerolinecolor": "white",
           "zerolinewidth": 2
          }
         }
        },
        "xaxis": {
         "anchor": "y",
         "domain": [
          0,
          1
         ],
         "title": {
          "text": "% Black Students"
         }
        },
        "yaxis": {
         "anchor": "x",
         "domain": [
          0,
          1
         ],
         "title": {
          "text": "% Economically Disadvantaged Students"
         }
        }
       }
      },
      "text/html": [
       "<div>                            <div id=\"713bae16-0edd-40ce-85b4-6584ecba4c1b\" class=\"plotly-graph-div\" style=\"height:600px; width:100%;\"></div>            <script type=\"text/javascript\">                require([\"plotly\"], function(Plotly) {                    window.PLOTLYENV=window.PLOTLYENV || {};                                    if (document.getElementById(\"713bae16-0edd-40ce-85b4-6584ecba4c1b\")) {                    Plotly.newPlot(                        \"713bae16-0edd-40ce-85b4-6584ecba4c1b\",                        [{\"customdata\":[[\"Fully Accredited\"],[\"Fully Accredited\"],[\"Fully Accredited\"],[\"Fully Accredited\"],[\"Fully Accredited\"],[\"Fully Accredited\"],[\"Fully Accredited\"],[\"Fully Accredited\"],[\"Fully Accredited\"],[\"Fully Accredited\"],[\"Fully Accredited\"],[\"Fully Accredited\"],[\"Fully Accredited\"],[\"Fully Accredited\"],[\"Fully Accredited\"]],\"hovertemplate\":\"<b>%{hovertext}</b><br><br>% Black Students=%{x}<br>% Economically Disadvantaged Students=%{y}<extra></extra>\",\"hovertext\":[\"Barack Obama Elementary\",\"Richmond Community High\",\"Fairfield Court Elementary\",\"J.L. Francis Elementary\",\"Broad Rock Elementary\",\"Elizabeth D. Redd Elementary\",\"Patrick Henry School Of Science And Arts\",\"Southampton Elementary\",\"Richmond Career Education and Employment Charter School\",\"William Fox Elementary\",\"Open High\",\"Linwood Holton Elementary\",\"J.B. Fisher Elementary\",\"John B. Cary Elementary\",\"Mary Munford Elementary\"],\"legendgroup\":\"Fully Accredited\",\"marker\":{\"color\":\"#636efa\",\"symbol\":\"circle\",\"opacity\":0.7,\"size\":12},\"mode\":\"markers\",\"name\":\"Fully Accredited\",\"orientation\":\"v\",\"showlegend\":true,\"x\":[null,57.5,91.6,38.8,46.2,56.6,47.6,71.3,null,36.8,37.0,38.1,58.3,49.8,8.5],\"xaxis\":\"x\",\"y\":[null,36.5,96.4,72.6,74.4,74.7,43.7,63.0,null,43.9,37.0,32.9,48.9,54.0,12.0],\"yaxis\":\"y\",\"type\":\"scatter\"},{\"customdata\":[[\"Accredited with Conditions\"],[\"Accredited with Conditions\"],[\"Accredited with Conditions\"],[\"Accredited with Conditions\"],[\"Accredited with Conditions\"],[\"Accredited with Conditions\"],[\"Accredited with Conditions\"],[\"Accredited with Conditions\"],[\"Accredited with Conditions\"],[\"Accredited with Conditions\"],[\"Accredited with Conditions\"],[\"Accredited with Conditions\"],[\"Accredited with Conditions\"],[\"Accredited with Conditions\"],[\"Accredited with Conditions\"],[\"Accredited with Conditions\"],[\"Accredited with Conditions\"],[\"Accredited with Conditions\"],[\"Accredited with Conditions\"],[\"Accredited with Conditions\"],[\"Accredited with Conditions\"],[\"Accredited with Conditions\"],[\"Accredited with Conditions\"],[\"Accredited with Conditions\"],[\"Accredited with Conditions\"],[\"Accredited with Conditions\"]],\"hovertemplate\":\"<b>%{hovertext}</b><br><br>% Black Students=%{x}<br>% Economically Disadvantaged Students=%{y}<extra></extra>\",\"hovertext\":[\"Overby-Sheppard Elementary\",\"Bellevue Elementary\",\"Chimborazo Elementary\",\"Henry Marsh III Elementary\",\"Woodville Elementary\",\"Martin Luther King Jr. Middle\",\"Armstrong High\",\"Blackwell Elementary\",\"Cardinal Elementary\",\"Oak Grove/Bellemeade Elementary\",\"Swansboro Elementary\",\"River City Middle\",\"Thomas C. Boushall Middle\",\"G.H. Reid Elementary\",\"Miles Jones Elementary\",\"Westover Hills Elementary\",\"Lucille M. Brown Middle\",\"George Wythe High\",\"Huguenot High\",\"George W. Carver Elementary\",\"Binford Middle\",\"Ginter Park Elementary\",\"Henderson Middle\",\"John Marshall High\",\"Albert Hill Middle\",\"Thomas Jefferson High\"],\"legendgroup\":\"Accredited with Conditions\",\"marker\":{\"color\":\"#EF553B\",\"symbol\":\"circle\",\"opacity\":0.7,\"size\":12},\"mode\":\"markers\",\"name\":\"Accredited with Conditions\",\"orientation\":\"v\",\"showlegend\":true,\"x\":[null,null,78.7,92.5,93.6,90.6,90.2,85.5,13.2,70.4,77.2,38.5,51.6,36.3,59.8,null,70.6,41.7,53.4,89.8,64.8,88.6,84.9,79.5,57.0,63.9],\"xaxis\":\"x\",\"y\":[85.1,null,80.8,91.7,95.1,93.8,85.4,85.5,53.8,83.5,80.4,67.9,75.0,69.2,78.5,null,71.6,60.1,62.8,89.3,65.7,88.6,79.8,72.0,62.8,61.7],\"yaxis\":\"y\",\"type\":\"scatter\"}],                        {\"template\":{\"data\":{\"histogram2dcontour\":[{\"type\":\"histogram2dcontour\",\"colorbar\":{\"outlinewidth\":0,\"ticks\":\"\"},\"colorscale\":[[0.0,\"#0d0887\"],[0.1111111111111111,\"#46039f\"],[0.2222222222222222,\"#7201a8\"],[0.3333333333333333,\"#9c179e\"],[0.4444444444444444,\"#bd3786\"],[0.5555555555555556,\"#d8576b\"],[0.6666666666666666,\"#ed7953\"],[0.7777777777777778,\"#fb9f3a\"],[0.8888888888888888,\"#fdca26\"],[1.0,\"#f0f921\"]]}],\"choropleth\":[{\"type\":\"choropleth\",\"colorbar\":{\"outlinewidth\":0,\"ticks\":\"\"}}],\"histogram2d\":[{\"type\":\"histogram2d\",\"colorbar\":{\"outlinewidth\":0,\"ticks\":\"\"},\"colorscale\":[[0.0,\"#0d0887\"],[0.1111111111111111,\"#46039f\"],[0.2222222222222222,\"#7201a8\"],[0.3333333333333333,\"#9c179e\"],[0.4444444444444444,\"#bd3786\"],[0.5555555555555556,\"#d8576b\"],[0.6666666666666666,\"#ed7953\"],[0.7777777777777778,\"#fb9f3a\"],[0.8888888888888888,\"#fdca26\"],[1.0,\"#f0f921\"]]}],\"heatmap\":[{\"type\":\"heatmap\",\"colorbar\":{\"outlinewidth\":0,\"ticks\":\"\"},\"colorscale\":[[0.0,\"#0d0887\"],[0.1111111111111111,\"#46039f\"],[0.2222222222222222,\"#7201a8\"],[0.3333333333333333,\"#9c179e\"],[0.4444444444444444,\"#bd3786\"],[0.5555555555555556,\"#d8576b\"],[0.6666666666666666,\"#ed7953\"],[0.7777777777777778,\"#fb9f3a\"],[0.8888888888888888,\"#fdca26\"],[1.0,\"#f0f921\"]]}],\"heatmapgl\":[{\"type\":\"heatmapgl\",\"colorbar\":{\"outlinewidth\":0,\"ticks\":\"\"},\"colorscale\":[[0.0,\"#0d0887\"],[0.1111111111111111,\"#46039f\"],[0.2222222222222222,\"#7201a8\"],[0.3333333333333333,\"#9c179e\"],[0.4444444444444444,\"#bd3786\"],[0.5555555555555556,\"#d8576b\"],[0.6666666666666666,\"#ed7953\"],[0.7777777777777778,\"#fb9f3a\"],[0.8888888888888888,\"#fdca26\"],[1.0,\"#f0f921\"]]}],\"contourcarpet\":[{\"type\":\"contourcarpet\",\"colorbar\":{\"outlinewidth\":0,\"ticks\":\"\"}}],\"contour\":[{\"type\":\"contour\",\"colorbar\":{\"outlinewidth\":0,\"ticks\":\"\"},\"colorscale\":[[0.0,\"#0d0887\"],[0.1111111111111111,\"#46039f\"],[0.2222222222222222,\"#7201a8\"],[0.3333333333333333,\"#9c179e\"],[0.4444444444444444,\"#bd3786\"],[0.5555555555555556,\"#d8576b\"],[0.6666666666666666,\"#ed7953\"],[0.7777777777777778,\"#fb9f3a\"],[0.8888888888888888,\"#fdca26\"],[1.0,\"#f0f921\"]]}],\"surface\":[{\"type\":\"surface\",\"colorbar\":{\"outlinewidth\":0,\"ticks\":\"\"},\"colorscale\":[[0.0,\"#0d0887\"],[0.1111111111111111,\"#46039f\"],[0.2222222222222222,\"#7201a8\"],[0.3333333333333333,\"#9c179e\"],[0.4444444444444444,\"#bd3786\"],[0.5555555555555556,\"#d8576b\"],[0.6666666666666666,\"#ed7953\"],[0.7777777777777778,\"#fb9f3a\"],[0.8888888888888888,\"#fdca26\"],[1.0,\"#f0f921\"]]}],\"mesh3d\":[{\"type\":\"mesh3d\",\"colorbar\":{\"outlinewidth\":0,\"ticks\":\"\"}}],\"scatter\":[{\"fillpattern\":{\"fillmode\":\"overlay\",\"size\":10,\"solidity\":0.2},\"type\":\"scatter\"}],\"parcoords\":[{\"type\":\"parcoords\",\"line\":{\"colorbar\":{\"outlinewidth\":0,\"ticks\":\"\"}}}],\"scatterpolargl\":[{\"type\":\"scatterpolargl\",\"marker\":{\"colorbar\":{\"outlinewidth\":0,\"ticks\":\"\"}}}],\"bar\":[{\"error_x\":{\"color\":\"#2a3f5f\"},\"error_y\":{\"color\":\"#2a3f5f\"},\"marker\":{\"line\":{\"color\":\"#E5ECF6\",\"width\":0.5},\"pattern\":{\"fillmode\":\"overlay\",\"size\":10,\"solidity\":0.2}},\"type\":\"bar\"}],\"scattergeo\":[{\"type\":\"scattergeo\",\"marker\":{\"colorbar\":{\"outlinewidth\":0,\"ticks\":\"\"}}}],\"scatterpolar\":[{\"type\":\"scatterpolar\",\"marker\":{\"colorbar\":{\"outlinewidth\":0,\"ticks\":\"\"}}}],\"histogram\":[{\"marker\":{\"pattern\":{\"fillmode\":\"overlay\",\"size\":10,\"solidity\":0.2}},\"type\":\"histogram\"}],\"scattergl\":[{\"type\":\"scattergl\",\"marker\":{\"colorbar\":{\"outlinewidth\":0,\"ticks\":\"\"}}}],\"scatter3d\":[{\"type\":\"scatter3d\",\"line\":{\"colorbar\":{\"outlinewidth\":0,\"ticks\":\"\"}},\"marker\":{\"colorbar\":{\"outlinewidth\":0,\"ticks\":\"\"}}}],\"scattermapbox\":[{\"type\":\"scattermapbox\",\"marker\":{\"colorbar\":{\"outlinewidth\":0,\"ticks\":\"\"}}}],\"scatterternary\":[{\"type\":\"scatterternary\",\"marker\":{\"colorbar\":{\"outlinewidth\":0,\"ticks\":\"\"}}}],\"scattercarpet\":[{\"type\":\"scattercarpet\",\"marker\":{\"colorbar\":{\"outlinewidth\":0,\"ticks\":\"\"}}}],\"carpet\":[{\"aaxis\":{\"endlinecolor\":\"#2a3f5f\",\"gridcolor\":\"white\",\"linecolor\":\"white\",\"minorgridcolor\":\"white\",\"startlinecolor\":\"#2a3f5f\"},\"baxis\":{\"endlinecolor\":\"#2a3f5f\",\"gridcolor\":\"white\",\"linecolor\":\"white\",\"minorgridcolor\":\"white\",\"startlinecolor\":\"#2a3f5f\"},\"type\":\"carpet\"}],\"table\":[{\"cells\":{\"fill\":{\"color\":\"#EBF0F8\"},\"line\":{\"color\":\"white\"}},\"header\":{\"fill\":{\"color\":\"#C8D4E3\"},\"line\":{\"color\":\"white\"}},\"type\":\"table\"}],\"barpolar\":[{\"marker\":{\"line\":{\"color\":\"#E5ECF6\",\"width\":0.5},\"pattern\":{\"fillmode\":\"overlay\",\"size\":10,\"solidity\":0.2}},\"type\":\"barpolar\"}],\"pie\":[{\"automargin\":true,\"type\":\"pie\"}]},\"layout\":{\"autotypenumbers\":\"strict\",\"colorway\":[\"#636efa\",\"#EF553B\",\"#00cc96\",\"#ab63fa\",\"#FFA15A\",\"#19d3f3\",\"#FF6692\",\"#B6E880\",\"#FF97FF\",\"#FECB52\"],\"font\":{\"color\":\"#2a3f5f\"},\"hovermode\":\"closest\",\"hoverlabel\":{\"align\":\"left\"},\"paper_bgcolor\":\"white\",\"plot_bgcolor\":\"#E5ECF6\",\"polar\":{\"bgcolor\":\"#E5ECF6\",\"angularaxis\":{\"gridcolor\":\"white\",\"linecolor\":\"white\",\"ticks\":\"\"},\"radialaxis\":{\"gridcolor\":\"white\",\"linecolor\":\"white\",\"ticks\":\"\"}},\"ternary\":{\"bgcolor\":\"#E5ECF6\",\"aaxis\":{\"gridcolor\":\"white\",\"linecolor\":\"white\",\"ticks\":\"\"},\"baxis\":{\"gridcolor\":\"white\",\"linecolor\":\"white\",\"ticks\":\"\"},\"caxis\":{\"gridcolor\":\"white\",\"linecolor\":\"white\",\"ticks\":\"\"}},\"coloraxis\":{\"colorbar\":{\"outlinewidth\":0,\"ticks\":\"\"}},\"colorscale\":{\"sequential\":[[0.0,\"#0d0887\"],[0.1111111111111111,\"#46039f\"],[0.2222222222222222,\"#7201a8\"],[0.3333333333333333,\"#9c179e\"],[0.4444444444444444,\"#bd3786\"],[0.5555555555555556,\"#d8576b\"],[0.6666666666666666,\"#ed7953\"],[0.7777777777777778,\"#fb9f3a\"],[0.8888888888888888,\"#fdca26\"],[1.0,\"#f0f921\"]],\"sequentialminus\":[[0.0,\"#0d0887\"],[0.1111111111111111,\"#46039f\"],[0.2222222222222222,\"#7201a8\"],[0.3333333333333333,\"#9c179e\"],[0.4444444444444444,\"#bd3786\"],[0.5555555555555556,\"#d8576b\"],[0.6666666666666666,\"#ed7953\"],[0.7777777777777778,\"#fb9f3a\"],[0.8888888888888888,\"#fdca26\"],[1.0,\"#f0f921\"]],\"diverging\":[[0,\"#8e0152\"],[0.1,\"#c51b7d\"],[0.2,\"#de77ae\"],[0.3,\"#f1b6da\"],[0.4,\"#fde0ef\"],[0.5,\"#f7f7f7\"],[0.6,\"#e6f5d0\"],[0.7,\"#b8e186\"],[0.8,\"#7fbc41\"],[0.9,\"#4d9221\"],[1,\"#276419\"]]},\"xaxis\":{\"gridcolor\":\"white\",\"linecolor\":\"white\",\"ticks\":\"\",\"title\":{\"standoff\":15},\"zerolinecolor\":\"white\",\"automargin\":true,\"zerolinewidth\":2},\"yaxis\":{\"gridcolor\":\"white\",\"linecolor\":\"white\",\"ticks\":\"\",\"title\":{\"standoff\":15},\"zerolinecolor\":\"white\",\"automargin\":true,\"zerolinewidth\":2},\"scene\":{\"xaxis\":{\"backgroundcolor\":\"#E5ECF6\",\"gridcolor\":\"white\",\"linecolor\":\"white\",\"showbackground\":true,\"ticks\":\"\",\"zerolinecolor\":\"white\",\"gridwidth\":2},\"yaxis\":{\"backgroundcolor\":\"#E5ECF6\",\"gridcolor\":\"white\",\"linecolor\":\"white\",\"showbackground\":true,\"ticks\":\"\",\"zerolinecolor\":\"white\",\"gridwidth\":2},\"zaxis\":{\"backgroundcolor\":\"#E5ECF6\",\"gridcolor\":\"white\",\"linecolor\":\"white\",\"showbackground\":true,\"ticks\":\"\",\"zerolinecolor\":\"white\",\"gridwidth\":2}},\"shapedefaults\":{\"line\":{\"color\":\"#2a3f5f\"}},\"annotationdefaults\":{\"arrowcolor\":\"#2a3f5f\",\"arrowhead\":0,\"arrowwidth\":1},\"geo\":{\"bgcolor\":\"white\",\"landcolor\":\"#E5ECF6\",\"subunitcolor\":\"white\",\"showland\":true,\"showlakes\":true,\"lakecolor\":\"white\"},\"title\":{\"x\":0.05},\"mapbox\":{\"style\":\"light\"}}},\"xaxis\":{\"anchor\":\"y\",\"domain\":[0.0,1.0],\"title\":{\"text\":\"% Black Students\"}},\"yaxis\":{\"anchor\":\"x\",\"domain\":[0.0,1.0],\"title\":{\"text\":\"% Economically Disadvantaged Students\"}},\"legend\":{\"title\":{\"text\":\"Accreditation\"},\"tracegroupgap\":0},\"margin\":{\"t\":60},\"height\":600},                        {\"responsive\": true}                    ).then(function(){\n",
       "                            \n",
       "var gd = document.getElementById('713bae16-0edd-40ce-85b4-6584ecba4c1b');\n",
       "var x = new MutationObserver(function (mutations, observer) {{\n",
       "        var display = window.getComputedStyle(gd).display;\n",
       "        if (!display || display === 'none') {{\n",
       "            console.log([gd, 'removed!']);\n",
       "            Plotly.purge(gd);\n",
       "            observer.disconnect();\n",
       "        }}\n",
       "}});\n",
       "\n",
       "// Listen for the removal of the full notebook cells\n",
       "var notebookContainer = gd.closest('#notebook-container');\n",
       "if (notebookContainer) {{\n",
       "    x.observe(notebookContainer, {childList: true});\n",
       "}}\n",
       "\n",
       "// Listen for the clearing of the current output cell\n",
       "var outputEl = gd.closest('.output');\n",
       "if (outputEl) {{\n",
       "    x.observe(outputEl, {childList: true});\n",
       "}}\n",
       "\n",
       "                        })                };                });            </script>        </div>"
      ]
     },
     "metadata": {},
     "output_type": "display_data"
    }
   ],
   "source": [
    "fig = px.scatter(evic_ed, x='black', y='econ_disadv',\n",
    "                 hover_name='school', \n",
    "                 color = 'accred',\n",
    "                 labels = {'accred':'Accreditation','black':'% Black Students', 'econ_disadv':'% Economically Disadvantaged Students'},\n",
    "                 hover_data = {'accred':False},\n",
    "                 height = 600)\n",
    "fig.update_traces(marker={'size': 12, 'opacity':0.7})\n",
    "#fig.update_traces(marker = {'symbol': 'hexagon'},\n",
    " #                selector = {'schooL_type':'Elementary'})\n",
    "\n",
    "fig.write_image('scatter.png')\n",
    "fig.write_html('scatter.html')\n",
    "fig.show()"
   ]
  },
  {
   "cell_type": "code",
   "execution_count": null,
   "id": "6a24ae2c",
   "metadata": {},
   "outputs": [],
   "source": []
  },
  {
   "cell_type": "code",
   "execution_count": 88,
   "id": "5943d490",
   "metadata": {},
   "outputs": [
    {
     "data": {
      "image/png": "[encoded data removed]",
      "text/plain": [
       "<Waffle size 432x288 with 1 Axes>"
      ]
     },
     "execution_count": 88,
     "metadata": {},
     "output_type": "execute_result"
    },
    {
     "data": {
      "image/png": "[encoded data removed]",
      "text/plain": [
       "<Waffle size 432x288 with 1 Axes>"
      ]
     },
     "metadata": {
      "needs_background": "light"
     },
     "output_type": "display_data"
    }
   ],
   "source": [
    "waffle = plt.figure(\n",
    "    FigureClass=Waffle,\n",
    "    rows=4,\n",
    "    columns=11,\n",
    "    values=schools_accr['accred'].value_counts(),\n",
    "    legend={\n",
    "        'labels': ['Accredited with Conditions', 'Fully Accredited'], \n",
    "        'loc': 'upper left', \n",
    "        'bbox_to_anchor': (1, 1)},\n",
    "    icon_size=20,\n",
    "    icon_style=['regular', 'solid'],\n",
    "\n",
    ")\n",
    "waffle"
   ]
  },
  {
   "cell_type": "code",
   "execution_count": null,
   "id": "f9668014",
   "metadata": {},
   "outputs": [],
   "source": []
  },
  {
   "cell_type": "code",
   "execution_count": null,
   "id": "ecbbc243",
   "metadata": {},
   "outputs": [],
   "source": []
  }
 ],
 "metadata": {
  "kernelspec": {
   "display_name": "Python 3",
   "language": "python",
   "name": "python3"
  },
  "language_info": {
   "codemirror_mode": {
    "name": "ipython",
    "version": 3
   },
   "file_extension": ".py",
   "mimetype": "text/x-python",
   "name": "python",
   "nbconvert_exporter": "python",
   "pygments_lexer": "ipython3",
   "version": "3.8.8"
  }
 },
 "nbformat": 4,
 "nbformat_minor": 5
}
