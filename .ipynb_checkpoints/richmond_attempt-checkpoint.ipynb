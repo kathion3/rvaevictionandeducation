{
 "cells": [
  {
   "cell_type": "code",
   "execution_count": 58,
   "id": "3d622b25",
   "metadata": {},
   "outputs": [
    {
     "name": "stdout",
     "output_type": "stream",
     "text": [
      "Collecting fontawesomefree\n",
      "  Using cached fontawesomefree-6.4.0-py3-none-any.whl (25.2 MB)\n",
      "Installing collected packages: fontawesomefree\n"
     ]
    },
    {
     "name": "stderr",
     "output_type": "stream",
     "text": [
      "ERROR: Could not install packages due to an OSError: [WinError 32] The process cannot access the file because it is being used by another process: 'C:\\\\Users\\\\work_\\\\Anaconda\\\\Lib\\\\site-packages\\\\fontawesomefree\\\\static\\\\fontawesomefree\\\\otfs\\\\Font Awesome 6 Free-Regular-400.otf'\n",
      "Consider using the `--user` option or check the permissions.\n",
      "\n"
     ]
    },
    {
     "name": "stdout",
     "output_type": "stream",
     "text": [
      "Collecting pywaffle\n",
      "  Using cached pywaffle-1.1.0-py2.py3-none-any.whl (30 kB)\n",
      "Installing collected packages: pywaffle\n",
      "  Attempting uninstall: pywaffle\n",
      "    Found existing installation: pywaffle 1.1.0\n",
      "    Uninstalling pywaffle-1.1.0:\n",
      "      Successfully uninstalled pywaffle-1.1.0\n",
      "Successfully installed pywaffle-1.1.0\n"
     ]
    }
   ],
   "source": [
    "!pip install fontawesomefree\n",
    "\n",
    "# Then reinstall pywaffle\n",
    "!pip install --force-reinstall --no-deps pywaffle\n",
    "\n",
    "import plotly.graph_objects as go\n",
    "import pandas as pd\n",
    "import plotly.express as px\n",
    "import folium\n",
    "import geopandas\n",
    "import matplotlib.pyplot as plt\n",
    "from IPython.display import display\n",
    "from pywaffle import Waffle"
   ]
  },
  {
   "cell_type": "code",
   "execution_count": 151,
   "id": "cfde95eb",
   "metadata": {},
   "outputs": [],
   "source": [
    "schools_accr = pd.read_csv('richmond_schools_accredit.csv')"
   ]
  },
  {
   "cell_type": "code",
   "execution_count": 6,
   "id": "56541f07",
   "metadata": {},
   "outputs": [],
   "source": [
    "evic_zipcode = pd.read_csv('richmond_evic_zipcode_2022.csv')"
   ]
  },
  {
   "cell_type": "code",
   "execution_count": 147,
   "id": "2f3e8edc",
   "metadata": {},
   "outputs": [],
   "source": [
    "evic_zip_rate = pd.read_csv('union.csv')"
   ]
  },
  {
   "cell_type": "code",
   "execution_count": 7,
   "id": "03c01834",
   "metadata": {
    "scrolled": true
   },
   "outputs": [
    {
     "data": {
      "text/plain": [
       "Index(['school', 'accred', 'school_type', 'address', 'latitude', 'longitude',\n",
       "       'eng_acad_ach', 'math_acad_ach', 'sci_acad_ach', 'eng_ach_gap',\n",
       "       'math_ach_gap', 'chro_abs', 'dropout_rate', 'grad_rate', 'econ_disadv',\n",
       "       'disabilities', 'black', 'hispanic', 'white', 'eng_learners',\n",
       "       'grad_rate.1', 'dropout_rate.1'],\n",
       "      dtype='object')"
      ]
     },
     "execution_count": 7,
     "metadata": {},
     "output_type": "execute_result"
    }
   ],
   "source": [
    "schools_accr.columns"
   ]
  },
  {
   "cell_type": "code",
   "execution_count": 8,
   "id": "a07925a2",
   "metadata": {},
   "outputs": [
    {
     "data": {
      "text/html": [
       "<div>\n",
       "<style scoped>\n",
       "    .dataframe tbody tr th:only-of-type {\n",
       "        vertical-align: middle;\n",
       "    }\n",
       "\n",
       "    .dataframe tbody tr th {\n",
       "        vertical-align: top;\n",
       "    }\n",
       "\n",
       "    .dataframe thead th {\n",
       "        text-align: right;\n",
       "    }\n",
       "</style>\n",
       "<table border=\"1\" class=\"dataframe\">\n",
       "  <thead>\n",
       "    <tr style=\"text-align: right;\">\n",
       "      <th></th>\n",
       "      <th>zipcode</th>\n",
       "      <th>q1_file</th>\n",
       "      <th>q1_evict</th>\n",
       "      <th>q2_file</th>\n",
       "      <th>q_2_evict</th>\n",
       "      <th>q3_file</th>\n",
       "      <th>q3_evict</th>\n",
       "      <th>q4_file</th>\n",
       "      <th>q4_evict</th>\n",
       "      <th>2022_file</th>\n",
       "      <th>2022_evict</th>\n",
       "      <th>51_zip</th>\n",
       "    </tr>\n",
       "  </thead>\n",
       "  <tbody>\n",
       "    <tr>\n",
       "      <th>0</th>\n",
       "      <td>23219</td>\n",
       "      <td>51</td>\n",
       "      <td>6</td>\n",
       "      <td>60</td>\n",
       "      <td>23</td>\n",
       "      <td>202</td>\n",
       "      <td>82</td>\n",
       "      <td>162</td>\n",
       "      <td>32</td>\n",
       "      <td>475</td>\n",
       "      <td>143</td>\n",
       "      <td>5123219.0</td>\n",
       "    </tr>\n",
       "    <tr>\n",
       "      <th>1</th>\n",
       "      <td>23220</td>\n",
       "      <td>62</td>\n",
       "      <td>19</td>\n",
       "      <td>91</td>\n",
       "      <td>41</td>\n",
       "      <td>246</td>\n",
       "      <td>89</td>\n",
       "      <td>253</td>\n",
       "      <td>88</td>\n",
       "      <td>652</td>\n",
       "      <td>237</td>\n",
       "      <td>5123220.0</td>\n",
       "    </tr>\n",
       "    <tr>\n",
       "      <th>2</th>\n",
       "      <td>23221</td>\n",
       "      <td>6</td>\n",
       "      <td>2</td>\n",
       "      <td>11</td>\n",
       "      <td>5</td>\n",
       "      <td>30</td>\n",
       "      <td>12</td>\n",
       "      <td>22</td>\n",
       "      <td>4</td>\n",
       "      <td>69</td>\n",
       "      <td>23</td>\n",
       "      <td>5123221.0</td>\n",
       "    </tr>\n",
       "    <tr>\n",
       "      <th>3</th>\n",
       "      <td>23222</td>\n",
       "      <td>51</td>\n",
       "      <td>13</td>\n",
       "      <td>66</td>\n",
       "      <td>32</td>\n",
       "      <td>241</td>\n",
       "      <td>116</td>\n",
       "      <td>247</td>\n",
       "      <td>95</td>\n",
       "      <td>605</td>\n",
       "      <td>256</td>\n",
       "      <td>5123222.0</td>\n",
       "    </tr>\n",
       "    <tr>\n",
       "      <th>4</th>\n",
       "      <td>23223</td>\n",
       "      <td>139</td>\n",
       "      <td>42</td>\n",
       "      <td>210</td>\n",
       "      <td>49</td>\n",
       "      <td>457</td>\n",
       "      <td>235</td>\n",
       "      <td>431</td>\n",
       "      <td>165</td>\n",
       "      <td>1237</td>\n",
       "      <td>491</td>\n",
       "      <td>5123223.0</td>\n",
       "    </tr>\n",
       "  </tbody>\n",
       "</table>\n",
       "</div>"
      ],
      "text/plain": [
       "  zipcode  q1_file  q1_evict  q2_file  q_2_evict  q3_file  q3_evict  q4_file  \\\n",
       "0   23219       51         6       60         23      202        82      162   \n",
       "1   23220       62        19       91         41      246        89      253   \n",
       "2   23221        6         2       11          5       30        12       22   \n",
       "3   23222       51        13       66         32      241       116      247   \n",
       "4   23223      139        42      210         49      457       235      431   \n",
       "\n",
       "   q4_evict  2022_file  2022_evict     51_zip  \n",
       "0        32        475         143  5123219.0  \n",
       "1        88        652         237  5123220.0  \n",
       "2         4         69          23  5123221.0  \n",
       "3        95        605         256  5123222.0  \n",
       "4       165       1237         491  5123223.0  "
      ]
     },
     "execution_count": 8,
     "metadata": {},
     "output_type": "execute_result"
    }
   ],
   "source": [
    "evic_zipcode.head()"
   ]
  },
  {
   "cell_type": "code",
   "execution_count": 9,
   "id": "3b2730e7",
   "metadata": {},
   "outputs": [],
   "source": [
    "geo_json = 'va_virginia_zip_codes_geo.min.json'\n",
    "RICHMOND_CENTER = [37.332256, -77.276156]"
   ]
  },
  {
   "cell_type": "code",
   "execution_count": 10,
   "id": "47860ddf",
   "metadata": {},
   "outputs": [],
   "source": [
    "map = folium.Map(RICHMOND_CENTER, zoom_start=7, tiles = None)"
   ]
  },
  {
   "cell_type": "code",
   "execution_count": 11,
   "id": "0988e274",
   "metadata": {},
   "outputs": [],
   "source": [
    "c = folium.GeoJson(geo_json).add_to(map)"
   ]
  },
  {
   "cell_type": "code",
   "execution_count": 12,
   "id": "f082f8eb",
   "metadata": {},
   "outputs": [],
   "source": [
    "#c = folium.Choropleth(geo_json, data = state_totals, columns = ['State_Name', 'stateBirths'],\n",
    " #                    key_on='feature.properties.name', highlight = True, fill_color = 'BuPu',\n",
    "  #                   legend_name = 'Births in 1999', bins = 8).add_to(m)\n"
   ]
  },
  {
   "cell_type": "code",
   "execution_count": 13,
   "id": "faa5341c",
   "metadata": {},
   "outputs": [
    {
     "ename": "AttributeError",
     "evalue": "'GeoJson' object has no attribute 'feature'",
     "output_type": "error",
     "traceback": [
      "\u001b[1;31m---------------------------------------------------------------------------\u001b[0m",
      "\u001b[1;31mAttributeError\u001b[0m                            Traceback (most recent call last)",
      "\u001b[1;32m<ipython-input-13-c2deb551b3e1>\u001b[0m in \u001b[0;36m<module>\u001b[1;34m\u001b[0m\n\u001b[1;32m----> 1\u001b[1;33m \u001b[0mc\u001b[0m\u001b[1;33m.\u001b[0m\u001b[0mfeature\u001b[0m\u001b[1;33m\u001b[0m\u001b[1;33m\u001b[0m\u001b[0m\n\u001b[0m",
      "\u001b[1;31mAttributeError\u001b[0m: 'GeoJson' object has no attribute 'feature'"
     ]
    }
   ],
   "source": [
    "c.feature"
   ]
  },
  {
   "cell_type": "code",
   "execution_count": null,
   "id": "2af09ddc",
   "metadata": {
    "scrolled": true
   },
   "outputs": [],
   "source": [
    "c = folium.Choropleth(geo_json, data = evic_zipcode, columns = ['51_zip', '2022_evict'], \n",
    "                      highlight = True, fill_color = 'BuPu', bins = 4,\n",
    "                      background_highlight = True,\n",
    "                      height = 600,\n",
    "                      width = 1000).add_to(map)\n"
   ]
  },
  {
   "cell_type": "code",
   "execution_count": null,
   "id": "f65e4c75",
   "metadata": {},
   "outputs": [],
   "source": [
    "for i in range(schools_accr.shape[0]):\n",
    "    lat,lon = schools_accr.loc[i,'latitude'],schools_accr.loc[i,'longitude']\n",
    "    school = schools_accr.loc[i,'school']\n",
    "    folium.Marker([lat,lon], popup = school, width = 100).add_to(map)"
   ]
  },
  {
   "cell_type": "code",
   "execution_count": null,
   "id": "0f24043c",
   "metadata": {
    "scrolled": true
   },
   "outputs": [],
   "source": [
    "map"
   ]
  },
  {
   "cell_type": "code",
   "execution_count": null,
   "id": "b9e593c9",
   "metadata": {},
   "outputs": [],
   "source": [
    "plt.hist()"
   ]
  },
  {
   "cell_type": "code",
   "execution_count": 152,
   "id": "c7ecae2d",
   "metadata": {},
   "outputs": [],
   "source": [
    "accred_dicot = []\n",
    "count = 0\n",
    "for i in schools_accr['accred']:\n",
    "    if i == 'Accredited':\n",
    "        accred_dicot.append(0)\n",
    "    elif i == 'Accredited with Conditions':\n",
    "        accred_dicot.append(.5)\n",
    "    else:\n",
    "        accred_dicot.append(1)\n",
    "schools_accr['accred_dicot'] = accred_dicot"
   ]
  },
  {
   "cell_type": "code",
   "execution_count": null,
   "id": "612a8e1a",
   "metadata": {},
   "outputs": [],
   "source": [
    "eng_dim = go.parcats.Dimension(\n",
    "    values = schools_accr['eng_ach_gap'],\n",
    "    label = 'English Achievement Gap',\n",
    "    categoryorder = 'array',\n",
    "    categoryarray = ['1','2','3'],\n",
    "    ticktext = ['Level<br>One', 'Level<br>Two', 'Level<br>Three'],\n",
    ")\n",
    "\n",
    "\n",
    "math_dim = go.parcats.Dimension(\n",
    "    values = schools_accr['math_ach_gap'],\n",
    "    label=  'Math Achievement Gap',\n",
    "    categoryorder = 'array',\n",
    "    categoryarray = ['1','2','3'],\n",
    "    ticktext = ['Level<br>One', 'Level<br>Two', 'Level<br>Three'],\n",
    ")\n",
    "\n",
    "abs_dim = go.parcats.Dimension(\n",
    "    values = schools_accr['chro_abs'],\n",
    "    label=  'Chronic Absenteeism',\n",
    "    categoryorder = 'array',\n",
    "    categoryarray = ['1','2','3'],\n",
    "    ticktext = ['Level<br>One', 'Level<br>Two', 'Level<br>Three'],\n",
    ")\n",
    "\n",
    "accred_dim = go.parcats.Dimension(\n",
    "    values = schools_accr['accred'],\n",
    "    label= 'Accreditation',\n",
    "    categoryorder = 'array',\n",
    "    categoryarray = ['Accredited', 'Accredited with Conditions'],\n",
    "    ticktext = ['Accredited', 'Accredited<br>with Conditions']\n",
    ")\n",
    "\n",
    "school_dim = go.parcats.Dimension(\n",
    "    values = schools_accr['school_type'],\n",
    "    label = 'School Level'\n",
    ")\n",
    "\n",
    "color = schools_accr.accred_dicot\n",
    "colorscale = [[0, 'lightsteelblue'], [.5, 'royalblue'], [1, 'navy']]\n",
    "    \n",
    "fig = go.Figure(data = [go.Parcats(dimensions=[accred_dim, eng_dim, math_dim, abs_dim, school_dim],\n",
    "                                  hoverinfo = 'count',\n",
    "                                  line = {'color':color, 'colorscale':colorscale, 'shape':'hspline'},\n",
    "                                  labelfont = {'size':16, 'family': 'Arial'},\n",
    "                                  tickfont = {'size':12, 'family': 'Arial'},\n",
    "                                  )])\n",
    "\n",
    "fig.update_layout(height = 700, width = 1000,\n",
    "                           title_text = 'Richmond Schools Accreditation',\n",
    "                           title_x = 0.5\n",
    "                           )\n",
    "\n",
    "fig.show()\n",
    "fig.write_image('school_cat.png')\n",
    "fig.write_html('school_cat.html')\n",
    "\n"
   ]
  },
  {
   "cell_type": "code",
   "execution_count": 153,
   "id": "15e92935",
   "metadata": {},
   "outputs": [],
   "source": [
    "schools_accr.drop(schools_accr.index[schools_accr['school_type'] == 'Combined 6-12'], inplace=True)\n",
    "schools_accr.drop(schools_accr.index[schools_accr['school_type'] == 'Combined K-12'], inplace=True)\n",
    "\n"
   ]
  },
  {
   "cell_type": "code",
   "execution_count": 154,
   "id": "842d4009",
   "metadata": {},
   "outputs": [
    {
     "data": {
      "text/plain": [
       "Elementary    26\n",
       "High           8\n",
       "Middle         7\n",
       "Name: school_type, dtype: int64"
      ]
     },
     "execution_count": 154,
     "metadata": {},
     "output_type": "execute_result"
    }
   ],
   "source": [
    "schools_accr['school_type'].value_counts()"
   ]
  },
  {
   "cell_type": "code",
   "execution_count": 155,
   "id": "fdde5511",
   "metadata": {},
   "outputs": [],
   "source": [
    "schools_accr['zip'] = schools_accr['address'].str.extract(r'(\\d{5}\\-?\\d{0,4})')"
   ]
  },
  {
   "cell_type": "code",
   "execution_count": 156,
   "id": "773bf217",
   "metadata": {},
   "outputs": [
    {
     "data": {
      "text/html": [
       "<div>\n",
       "<style scoped>\n",
       "    .dataframe tbody tr th:only-of-type {\n",
       "        vertical-align: middle;\n",
       "    }\n",
       "\n",
       "    .dataframe tbody tr th {\n",
       "        vertical-align: top;\n",
       "    }\n",
       "\n",
       "    .dataframe thead th {\n",
       "        text-align: right;\n",
       "    }\n",
       "</style>\n",
       "<table border=\"1\" class=\"dataframe\">\n",
       "  <thead>\n",
       "    <tr style=\"text-align: right;\">\n",
       "      <th></th>\n",
       "      <th>school</th>\n",
       "      <th>accred</th>\n",
       "      <th>school_type</th>\n",
       "      <th>address</th>\n",
       "      <th>latitude</th>\n",
       "      <th>longitude</th>\n",
       "      <th>eng_acad_ach</th>\n",
       "      <th>math_acad_ach</th>\n",
       "      <th>sci_acad_ach</th>\n",
       "      <th>eng_ach_gap</th>\n",
       "      <th>...</th>\n",
       "      <th>econ_disadv</th>\n",
       "      <th>disabilities</th>\n",
       "      <th>black</th>\n",
       "      <th>hispanic</th>\n",
       "      <th>white</th>\n",
       "      <th>eng_learners</th>\n",
       "      <th>grad_rate.1</th>\n",
       "      <th>dropout_rate.1</th>\n",
       "      <th>accred_dicot</th>\n",
       "      <th>zip</th>\n",
       "    </tr>\n",
       "  </thead>\n",
       "  <tbody>\n",
       "    <tr>\n",
       "      <th>0</th>\n",
       "      <td>Barack Obama Elementary</td>\n",
       "      <td>Accredited</td>\n",
       "      <td>Elementary</td>\n",
       "      <td>3101 Fendall Ave Richmond, VA 23222-2699</td>\n",
       "      <td>37.57376</td>\n",
       "      <td>-77.43577</td>\n",
       "      <td>1</td>\n",
       "      <td>1</td>\n",
       "      <td>1.0</td>\n",
       "      <td>2.0</td>\n",
       "      <td>...</td>\n",
       "      <td>NaN</td>\n",
       "      <td>NaN</td>\n",
       "      <td>NaN</td>\n",
       "      <td>NaN</td>\n",
       "      <td>NaN</td>\n",
       "      <td>NaN</td>\n",
       "      <td>NaN</td>\n",
       "      <td>NaN</td>\n",
       "      <td>0.0</td>\n",
       "      <td>23222-2699</td>\n",
       "    </tr>\n",
       "    <tr>\n",
       "      <th>1</th>\n",
       "      <td>Bellevue Elementary</td>\n",
       "      <td>Accredited with Conditions</td>\n",
       "      <td>Elementary</td>\n",
       "      <td>2301 E Grace St Richmond, VA 23223-7151</td>\n",
       "      <td>37.53117</td>\n",
       "      <td>-77.42140</td>\n",
       "      <td>1</td>\n",
       "      <td>2</td>\n",
       "      <td>3.0</td>\n",
       "      <td>1.0</td>\n",
       "      <td>...</td>\n",
       "      <td>NaN</td>\n",
       "      <td>NaN</td>\n",
       "      <td>NaN</td>\n",
       "      <td>NaN</td>\n",
       "      <td>NaN</td>\n",
       "      <td>NaN</td>\n",
       "      <td>NaN</td>\n",
       "      <td>NaN</td>\n",
       "      <td>0.5</td>\n",
       "      <td>23223-7151</td>\n",
       "    </tr>\n",
       "  </tbody>\n",
       "</table>\n",
       "<p>2 rows × 24 columns</p>\n",
       "</div>"
      ],
      "text/plain": [
       "                    school                      accred school_type  \\\n",
       "0  Barack Obama Elementary                  Accredited  Elementary   \n",
       "1      Bellevue Elementary  Accredited with Conditions  Elementary   \n",
       "\n",
       "                                    address  latitude  longitude  \\\n",
       "0  3101 Fendall Ave Richmond, VA 23222-2699  37.57376  -77.43577   \n",
       "1   2301 E Grace St Richmond, VA 23223-7151  37.53117  -77.42140   \n",
       "\n",
       "   eng_acad_ach  math_acad_ach  sci_acad_ach  eng_ach_gap  ...  econ_disadv  \\\n",
       "0             1              1           1.0          2.0  ...          NaN   \n",
       "1             1              2           3.0          1.0  ...          NaN   \n",
       "\n",
       "   disabilities  black  hispanic  white  eng_learners  grad_rate.1  \\\n",
       "0           NaN    NaN       NaN    NaN           NaN          NaN   \n",
       "1           NaN    NaN       NaN    NaN           NaN          NaN   \n",
       "\n",
       "   dropout_rate.1  accred_dicot         zip  \n",
       "0             NaN           0.0  23222-2699  \n",
       "1             NaN           0.5  23223-7151  \n",
       "\n",
       "[2 rows x 24 columns]"
      ]
     },
     "execution_count": 156,
     "metadata": {},
     "output_type": "execute_result"
    }
   ],
   "source": [
    "schools_accr.head(2)"
   ]
  },
  {
   "cell_type": "code",
   "execution_count": 160,
   "id": "6024e830",
   "metadata": {},
   "outputs": [
    {
     "data": {
      "text/html": [
       "<div>\n",
       "<style scoped>\n",
       "    .dataframe tbody tr th:only-of-type {\n",
       "        vertical-align: middle;\n",
       "    }\n",
       "\n",
       "    .dataframe tbody tr th {\n",
       "        vertical-align: top;\n",
       "    }\n",
       "\n",
       "    .dataframe thead th {\n",
       "        text-align: right;\n",
       "    }\n",
       "</style>\n",
       "<table border=\"1\" class=\"dataframe\">\n",
       "  <thead>\n",
       "    <tr style=\"text-align: right;\">\n",
       "      <th></th>\n",
       "      <th>51 Zip</th>\n",
       "      <th>Id</th>\n",
       "      <th>Month Date</th>\n",
       "      <th>Month Diff</th>\n",
       "      <th>Month Rate Scale Max</th>\n",
       "      <th>month_filings</th>\n",
       "      <th>Zipcode</th>\n",
       "      <th>2022 Evict</th>\n",
       "      <th>2022 File</th>\n",
       "      <th>Month Rate</th>\n",
       "      <th>...</th>\n",
       "      <th>Pct Latinx</th>\n",
       "      <th>Pct White</th>\n",
       "      <th>Q 2 Evict</th>\n",
       "      <th>Q1 Evict</th>\n",
       "      <th>Q1 File</th>\n",
       "      <th>Q2 File</th>\n",
       "      <th>Q3 Evict</th>\n",
       "      <th>Q3 File</th>\n",
       "      <th>Q4 Evict</th>\n",
       "      <th>Q4 File</th>\n",
       "    </tr>\n",
       "  </thead>\n",
       "  <tbody>\n",
       "    <tr>\n",
       "      <th>0</th>\n",
       "      <td>5123219.0</td>\n",
       "      <td>23219.0</td>\n",
       "      <td>1/5/2022</td>\n",
       "      <td>1.679012</td>\n",
       "      <td>0.378934</td>\n",
       "      <td>611.0</td>\n",
       "      <td>23219</td>\n",
       "      <td>143</td>\n",
       "      <td>475</td>\n",
       "      <td>22.9%</td>\n",
       "      <td>...</td>\n",
       "      <td>0.023569</td>\n",
       "      <td>0.508418</td>\n",
       "      <td>23</td>\n",
       "      <td>6</td>\n",
       "      <td>51</td>\n",
       "      <td>60</td>\n",
       "      <td>82</td>\n",
       "      <td>202</td>\n",
       "      <td>32</td>\n",
       "      <td>162</td>\n",
       "    </tr>\n",
       "    <tr>\n",
       "      <th>1</th>\n",
       "      <td>5123220.0</td>\n",
       "      <td>23220.0</td>\n",
       "      <td>1/5/2022</td>\n",
       "      <td>0.717458</td>\n",
       "      <td>0.378934</td>\n",
       "      <td>936.0</td>\n",
       "      <td>23220</td>\n",
       "      <td>237</td>\n",
       "      <td>652</td>\n",
       "      <td>10.8%</td>\n",
       "      <td>...</td>\n",
       "      <td>0.031199</td>\n",
       "      <td>0.627802</td>\n",
       "      <td>41</td>\n",
       "      <td>19</td>\n",
       "      <td>62</td>\n",
       "      <td>91</td>\n",
       "      <td>89</td>\n",
       "      <td>246</td>\n",
       "      <td>88</td>\n",
       "      <td>253</td>\n",
       "    </tr>\n",
       "  </tbody>\n",
       "</table>\n",
       "<p>2 rows × 21 columns</p>\n",
       "</div>"
      ],
      "text/plain": [
       "      51 Zip       Id Month Date  Month Diff  Month Rate Scale Max  \\\n",
       "0  5123219.0  23219.0   1/5/2022    1.679012              0.378934   \n",
       "1  5123220.0  23220.0   1/5/2022    0.717458              0.378934   \n",
       "\n",
       "   month_filings Zipcode  2022 Evict  2022 File Month Rate  ...  Pct Latinx  \\\n",
       "0          611.0   23219         143        475      22.9%  ...    0.023569   \n",
       "1          936.0   23220         237        652      10.8%  ...    0.031199   \n",
       "\n",
       "   Pct White  Q 2 Evict  Q1 Evict  Q1 File  Q2 File  Q3 Evict  Q3 File  \\\n",
       "0   0.508418         23         6       51       60        82      202   \n",
       "1   0.627802         41        19       62       91        89      246   \n",
       "\n",
       "   Q4 Evict  Q4 File  \n",
       "0        32      162  \n",
       "1        88      253  \n",
       "\n",
       "[2 rows x 21 columns]"
      ]
     },
     "execution_count": 160,
     "metadata": {},
     "output_type": "execute_result"
    }
   ],
   "source": [
    "evic_zip_rate.head(2)"
   ]
  },
  {
   "cell_type": "code",
   "execution_count": 157,
   "id": "7f0c3260",
   "metadata": {},
   "outputs": [],
   "source": [
    "schools_accr['zip'] = schools_accr['zip'].apply(lambda x: x[0:5])\n"
   ]
  },
  {
   "cell_type": "code",
   "execution_count": null,
   "id": "808d7348",
   "metadata": {},
   "outputs": [],
   "source": [
    "df = pd.merge(a, b, on='id', how='inner')\n"
   ]
  },
  {
   "cell_type": "code",
   "execution_count": 134,
   "id": "a2569b9b",
   "metadata": {},
   "outputs": [
    {
     "data": {
      "application/vnd.plotly.v1+json": {
       "config": {
        "plotlyServerURL": "https://plot.ly"
       },
       "data": [
        {
         "alignmentgroup": "True",
         "boxpoints": "all",
         "customdata": [
          [
           "Barack Obama Elementary",
           "Accredited"
          ],
          [
           "Broad Rock Elementary",
           "Accredited"
          ],
          [
           "Elizabeth D. Redd Elementary",
           "Accredited"
          ],
          [
           "Fairfield Court Elementary",
           "Accredited"
          ],
          [
           "J.B. Fisher Elementary",
           "Accredited"
          ],
          [
           "J.L. Francis Elementary",
           "Accredited"
          ],
          [
           "John B. Cary Elementary",
           "Accredited"
          ],
          [
           "Linwood Holton Elementary",
           "Accredited"
          ],
          [
           "Mary Munford Elementary",
           "Accredited"
          ],
          [
           "Patrick Henry School Of Science And Arts",
           "Accredited"
          ],
          [
           "Southampton Elementary",
           "Accredited"
          ],
          [
           "William Fox Elementary",
           "Accredited"
          ],
          [
           "Open High",
           "Accredited"
          ],
          [
           "Richmond Career Education and Employment Charter School",
           "Accredited"
          ],
          [
           "Richmond Community High",
           "Accredited"
          ]
         ],
         "fillcolor": "rgba(255,255,255,0)",
         "hoverlabel": {
          "bgcolor": "lightgray",
          "font": {
           "size": 16
          }
         },
         "hoveron": "points",
         "hovertemplate": "<span style=\"color:black;font-size:16px\">%{customdata[0]} <br>Economically Disadvantaged: %{x:.0f}%",
         "hovertext": [
          "Barack Obama Elementary",
          "Broad Rock Elementary",
          "Elizabeth D. Redd Elementary",
          "Fairfield Court Elementary",
          "J.B. Fisher Elementary",
          "J.L. Francis Elementary",
          "John B. Cary Elementary",
          "Linwood Holton Elementary",
          "Mary Munford Elementary",
          "Patrick Henry School Of Science And Arts",
          "Southampton Elementary",
          "William Fox Elementary",
          "Open High",
          "Richmond Career Education and Employment Charter School",
          "Richmond Community High"
         ],
         "legendgroup": "Accredited",
         "line": {
          "color": "rgba(255,255,255,0)"
         },
         "marker": {
          "color": "gray",
          "opacity": 0.5,
          "size": 14
         },
         "name": "Accredited",
         "offsetgroup": "Accredited",
         "orientation": "v",
         "pointpos": 0,
         "showlegend": true,
         "type": "box",
         "x": [
          null,
          74.4,
          74.7,
          96.4,
          48.9,
          72.6,
          54,
          32.9,
          12,
          43.7,
          63,
          43.9,
          37,
          null,
          36.5
         ],
         "x0": " ",
         "xaxis": "x",
         "y": [
          "Elementary",
          "Elementary",
          "Elementary",
          "Elementary",
          "Elementary",
          "Elementary",
          "Elementary",
          "Elementary",
          "Elementary",
          "Elementary",
          "Elementary",
          "Elementary",
          "High",
          "High",
          "High"
         ],
         "y0": " ",
         "yaxis": "y"
        },
        {
         "alignmentgroup": "True",
         "boxpoints": "all",
         "customdata": [
          [
           "Bellevue Elementary",
           "Accredited with Conditions"
          ],
          [
           "Blackwell Elementary",
           "Accredited with Conditions"
          ],
          [
           "Cardinal Elementary",
           "Accredited with Conditions"
          ],
          [
           "Chimborazo Elementary",
           "Accredited with Conditions"
          ],
          [
           "G.H. Reid Elementary",
           "Accredited with Conditions"
          ],
          [
           "George W. Carver Elementary",
           "Accredited with Conditions"
          ],
          [
           "Ginter Park Elementary",
           "Accredited with Conditions"
          ],
          [
           "Henry Marsh III Elementary",
           "Accredited with Conditions"
          ],
          [
           "Miles Jones Elementary",
           "Accredited with Conditions"
          ],
          [
           "Oak Grove/Bellemeade Elementary",
           "Accredited with Conditions"
          ],
          [
           "Overby-Sheppard Elementary",
           "Accredited with Conditions"
          ],
          [
           "Swansboro Elementary",
           "Accredited with Conditions"
          ],
          [
           "Westover Hills Elementary",
           "Accredited with Conditions"
          ],
          [
           "Woodville Elementary",
           "Accredited with Conditions"
          ],
          [
           "Albert Hill Middle",
           "Accredited with Conditions"
          ],
          [
           "Binford Middle",
           "Accredited with Conditions"
          ],
          [
           "Henderson Middle",
           "Accredited with Conditions"
          ],
          [
           "Lucille M. Brown Middle",
           "Accredited with Conditions"
          ],
          [
           "Martin Luther King Jr. Middle",
           "Accredited with Conditions"
          ],
          [
           "River City Middle",
           "Accredited with Conditions"
          ],
          [
           "Thomas C. Boushall Middle",
           "Accredited with Conditions"
          ],
          [
           "Armstrong High",
           "Accredited with Conditions"
          ],
          [
           "George Wythe High",
           "Accredited with Conditions"
          ],
          [
           "Huguenot High",
           "Accredited with Conditions"
          ],
          [
           "John Marshall High",
           "Accredited with Conditions"
          ],
          [
           "Thomas Jefferson High",
           "Accredited with Conditions"
          ]
         ],
         "fillcolor": "rgba(255,255,255,0)",
         "hoverlabel": {
          "bgcolor": "lightgray",
          "font": {
           "size": 16
          }
         },
         "hoveron": "points",
         "hovertemplate": "<span style=\"color:black;font-size:16px\">%{customdata[0]} <br>Economically Disadvantaged: %{x:.0f}%",
         "hovertext": [
          "Bellevue Elementary",
          "Blackwell Elementary",
          "Cardinal Elementary",
          "Chimborazo Elementary",
          "G.H. Reid Elementary",
          "George W. Carver Elementary",
          "Ginter Park Elementary",
          "Henry Marsh III Elementary",
          "Miles Jones Elementary",
          "Oak Grove/Bellemeade Elementary",
          "Overby-Sheppard Elementary",
          "Swansboro Elementary",
          "Westover Hills Elementary",
          "Woodville Elementary",
          "Albert Hill Middle",
          "Binford Middle",
          "Henderson Middle",
          "Lucille M. Brown Middle",
          "Martin Luther King Jr. Middle",
          "River City Middle",
          "Thomas C. Boushall Middle",
          "Armstrong High",
          "George Wythe High",
          "Huguenot High",
          "John Marshall High",
          "Thomas Jefferson High"
         ],
         "legendgroup": "Accredited with Conditions",
         "line": {
          "color": "rgba(255,255,255,0)"
         },
         "marker": {
          "color": "red",
          "opacity": 0.5,
          "size": 14
         },
         "name": "Accredited with Conditions",
         "offsetgroup": "Accredited with Conditions",
         "orientation": "v",
         "pointpos": 0,
         "showlegend": true,
         "type": "box",
         "x": [
          null,
          85.5,
          53.8,
          80.8,
          69.2,
          89.3,
          88.6,
          91.7,
          78.5,
          83.5,
          85.1,
          80.4,
          null,
          95.1,
          62.8,
          65.7,
          79.8,
          71.6,
          93.8,
          67.9,
          75,
          85.4,
          60.1,
          62.8,
          72,
          61.7
         ],
         "x0": " ",
         "xaxis": "x",
         "y": [
          "Elementary",
          "Elementary",
          "Elementary",
          "Elementary",
          "Elementary",
          "Elementary",
          "Elementary",
          "Elementary",
          "Elementary",
          "Elementary",
          "Elementary",
          "Elementary",
          "Elementary",
          "Elementary",
          "Middle",
          "Middle",
          "Middle",
          "Middle",
          "Middle",
          "Middle",
          "Middle",
          "High",
          "High",
          "High",
          "High",
          "High"
         ],
         "y0": " ",
         "yaxis": "y"
        }
       ],
       "layout": {
        "boxmode": "group",
        "height": 500,
        "legend": {
         "title": {
          "text": "Accreditation"
         },
         "tracegroupgap": 0
        },
        "margin": {
         "t": 60
        },
        "template": {
         "data": {
          "bar": [
           {
            "error_x": {
             "color": "#2a3f5f"
            },
            "error_y": {
             "color": "#2a3f5f"
            },
            "marker": {
             "line": {
              "color": "#E5ECF6",
              "width": 0.5
             },
             "pattern": {
              "fillmode": "overlay",
              "size": 10,
              "solidity": 0.2
             }
            },
            "type": "bar"
           }
          ],
          "barpolar": [
           {
            "marker": {
             "line": {
              "color": "#E5ECF6",
              "width": 0.5
             },
             "pattern": {
              "fillmode": "overlay",
              "size": 10,
              "solidity": 0.2
             }
            },
            "type": "barpolar"
           }
          ],
          "carpet": [
           {
            "aaxis": {
             "endlinecolor": "#2a3f5f",
             "gridcolor": "white",
             "linecolor": "white",
             "minorgridcolor": "white",
             "startlinecolor": "#2a3f5f"
            },
            "baxis": {
             "endlinecolor": "#2a3f5f",
             "gridcolor": "white",
             "linecolor": "white",
             "minorgridcolor": "white",
             "startlinecolor": "#2a3f5f"
            },
            "type": "carpet"
           }
          ],
          "choropleth": [
           {
            "colorbar": {
             "outlinewidth": 0,
             "ticks": ""
            },
            "type": "choropleth"
           }
          ],
          "contour": [
           {
            "colorbar": {
             "outlinewidth": 0,
             "ticks": ""
            },
            "colorscale": [
             [
              0,
              "#0d0887"
             ],
             [
              0.1111111111111111,
              "#46039f"
             ],
             [
              0.2222222222222222,
              "#7201a8"
             ],
             [
              0.3333333333333333,
              "#9c179e"
             ],
             [
              0.4444444444444444,
              "#bd3786"
             ],
             [
              0.5555555555555556,
              "#d8576b"
             ],
             [
              0.6666666666666666,
              "#ed7953"
             ],
             [
              0.7777777777777778,
              "#fb9f3a"
             ],
             [
              0.8888888888888888,
              "#fdca26"
             ],
             [
              1,
              "#f0f921"
             ]
            ],
            "type": "contour"
           }
          ],
          "contourcarpet": [
           {
            "colorbar": {
             "outlinewidth": 0,
             "ticks": ""
            },
            "type": "contourcarpet"
           }
          ],
          "heatmap": [
           {
            "colorbar": {
             "outlinewidth": 0,
             "ticks": ""
            },
            "colorscale": [
             [
              0,
              "#0d0887"
             ],
             [
              0.1111111111111111,
              "#46039f"
             ],
             [
              0.2222222222222222,
              "#7201a8"
             ],
             [
              0.3333333333333333,
              "#9c179e"
             ],
             [
              0.4444444444444444,
              "#bd3786"
             ],
             [
              0.5555555555555556,
              "#d8576b"
             ],
             [
              0.6666666666666666,
              "#ed7953"
             ],
             [
              0.7777777777777778,
              "#fb9f3a"
             ],
             [
              0.8888888888888888,
              "#fdca26"
             ],
             [
              1,
              "#f0f921"
             ]
            ],
            "type": "heatmap"
           }
          ],
          "heatmapgl": [
           {
            "colorbar": {
             "outlinewidth": 0,
             "ticks": ""
            },
            "colorscale": [
             [
              0,
              "#0d0887"
             ],
             [
              0.1111111111111111,
              "#46039f"
             ],
             [
              0.2222222222222222,
              "#7201a8"
             ],
             [
              0.3333333333333333,
              "#9c179e"
             ],
             [
              0.4444444444444444,
              "#bd3786"
             ],
             [
              0.5555555555555556,
              "#d8576b"
             ],
             [
              0.6666666666666666,
              "#ed7953"
             ],
             [
              0.7777777777777778,
              "#fb9f3a"
             ],
             [
              0.8888888888888888,
              "#fdca26"
             ],
             [
              1,
              "#f0f921"
             ]
            ],
            "type": "heatmapgl"
           }
          ],
          "histogram": [
           {
            "marker": {
             "pattern": {
              "fillmode": "overlay",
              "size": 10,
              "solidity": 0.2
             }
            },
            "type": "histogram"
           }
          ],
          "histogram2d": [
           {
            "colorbar": {
             "outlinewidth": 0,
             "ticks": ""
            },
            "colorscale": [
             [
              0,
              "#0d0887"
             ],
             [
              0.1111111111111111,
              "#46039f"
             ],
             [
              0.2222222222222222,
              "#7201a8"
             ],
             [
              0.3333333333333333,
              "#9c179e"
             ],
             [
              0.4444444444444444,
              "#bd3786"
             ],
             [
              0.5555555555555556,
              "#d8576b"
             ],
             [
              0.6666666666666666,
              "#ed7953"
             ],
             [
              0.7777777777777778,
              "#fb9f3a"
             ],
             [
              0.8888888888888888,
              "#fdca26"
             ],
             [
              1,
              "#f0f921"
             ]
            ],
            "type": "histogram2d"
           }
          ],
          "histogram2dcontour": [
           {
            "colorbar": {
             "outlinewidth": 0,
             "ticks": ""
            },
            "colorscale": [
             [
              0,
              "#0d0887"
             ],
             [
              0.1111111111111111,
              "#46039f"
             ],
             [
              0.2222222222222222,
              "#7201a8"
             ],
             [
              0.3333333333333333,
              "#9c179e"
             ],
             [
              0.4444444444444444,
              "#bd3786"
             ],
             [
              0.5555555555555556,
              "#d8576b"
             ],
             [
              0.6666666666666666,
              "#ed7953"
             ],
             [
              0.7777777777777778,
              "#fb9f3a"
             ],
             [
              0.8888888888888888,
              "#fdca26"
             ],
             [
              1,
              "#f0f921"
             ]
            ],
            "type": "histogram2dcontour"
           }
          ],
          "mesh3d": [
           {
            "colorbar": {
             "outlinewidth": 0,
             "ticks": ""
            },
            "type": "mesh3d"
           }
          ],
          "parcoords": [
           {
            "line": {
             "colorbar": {
              "outlinewidth": 0,
              "ticks": ""
             }
            },
            "type": "parcoords"
           }
          ],
          "pie": [
           {
            "automargin": true,
            "type": "pie"
           }
          ],
          "scatter": [
           {
            "fillpattern": {
             "fillmode": "overlay",
             "size": 10,
             "solidity": 0.2
            },
            "type": "scatter"
           }
          ],
          "scatter3d": [
           {
            "line": {
             "colorbar": {
              "outlinewidth": 0,
              "ticks": ""
             }
            },
            "marker": {
             "colorbar": {
              "outlinewidth": 0,
              "ticks": ""
             }
            },
            "type": "scatter3d"
           }
          ],
          "scattercarpet": [
           {
            "marker": {
             "colorbar": {
              "outlinewidth": 0,
              "ticks": ""
             }
            },
            "type": "scattercarpet"
           }
          ],
          "scattergeo": [
           {
            "marker": {
             "colorbar": {
              "outlinewidth": 0,
              "ticks": ""
             }
            },
            "type": "scattergeo"
           }
          ],
          "scattergl": [
           {
            "marker": {
             "colorbar": {
              "outlinewidth": 0,
              "ticks": ""
             }
            },
            "type": "scattergl"
           }
          ],
          "scattermapbox": [
           {
            "marker": {
             "colorbar": {
              "outlinewidth": 0,
              "ticks": ""
             }
            },
            "type": "scattermapbox"
           }
          ],
          "scatterpolar": [
           {
            "marker": {
             "colorbar": {
              "outlinewidth": 0,
              "ticks": ""
             }
            },
            "type": "scatterpolar"
           }
          ],
          "scatterpolargl": [
           {
            "marker": {
             "colorbar": {
              "outlinewidth": 0,
              "ticks": ""
             }
            },
            "type": "scatterpolargl"
           }
          ],
          "scatterternary": [
           {
            "marker": {
             "colorbar": {
              "outlinewidth": 0,
              "ticks": ""
             }
            },
            "type": "scatterternary"
           }
          ],
          "surface": [
           {
            "colorbar": {
             "outlinewidth": 0,
             "ticks": ""
            },
            "colorscale": [
             [
              0,
              "#0d0887"
             ],
             [
              0.1111111111111111,
              "#46039f"
             ],
             [
              0.2222222222222222,
              "#7201a8"
             ],
             [
              0.3333333333333333,
              "#9c179e"
             ],
             [
              0.4444444444444444,
              "#bd3786"
             ],
             [
              0.5555555555555556,
              "#d8576b"
             ],
             [
              0.6666666666666666,
              "#ed7953"
             ],
             [
              0.7777777777777778,
              "#fb9f3a"
             ],
             [
              0.8888888888888888,
              "#fdca26"
             ],
             [
              1,
              "#f0f921"
             ]
            ],
            "type": "surface"
           }
          ],
          "table": [
           {
            "cells": {
             "fill": {
              "color": "#EBF0F8"
             },
             "line": {
              "color": "white"
             }
            },
            "header": {
             "fill": {
              "color": "#C8D4E3"
             },
             "line": {
              "color": "white"
             }
            },
            "type": "table"
           }
          ]
         },
         "layout": {
          "annotationdefaults": {
           "arrowcolor": "#2a3f5f",
           "arrowhead": 0,
           "arrowwidth": 1
          },
          "autotypenumbers": "strict",
          "coloraxis": {
           "colorbar": {
            "outlinewidth": 0,
            "ticks": ""
           }
          },
          "colorscale": {
           "diverging": [
            [
             0,
             "#8e0152"
            ],
            [
             0.1,
             "#c51b7d"
            ],
            [
             0.2,
             "#de77ae"
            ],
            [
             0.3,
             "#f1b6da"
            ],
            [
             0.4,
             "#fde0ef"
            ],
            [
             0.5,
             "#f7f7f7"
            ],
            [
             0.6,
             "#e6f5d0"
            ],
            [
             0.7,
             "#b8e186"
            ],
            [
             0.8,
             "#7fbc41"
            ],
            [
             0.9,
             "#4d9221"
            ],
            [
             1,
             "#276419"
            ]
           ],
           "sequential": [
            [
             0,
             "#0d0887"
            ],
            [
             0.1111111111111111,
             "#46039f"
            ],
            [
             0.2222222222222222,
             "#7201a8"
            ],
            [
             0.3333333333333333,
             "#9c179e"
            ],
            [
             0.4444444444444444,
             "#bd3786"
            ],
            [
             0.5555555555555556,
             "#d8576b"
            ],
            [
             0.6666666666666666,
             "#ed7953"
            ],
            [
             0.7777777777777778,
             "#fb9f3a"
            ],
            [
             0.8888888888888888,
             "#fdca26"
            ],
            [
             1,
             "#f0f921"
            ]
           ],
           "sequentialminus": [
            [
             0,
             "#0d0887"
            ],
            [
             0.1111111111111111,
             "#46039f"
            ],
            [
             0.2222222222222222,
             "#7201a8"
            ],
            [
             0.3333333333333333,
             "#9c179e"
            ],
            [
             0.4444444444444444,
             "#bd3786"
            ],
            [
             0.5555555555555556,
             "#d8576b"
            ],
            [
             0.6666666666666666,
             "#ed7953"
            ],
            [
             0.7777777777777778,
             "#fb9f3a"
            ],
            [
             0.8888888888888888,
             "#fdca26"
            ],
            [
             1,
             "#f0f921"
            ]
           ]
          },
          "colorway": [
           "#636efa",
           "#EF553B",
           "#00cc96",
           "#ab63fa",
           "#FFA15A",
           "#19d3f3",
           "#FF6692",
           "#B6E880",
           "#FF97FF",
           "#FECB52"
          ],
          "font": {
           "color": "#2a3f5f"
          },
          "geo": {
           "bgcolor": "white",
           "lakecolor": "white",
           "landcolor": "#E5ECF6",
           "showlakes": true,
           "showland": true,
           "subunitcolor": "white"
          },
          "hoverlabel": {
           "align": "left"
          },
          "hovermode": "closest",
          "mapbox": {
           "style": "light"
          },
          "paper_bgcolor": "white",
          "plot_bgcolor": "#E5ECF6",
          "polar": {
           "angularaxis": {
            "gridcolor": "white",
            "linecolor": "white",
            "ticks": ""
           },
           "bgcolor": "#E5ECF6",
           "radialaxis": {
            "gridcolor": "white",
            "linecolor": "white",
            "ticks": ""
           }
          },
          "scene": {
           "xaxis": {
            "backgroundcolor": "#E5ECF6",
            "gridcolor": "white",
            "gridwidth": 2,
            "linecolor": "white",
            "showbackground": true,
            "ticks": "",
            "zerolinecolor": "white"
           },
           "yaxis": {
            "backgroundcolor": "#E5ECF6",
            "gridcolor": "white",
            "gridwidth": 2,
            "linecolor": "white",
            "showbackground": true,
            "ticks": "",
            "zerolinecolor": "white"
           },
           "zaxis": {
            "backgroundcolor": "#E5ECF6",
            "gridcolor": "white",
            "gridwidth": 2,
            "linecolor": "white",
            "showbackground": true,
            "ticks": "",
            "zerolinecolor": "white"
           }
          },
          "shapedefaults": {
           "line": {
            "color": "#2a3f5f"
           }
          },
          "ternary": {
           "aaxis": {
            "gridcolor": "white",
            "linecolor": "white",
            "ticks": ""
           },
           "baxis": {
            "gridcolor": "white",
            "linecolor": "white",
            "ticks": ""
           },
           "bgcolor": "#E5ECF6",
           "caxis": {
            "gridcolor": "white",
            "linecolor": "white",
            "ticks": ""
           }
          },
          "title": {
           "x": 0.05
          },
          "xaxis": {
           "automargin": true,
           "gridcolor": "white",
           "linecolor": "white",
           "ticks": "",
           "title": {
            "standoff": 15
           },
           "zerolinecolor": "white",
           "zerolinewidth": 2
          },
          "yaxis": {
           "automargin": true,
           "gridcolor": "white",
           "linecolor": "white",
           "ticks": "",
           "title": {
            "standoff": 15
           },
           "zerolinecolor": "white",
           "zerolinewidth": 2
          }
         }
        },
        "xaxis": {
         "anchor": "y",
         "domain": [
          0,
          1
         ],
         "range": [
          0,
          100
         ],
         "title": {
          "text": "% Economically Disadvantaged Students"
         }
        },
        "yaxis": {
         "anchor": "x",
         "categoryarray": [
          "High",
          "Middle",
          "Elementary"
         ],
         "categoryorder": "array",
         "domain": [
          0,
          1
         ],
         "title": {
          "text": "School Level"
         }
        }
       }
      },
      "text/html": [
       "<div>                            <div id=\"40a37a1c-c59d-469d-9f6f-9b2ce1cacefa\" class=\"plotly-graph-div\" style=\"height:500px; width:100%;\"></div>            <script type=\"text/javascript\">                require([\"plotly\"], function(Plotly) {                    window.PLOTLYENV=window.PLOTLYENV || {};                                    if (document.getElementById(\"40a37a1c-c59d-469d-9f6f-9b2ce1cacefa\")) {                    Plotly.newPlot(                        \"40a37a1c-c59d-469d-9f6f-9b2ce1cacefa\",                        [{\"alignmentgroup\":\"True\",\"boxpoints\":\"all\",\"customdata\":[[\"Barack Obama Elementary\",\"Accredited\"],[\"Broad Rock Elementary\",\"Accredited\"],[\"Elizabeth D. Redd Elementary\",\"Accredited\"],[\"Fairfield Court Elementary\",\"Accredited\"],[\"J.B. Fisher Elementary\",\"Accredited\"],[\"J.L. Francis Elementary\",\"Accredited\"],[\"John B. Cary Elementary\",\"Accredited\"],[\"Linwood Holton Elementary\",\"Accredited\"],[\"Mary Munford Elementary\",\"Accredited\"],[\"Patrick Henry School Of Science And Arts\",\"Accredited\"],[\"Southampton Elementary\",\"Accredited\"],[\"William Fox Elementary\",\"Accredited\"],[\"Open High\",\"Accredited\"],[\"Richmond Career Education and Employment Charter School\",\"Accredited\"],[\"Richmond Community High\",\"Accredited\"]],\"fillcolor\":\"rgba(255,255,255,0)\",\"hoveron\":\"points\",\"hovertemplate\":\"<span style=\\\"color:black;font-size:16px\\\">%{customdata[0]} <br>Economically Disadvantaged: %{x:.0f}%\",\"hovertext\":[\"Barack Obama Elementary\",\"Broad Rock Elementary\",\"Elizabeth D. Redd Elementary\",\"Fairfield Court Elementary\",\"J.B. Fisher Elementary\",\"J.L. Francis Elementary\",\"John B. Cary Elementary\",\"Linwood Holton Elementary\",\"Mary Munford Elementary\",\"Patrick Henry School Of Science And Arts\",\"Southampton Elementary\",\"William Fox Elementary\",\"Open High\",\"Richmond Career Education and Employment Charter School\",\"Richmond Community High\"],\"legendgroup\":\"Accredited\",\"line\":{\"color\":\"rgba(255,255,255,0)\"},\"marker\":{\"color\":\"gray\",\"opacity\":0.5,\"size\":14},\"name\":\"Accredited\",\"offsetgroup\":\"Accredited\",\"orientation\":\"v\",\"pointpos\":0,\"showlegend\":true,\"x\":[null,74.4,74.7,96.4,48.9,72.6,54.0,32.9,12.0,43.7,63.0,43.9,37.0,null,36.5],\"x0\":\" \",\"xaxis\":\"x\",\"y\":[\"Elementary\",\"Elementary\",\"Elementary\",\"Elementary\",\"Elementary\",\"Elementary\",\"Elementary\",\"Elementary\",\"Elementary\",\"Elementary\",\"Elementary\",\"Elementary\",\"High\",\"High\",\"High\"],\"y0\":\" \",\"yaxis\":\"y\",\"type\":\"box\",\"hoverlabel\":{\"font\":{\"size\":16},\"bgcolor\":\"lightgray\"}},{\"alignmentgroup\":\"True\",\"boxpoints\":\"all\",\"customdata\":[[\"Bellevue Elementary\",\"Accredited with Conditions\"],[\"Blackwell Elementary\",\"Accredited with Conditions\"],[\"Cardinal Elementary\",\"Accredited with Conditions\"],[\"Chimborazo Elementary\",\"Accredited with Conditions\"],[\"G.H. Reid Elementary\",\"Accredited with Conditions\"],[\"George W. Carver Elementary\",\"Accredited with Conditions\"],[\"Ginter Park Elementary\",\"Accredited with Conditions\"],[\"Henry Marsh III Elementary\",\"Accredited with Conditions\"],[\"Miles Jones Elementary\",\"Accredited with Conditions\"],[\"Oak Grove/Bellemeade Elementary\",\"Accredited with Conditions\"],[\"Overby-Sheppard Elementary\",\"Accredited with Conditions\"],[\"Swansboro Elementary\",\"Accredited with Conditions\"],[\"Westover Hills Elementary\",\"Accredited with Conditions\"],[\"Woodville Elementary\",\"Accredited with Conditions\"],[\"Albert Hill Middle\",\"Accredited with Conditions\"],[\"Binford Middle\",\"Accredited with Conditions\"],[\"Henderson Middle\",\"Accredited with Conditions\"],[\"Lucille M. Brown Middle\",\"Accredited with Conditions\"],[\"Martin Luther King Jr. Middle\",\"Accredited with Conditions\"],[\"River City Middle\",\"Accredited with Conditions\"],[\"Thomas C. Boushall Middle\",\"Accredited with Conditions\"],[\"Armstrong High\",\"Accredited with Conditions\"],[\"George Wythe High\",\"Accredited with Conditions\"],[\"Huguenot High\",\"Accredited with Conditions\"],[\"John Marshall High\",\"Accredited with Conditions\"],[\"Thomas Jefferson High\",\"Accredited with Conditions\"]],\"fillcolor\":\"rgba(255,255,255,0)\",\"hoveron\":\"points\",\"hovertemplate\":\"<span style=\\\"color:black;font-size:16px\\\">%{customdata[0]} <br>Economically Disadvantaged: %{x:.0f}%\",\"hovertext\":[\"Bellevue Elementary\",\"Blackwell Elementary\",\"Cardinal Elementary\",\"Chimborazo Elementary\",\"G.H. Reid Elementary\",\"George W. Carver Elementary\",\"Ginter Park Elementary\",\"Henry Marsh III Elementary\",\"Miles Jones Elementary\",\"Oak Grove/Bellemeade Elementary\",\"Overby-Sheppard Elementary\",\"Swansboro Elementary\",\"Westover Hills Elementary\",\"Woodville Elementary\",\"Albert Hill Middle\",\"Binford Middle\",\"Henderson Middle\",\"Lucille M. Brown Middle\",\"Martin Luther King Jr. Middle\",\"River City Middle\",\"Thomas C. Boushall Middle\",\"Armstrong High\",\"George Wythe High\",\"Huguenot High\",\"John Marshall High\",\"Thomas Jefferson High\"],\"legendgroup\":\"Accredited with Conditions\",\"line\":{\"color\":\"rgba(255,255,255,0)\"},\"marker\":{\"color\":\"red\",\"opacity\":0.5,\"size\":14},\"name\":\"Accredited with Conditions\",\"offsetgroup\":\"Accredited with Conditions\",\"orientation\":\"v\",\"pointpos\":0,\"showlegend\":true,\"x\":[null,85.5,53.8,80.8,69.2,89.3,88.6,91.7,78.5,83.5,85.1,80.4,null,95.1,62.8,65.7,79.8,71.6,93.8,67.9,75.0,85.4,60.1,62.8,72.0,61.7],\"x0\":\" \",\"xaxis\":\"x\",\"y\":[\"Elementary\",\"Elementary\",\"Elementary\",\"Elementary\",\"Elementary\",\"Elementary\",\"Elementary\",\"Elementary\",\"Elementary\",\"Elementary\",\"Elementary\",\"Elementary\",\"Elementary\",\"Elementary\",\"Middle\",\"Middle\",\"Middle\",\"Middle\",\"Middle\",\"Middle\",\"Middle\",\"High\",\"High\",\"High\",\"High\",\"High\"],\"y0\":\" \",\"yaxis\":\"y\",\"type\":\"box\",\"hoverlabel\":{\"font\":{\"size\":16},\"bgcolor\":\"lightgray\"}}],                        {\"template\":{\"data\":{\"histogram2dcontour\":[{\"type\":\"histogram2dcontour\",\"colorbar\":{\"outlinewidth\":0,\"ticks\":\"\"},\"colorscale\":[[0.0,\"#0d0887\"],[0.1111111111111111,\"#46039f\"],[0.2222222222222222,\"#7201a8\"],[0.3333333333333333,\"#9c179e\"],[0.4444444444444444,\"#bd3786\"],[0.5555555555555556,\"#d8576b\"],[0.6666666666666666,\"#ed7953\"],[0.7777777777777778,\"#fb9f3a\"],[0.8888888888888888,\"#fdca26\"],[1.0,\"#f0f921\"]]}],\"choropleth\":[{\"type\":\"choropleth\",\"colorbar\":{\"outlinewidth\":0,\"ticks\":\"\"}}],\"histogram2d\":[{\"type\":\"histogram2d\",\"colorbar\":{\"outlinewidth\":0,\"ticks\":\"\"},\"colorscale\":[[0.0,\"#0d0887\"],[0.1111111111111111,\"#46039f\"],[0.2222222222222222,\"#7201a8\"],[0.3333333333333333,\"#9c179e\"],[0.4444444444444444,\"#bd3786\"],[0.5555555555555556,\"#d8576b\"],[0.6666666666666666,\"#ed7953\"],[0.7777777777777778,\"#fb9f3a\"],[0.8888888888888888,\"#fdca26\"],[1.0,\"#f0f921\"]]}],\"heatmap\":[{\"type\":\"heatmap\",\"colorbar\":{\"outlinewidth\":0,\"ticks\":\"\"},\"colorscale\":[[0.0,\"#0d0887\"],[0.1111111111111111,\"#46039f\"],[0.2222222222222222,\"#7201a8\"],[0.3333333333333333,\"#9c179e\"],[0.4444444444444444,\"#bd3786\"],[0.5555555555555556,\"#d8576b\"],[0.6666666666666666,\"#ed7953\"],[0.7777777777777778,\"#fb9f3a\"],[0.8888888888888888,\"#fdca26\"],[1.0,\"#f0f921\"]]}],\"heatmapgl\":[{\"type\":\"heatmapgl\",\"colorbar\":{\"outlinewidth\":0,\"ticks\":\"\"},\"colorscale\":[[0.0,\"#0d0887\"],[0.1111111111111111,\"#46039f\"],[0.2222222222222222,\"#7201a8\"],[0.3333333333333333,\"#9c179e\"],[0.4444444444444444,\"#bd3786\"],[0.5555555555555556,\"#d8576b\"],[0.6666666666666666,\"#ed7953\"],[0.7777777777777778,\"#fb9f3a\"],[0.8888888888888888,\"#fdca26\"],[1.0,\"#f0f921\"]]}],\"contourcarpet\":[{\"type\":\"contourcarpet\",\"colorbar\":{\"outlinewidth\":0,\"ticks\":\"\"}}],\"contour\":[{\"type\":\"contour\",\"colorbar\":{\"outlinewidth\":0,\"ticks\":\"\"},\"colorscale\":[[0.0,\"#0d0887\"],[0.1111111111111111,\"#46039f\"],[0.2222222222222222,\"#7201a8\"],[0.3333333333333333,\"#9c179e\"],[0.4444444444444444,\"#bd3786\"],[0.5555555555555556,\"#d8576b\"],[0.6666666666666666,\"#ed7953\"],[0.7777777777777778,\"#fb9f3a\"],[0.8888888888888888,\"#fdca26\"],[1.0,\"#f0f921\"]]}],\"surface\":[{\"type\":\"surface\",\"colorbar\":{\"outlinewidth\":0,\"ticks\":\"\"},\"colorscale\":[[0.0,\"#0d0887\"],[0.1111111111111111,\"#46039f\"],[0.2222222222222222,\"#7201a8\"],[0.3333333333333333,\"#9c179e\"],[0.4444444444444444,\"#bd3786\"],[0.5555555555555556,\"#d8576b\"],[0.6666666666666666,\"#ed7953\"],[0.7777777777777778,\"#fb9f3a\"],[0.8888888888888888,\"#fdca26\"],[1.0,\"#f0f921\"]]}],\"mesh3d\":[{\"type\":\"mesh3d\",\"colorbar\":{\"outlinewidth\":0,\"ticks\":\"\"}}],\"scatter\":[{\"fillpattern\":{\"fillmode\":\"overlay\",\"size\":10,\"solidity\":0.2},\"type\":\"scatter\"}],\"parcoords\":[{\"type\":\"parcoords\",\"line\":{\"colorbar\":{\"outlinewidth\":0,\"ticks\":\"\"}}}],\"scatterpolargl\":[{\"type\":\"scatterpolargl\",\"marker\":{\"colorbar\":{\"outlinewidth\":0,\"ticks\":\"\"}}}],\"bar\":[{\"error_x\":{\"color\":\"#2a3f5f\"},\"error_y\":{\"color\":\"#2a3f5f\"},\"marker\":{\"line\":{\"color\":\"#E5ECF6\",\"width\":0.5},\"pattern\":{\"fillmode\":\"overlay\",\"size\":10,\"solidity\":0.2}},\"type\":\"bar\"}],\"scattergeo\":[{\"type\":\"scattergeo\",\"marker\":{\"colorbar\":{\"outlinewidth\":0,\"ticks\":\"\"}}}],\"scatterpolar\":[{\"type\":\"scatterpolar\",\"marker\":{\"colorbar\":{\"outlinewidth\":0,\"ticks\":\"\"}}}],\"histogram\":[{\"marker\":{\"pattern\":{\"fillmode\":\"overlay\",\"size\":10,\"solidity\":0.2}},\"type\":\"histogram\"}],\"scattergl\":[{\"type\":\"scattergl\",\"marker\":{\"colorbar\":{\"outlinewidth\":0,\"ticks\":\"\"}}}],\"scatter3d\":[{\"type\":\"scatter3d\",\"line\":{\"colorbar\":{\"outlinewidth\":0,\"ticks\":\"\"}},\"marker\":{\"colorbar\":{\"outlinewidth\":0,\"ticks\":\"\"}}}],\"scattermapbox\":[{\"type\":\"scattermapbox\",\"marker\":{\"colorbar\":{\"outlinewidth\":0,\"ticks\":\"\"}}}],\"scatterternary\":[{\"type\":\"scatterternary\",\"marker\":{\"colorbar\":{\"outlinewidth\":0,\"ticks\":\"\"}}}],\"scattercarpet\":[{\"type\":\"scattercarpet\",\"marker\":{\"colorbar\":{\"outlinewidth\":0,\"ticks\":\"\"}}}],\"carpet\":[{\"aaxis\":{\"endlinecolor\":\"#2a3f5f\",\"gridcolor\":\"white\",\"linecolor\":\"white\",\"minorgridcolor\":\"white\",\"startlinecolor\":\"#2a3f5f\"},\"baxis\":{\"endlinecolor\":\"#2a3f5f\",\"gridcolor\":\"white\",\"linecolor\":\"white\",\"minorgridcolor\":\"white\",\"startlinecolor\":\"#2a3f5f\"},\"type\":\"carpet\"}],\"table\":[{\"cells\":{\"fill\":{\"color\":\"#EBF0F8\"},\"line\":{\"color\":\"white\"}},\"header\":{\"fill\":{\"color\":\"#C8D4E3\"},\"line\":{\"color\":\"white\"}},\"type\":\"table\"}],\"barpolar\":[{\"marker\":{\"line\":{\"color\":\"#E5ECF6\",\"width\":0.5},\"pattern\":{\"fillmode\":\"overlay\",\"size\":10,\"solidity\":0.2}},\"type\":\"barpolar\"}],\"pie\":[{\"automargin\":true,\"type\":\"pie\"}]},\"layout\":{\"autotypenumbers\":\"strict\",\"colorway\":[\"#636efa\",\"#EF553B\",\"#00cc96\",\"#ab63fa\",\"#FFA15A\",\"#19d3f3\",\"#FF6692\",\"#B6E880\",\"#FF97FF\",\"#FECB52\"],\"font\":{\"color\":\"#2a3f5f\"},\"hovermode\":\"closest\",\"hoverlabel\":{\"align\":\"left\"},\"paper_bgcolor\":\"white\",\"plot_bgcolor\":\"#E5ECF6\",\"polar\":{\"bgcolor\":\"#E5ECF6\",\"angularaxis\":{\"gridcolor\":\"white\",\"linecolor\":\"white\",\"ticks\":\"\"},\"radialaxis\":{\"gridcolor\":\"white\",\"linecolor\":\"white\",\"ticks\":\"\"}},\"ternary\":{\"bgcolor\":\"#E5ECF6\",\"aaxis\":{\"gridcolor\":\"white\",\"linecolor\":\"white\",\"ticks\":\"\"},\"baxis\":{\"gridcolor\":\"white\",\"linecolor\":\"white\",\"ticks\":\"\"},\"caxis\":{\"gridcolor\":\"white\",\"linecolor\":\"white\",\"ticks\":\"\"}},\"coloraxis\":{\"colorbar\":{\"outlinewidth\":0,\"ticks\":\"\"}},\"colorscale\":{\"sequential\":[[0.0,\"#0d0887\"],[0.1111111111111111,\"#46039f\"],[0.2222222222222222,\"#7201a8\"],[0.3333333333333333,\"#9c179e\"],[0.4444444444444444,\"#bd3786\"],[0.5555555555555556,\"#d8576b\"],[0.6666666666666666,\"#ed7953\"],[0.7777777777777778,\"#fb9f3a\"],[0.8888888888888888,\"#fdca26\"],[1.0,\"#f0f921\"]],\"sequentialminus\":[[0.0,\"#0d0887\"],[0.1111111111111111,\"#46039f\"],[0.2222222222222222,\"#7201a8\"],[0.3333333333333333,\"#9c179e\"],[0.4444444444444444,\"#bd3786\"],[0.5555555555555556,\"#d8576b\"],[0.6666666666666666,\"#ed7953\"],[0.7777777777777778,\"#fb9f3a\"],[0.8888888888888888,\"#fdca26\"],[1.0,\"#f0f921\"]],\"diverging\":[[0,\"#8e0152\"],[0.1,\"#c51b7d\"],[0.2,\"#de77ae\"],[0.3,\"#f1b6da\"],[0.4,\"#fde0ef\"],[0.5,\"#f7f7f7\"],[0.6,\"#e6f5d0\"],[0.7,\"#b8e186\"],[0.8,\"#7fbc41\"],[0.9,\"#4d9221\"],[1,\"#276419\"]]},\"xaxis\":{\"gridcolor\":\"white\",\"linecolor\":\"white\",\"ticks\":\"\",\"title\":{\"standoff\":15},\"zerolinecolor\":\"white\",\"automargin\":true,\"zerolinewidth\":2},\"yaxis\":{\"gridcolor\":\"white\",\"linecolor\":\"white\",\"ticks\":\"\",\"title\":{\"standoff\":15},\"zerolinecolor\":\"white\",\"automargin\":true,\"zerolinewidth\":2},\"scene\":{\"xaxis\":{\"backgroundcolor\":\"#E5ECF6\",\"gridcolor\":\"white\",\"linecolor\":\"white\",\"showbackground\":true,\"ticks\":\"\",\"zerolinecolor\":\"white\",\"gridwidth\":2},\"yaxis\":{\"backgroundcolor\":\"#E5ECF6\",\"gridcolor\":\"white\",\"linecolor\":\"white\",\"showbackground\":true,\"ticks\":\"\",\"zerolinecolor\":\"white\",\"gridwidth\":2},\"zaxis\":{\"backgroundcolor\":\"#E5ECF6\",\"gridcolor\":\"white\",\"linecolor\":\"white\",\"showbackground\":true,\"ticks\":\"\",\"zerolinecolor\":\"white\",\"gridwidth\":2}},\"shapedefaults\":{\"line\":{\"color\":\"#2a3f5f\"}},\"annotationdefaults\":{\"arrowcolor\":\"#2a3f5f\",\"arrowhead\":0,\"arrowwidth\":1},\"geo\":{\"bgcolor\":\"white\",\"landcolor\":\"#E5ECF6\",\"subunitcolor\":\"white\",\"showland\":true,\"showlakes\":true,\"lakecolor\":\"white\"},\"title\":{\"x\":0.05},\"mapbox\":{\"style\":\"light\"}}},\"xaxis\":{\"anchor\":\"y\",\"domain\":[0.0,1.0],\"title\":{\"text\":\"% Economically Disadvantaged Students\"},\"range\":[0,100]},\"yaxis\":{\"anchor\":\"x\",\"domain\":[0.0,1.0],\"title\":{\"text\":\"School Level\"},\"categoryorder\":\"array\",\"categoryarray\":[\"High\",\"Middle\",\"Elementary\"]},\"legend\":{\"title\":{\"text\":\"Accreditation\"},\"tracegroupgap\":0},\"margin\":{\"t\":60},\"boxmode\":\"group\",\"height\":500},                        {\"responsive\": true}                    ).then(function(){\n",
       "                            \n",
       "var gd = document.getElementById('40a37a1c-c59d-469d-9f6f-9b2ce1cacefa');\n",
       "var x = new MutationObserver(function (mutations, observer) {{\n",
       "        var display = window.getComputedStyle(gd).display;\n",
       "        if (!display || display === 'none') {{\n",
       "            console.log([gd, 'removed!']);\n",
       "            Plotly.purge(gd);\n",
       "            observer.disconnect();\n",
       "        }}\n",
       "}});\n",
       "\n",
       "// Listen for the removal of the full notebook cells\n",
       "var notebookContainer = gd.closest('#notebook-container');\n",
       "if (notebookContainer) {{\n",
       "    x.observe(notebookContainer, {childList: true});\n",
       "}}\n",
       "\n",
       "// Listen for the clearing of the current output cell\n",
       "var outputEl = gd.closest('.output');\n",
       "if (outputEl) {{\n",
       "    x.observe(outputEl, {childList: true});\n",
       "}}\n",
       "\n",
       "                        })                };                });            </script>        </div>"
      ]
     },
     "metadata": {},
     "output_type": "display_data"
    }
   ],
   "source": [
    "df = px.data.tips()\n",
    "fig = px.strip(schools_accr, x='econ_disadv', y='school_type',\n",
    "              color = 'accred',\n",
    "              labels = {'accred':'Accreditation','econ_disadv':'% Economically Disadvantaged Students',\n",
    "                        'school_type':'School Level', 'Accredited':'Fully Accredited'},\n",
    "              color_discrete_sequence = ['gray','red'],\n",
    "              category_orders = {'school_type':['Elementary', 'Middle', 'High']},\n",
    "              orientation = 'v',\n",
    "              stripmode = 'group',\n",
    "              range_x = [0,100],\n",
    "              height = 500,\n",
    "              custom_data = ['school']\n",
    "               \n",
    "              )\n",
    "fig.update_traces(marker={'size': 14, 'opacity':0.5})\n",
    "\n",
    "fig.update_traces(hovertemplate='<span style=\"color:black;font-size:16px\">%{customdata[0]} <br>Economically Disadvantaged: %{x:.0f}%',\n",
    "                        hoverlabel=dict(\n",
    "                        bgcolor = 'lightgray',\n",
    "                        font_size=16,\n",
    "))\n",
    "\n",
    "fig.show()\n"
   ]
  },
  {
   "cell_type": "code",
   "execution_count": 138,
   "id": "402fa8d1",
   "metadata": {},
   "outputs": [],
   "source": [
    "df = px.data.tips()\n",
    "fig = px.strip(schools_accr, x='black', y='school_type',\n",
    "              color = 'accred',\n",
    "              labels = {'accred':'Accreditation','econ_disadv':'% Economically Disadvantaged Students',\n",
    "                        'school_type':'School Level', 'Accredited':'Fully Accredited',\n",
    "                        'black':'% African American Students'},\n",
    "              hover_data = {'accred':False, 'black':':.0f%', 'school_type':False},\n",
    "              color_discrete_sequence = ['gray','red'],\n",
    "              hover_name = 'school',\n",
    "              category_orders = {'school_type':['Elementary', 'Middle', 'High']},\n",
    "              orientation = 'v',\n",
    "              stripmode = 'group',\n",
    "              range_x = [0,100],\n",
    "              height = 500,\n",
    "              custom_data = ['school']\n",
    "               \n",
    "              )\n",
    "fig.update_traces(marker={'size': 14, 'opacity':0.5})\n",
    "\n",
    "fig.update_traces(hovertemplate='<span style=\"color:black;font-size:16px\">%{customdata[0]} <br>Economically Disadvantaged: %{x:.0f}%',\n",
    "                        hoverlabel=dict(\n",
    "                        bgcolor = 'lightgray',\n",
    "                        font_size=16,\n",
    "))\n",
    "\n",
    "fig.write_html('afr_am_strip.html')\n"
   ]
  },
  {
   "cell_type": "code",
   "execution_count": 98,
   "id": "8ae7d369",
   "metadata": {},
   "outputs": [
    {
     "data": {
      "application/vnd.plotly.v1+json": {
       "config": {
        "plotlyServerURL": "https://plot.ly"
       },
       "data": [
        {
         "customdata": [
          [
           "Accredited"
          ],
          [
           "Accredited"
          ],
          [
           "Accredited"
          ],
          [
           "Accredited"
          ],
          [
           "Accredited"
          ],
          [
           "Accredited"
          ],
          [
           "Accredited"
          ],
          [
           "Accredited"
          ],
          [
           "Accredited"
          ],
          [
           "Accredited"
          ],
          [
           "Accredited"
          ],
          [
           "Accredited"
          ],
          [
           "Accredited"
          ],
          [
           "Accredited"
          ],
          [
           "Accredited"
          ]
         ],
         "hovertemplate": "<b>%{hovertext}</b><br><br>% Black Students=%{x}<br>% Economically Disadvantaged Students=%{y}<extra></extra>",
         "hovertext": [
          "Barack Obama Elementary",
          "Broad Rock Elementary",
          "Elizabeth D. Redd Elementary",
          "Fairfield Court Elementary",
          "J.B. Fisher Elementary",
          "J.L. Francis Elementary",
          "John B. Cary Elementary",
          "Linwood Holton Elementary",
          "Mary Munford Elementary",
          "Patrick Henry School Of Science And Arts",
          "Southampton Elementary",
          "William Fox Elementary",
          "Open High",
          "Richmond Career Education and Employment Charter School",
          "Richmond Community High"
         ],
         "legendgroup": "Accredited",
         "marker": {
          "color": "#636efa",
          "opacity": 0.7,
          "size": 12,
          "symbol": "circle"
         },
         "mode": "markers",
         "name": "Accredited",
         "orientation": "v",
         "showlegend": true,
         "type": "scatter",
         "x": [
          null,
          46.2,
          56.6,
          91.6,
          58.3,
          38.8,
          49.8,
          38.1,
          8.5,
          47.6,
          71.3,
          36.8,
          37,
          null,
          57.5
         ],
         "xaxis": "x",
         "y": [
          null,
          74.4,
          74.7,
          96.4,
          48.9,
          72.6,
          54,
          32.9,
          12,
          43.7,
          63,
          43.9,
          37,
          null,
          36.5
         ],
         "yaxis": "y"
        },
        {
         "customdata": [
          [
           "Accredited with Conditions"
          ],
          [
           "Accredited with Conditions"
          ],
          [
           "Accredited with Conditions"
          ],
          [
           "Accredited with Conditions"
          ],
          [
           "Accredited with Conditions"
          ],
          [
           "Accredited with Conditions"
          ],
          [
           "Accredited with Conditions"
          ],
          [
           "Accredited with Conditions"
          ],
          [
           "Accredited with Conditions"
          ],
          [
           "Accredited with Conditions"
          ],
          [
           "Accredited with Conditions"
          ],
          [
           "Accredited with Conditions"
          ],
          [
           "Accredited with Conditions"
          ],
          [
           "Accredited with Conditions"
          ],
          [
           "Accredited with Conditions"
          ],
          [
           "Accredited with Conditions"
          ],
          [
           "Accredited with Conditions"
          ],
          [
           "Accredited with Conditions"
          ],
          [
           "Accredited with Conditions"
          ],
          [
           "Accredited with Conditions"
          ],
          [
           "Accredited with Conditions"
          ],
          [
           "Accredited with Conditions"
          ],
          [
           "Accredited with Conditions"
          ],
          [
           "Accredited with Conditions"
          ],
          [
           "Accredited with Conditions"
          ],
          [
           "Accredited with Conditions"
          ]
         ],
         "hovertemplate": "<b>%{hovertext}</b><br><br>% Black Students=%{x}<br>% Economically Disadvantaged Students=%{y}<extra></extra>",
         "hovertext": [
          "Bellevue Elementary",
          "Blackwell Elementary",
          "Cardinal Elementary",
          "Chimborazo Elementary",
          "G.H. Reid Elementary",
          "George W. Carver Elementary",
          "Ginter Park Elementary",
          "Henry Marsh III Elementary",
          "Miles Jones Elementary",
          "Oak Grove/Bellemeade Elementary",
          "Overby-Sheppard Elementary",
          "Swansboro Elementary",
          "Westover Hills Elementary",
          "Woodville Elementary",
          "Albert Hill Middle",
          "Binford Middle",
          "Henderson Middle",
          "Lucille M. Brown Middle",
          "Martin Luther King Jr. Middle",
          "River City Middle",
          "Thomas C. Boushall Middle",
          "Armstrong High",
          "George Wythe High",
          "Huguenot High",
          "John Marshall High",
          "Thomas Jefferson High"
         ],
         "legendgroup": "Accredited with Conditions",
         "marker": {
          "color": "#EF553B",
          "opacity": 0.7,
          "size": 12,
          "symbol": "circle"
         },
         "mode": "markers",
         "name": "Accredited with Conditions",
         "orientation": "v",
         "showlegend": true,
         "type": "scatter",
         "x": [
          null,
          85.5,
          13.2,
          78.7,
          36.3,
          89.8,
          88.6,
          92.5,
          59.8,
          70.4,
          null,
          77.2,
          null,
          93.6,
          57,
          64.8,
          84.9,
          70.6,
          90.6,
          38.5,
          51.6,
          90.2,
          41.7,
          53.4,
          79.5,
          63.9
         ],
         "xaxis": "x",
         "y": [
          null,
          85.5,
          53.8,
          80.8,
          69.2,
          89.3,
          88.6,
          91.7,
          78.5,
          83.5,
          85.1,
          80.4,
          null,
          95.1,
          62.8,
          65.7,
          79.8,
          71.6,
          93.8,
          67.9,
          75,
          85.4,
          60.1,
          62.8,
          72,
          61.7
         ],
         "yaxis": "y"
        }
       ],
       "layout": {
        "height": 600,
        "legend": {
         "title": {
          "text": "Accreditation"
         },
         "tracegroupgap": 0
        },
        "margin": {
         "t": 60
        },
        "template": {
         "data": {
          "bar": [
           {
            "error_x": {
             "color": "#2a3f5f"
            },
            "error_y": {
             "color": "#2a3f5f"
            },
            "marker": {
             "line": {
              "color": "#E5ECF6",
              "width": 0.5
             },
             "pattern": {
              "fillmode": "overlay",
              "size": 10,
              "solidity": 0.2
             }
            },
            "type": "bar"
           }
          ],
          "barpolar": [
           {
            "marker": {
             "line": {
              "color": "#E5ECF6",
              "width": 0.5
             },
             "pattern": {
              "fillmode": "overlay",
              "size": 10,
              "solidity": 0.2
             }
            },
            "type": "barpolar"
           }
          ],
          "carpet": [
           {
            "aaxis": {
             "endlinecolor": "#2a3f5f",
             "gridcolor": "white",
             "linecolor": "white",
             "minorgridcolor": "white",
             "startlinecolor": "#2a3f5f"
            },
            "baxis": {
             "endlinecolor": "#2a3f5f",
             "gridcolor": "white",
             "linecolor": "white",
             "minorgridcolor": "white",
             "startlinecolor": "#2a3f5f"
            },
            "type": "carpet"
           }
          ],
          "choropleth": [
           {
            "colorbar": {
             "outlinewidth": 0,
             "ticks": ""
            },
            "type": "choropleth"
           }
          ],
          "contour": [
           {
            "colorbar": {
             "outlinewidth": 0,
             "ticks": ""
            },
            "colorscale": [
             [
              0,
              "#0d0887"
             ],
             [
              0.1111111111111111,
              "#46039f"
             ],
             [
              0.2222222222222222,
              "#7201a8"
             ],
             [
              0.3333333333333333,
              "#9c179e"
             ],
             [
              0.4444444444444444,
              "#bd3786"
             ],
             [
              0.5555555555555556,
              "#d8576b"
             ],
             [
              0.6666666666666666,
              "#ed7953"
             ],
             [
              0.7777777777777778,
              "#fb9f3a"
             ],
             [
              0.8888888888888888,
              "#fdca26"
             ],
             [
              1,
              "#f0f921"
             ]
            ],
            "type": "contour"
           }
          ],
          "contourcarpet": [
           {
            "colorbar": {
             "outlinewidth": 0,
             "ticks": ""
            },
            "type": "contourcarpet"
           }
          ],
          "heatmap": [
           {
            "colorbar": {
             "outlinewidth": 0,
             "ticks": ""
            },
            "colorscale": [
             [
              0,
              "#0d0887"
             ],
             [
              0.1111111111111111,
              "#46039f"
             ],
             [
              0.2222222222222222,
              "#7201a8"
             ],
             [
              0.3333333333333333,
              "#9c179e"
             ],
             [
              0.4444444444444444,
              "#bd3786"
             ],
             [
              0.5555555555555556,
              "#d8576b"
             ],
             [
              0.6666666666666666,
              "#ed7953"
             ],
             [
              0.7777777777777778,
              "#fb9f3a"
             ],
             [
              0.8888888888888888,
              "#fdca26"
             ],
             [
              1,
              "#f0f921"
             ]
            ],
            "type": "heatmap"
           }
          ],
          "heatmapgl": [
           {
            "colorbar": {
             "outlinewidth": 0,
             "ticks": ""
            },
            "colorscale": [
             [
              0,
              "#0d0887"
             ],
             [
              0.1111111111111111,
              "#46039f"
             ],
             [
              0.2222222222222222,
              "#7201a8"
             ],
             [
              0.3333333333333333,
              "#9c179e"
             ],
             [
              0.4444444444444444,
              "#bd3786"
             ],
             [
              0.5555555555555556,
              "#d8576b"
             ],
             [
              0.6666666666666666,
              "#ed7953"
             ],
             [
              0.7777777777777778,
              "#fb9f3a"
             ],
             [
              0.8888888888888888,
              "#fdca26"
             ],
             [
              1,
              "#f0f921"
             ]
            ],
            "type": "heatmapgl"
           }
          ],
          "histogram": [
           {
            "marker": {
             "pattern": {
              "fillmode": "overlay",
              "size": 10,
              "solidity": 0.2
             }
            },
            "type": "histogram"
           }
          ],
          "histogram2d": [
           {
            "colorbar": {
             "outlinewidth": 0,
             "ticks": ""
            },
            "colorscale": [
             [
              0,
              "#0d0887"
             ],
             [
              0.1111111111111111,
              "#46039f"
             ],
             [
              0.2222222222222222,
              "#7201a8"
             ],
             [
              0.3333333333333333,
              "#9c179e"
             ],
             [
              0.4444444444444444,
              "#bd3786"
             ],
             [
              0.5555555555555556,
              "#d8576b"
             ],
             [
              0.6666666666666666,
              "#ed7953"
             ],
             [
              0.7777777777777778,
              "#fb9f3a"
             ],
             [
              0.8888888888888888,
              "#fdca26"
             ],
             [
              1,
              "#f0f921"
             ]
            ],
            "type": "histogram2d"
           }
          ],
          "histogram2dcontour": [
           {
            "colorbar": {
             "outlinewidth": 0,
             "ticks": ""
            },
            "colorscale": [
             [
              0,
              "#0d0887"
             ],
             [
              0.1111111111111111,
              "#46039f"
             ],
             [
              0.2222222222222222,
              "#7201a8"
             ],
             [
              0.3333333333333333,
              "#9c179e"
             ],
             [
              0.4444444444444444,
              "#bd3786"
             ],
             [
              0.5555555555555556,
              "#d8576b"
             ],
             [
              0.6666666666666666,
              "#ed7953"
             ],
             [
              0.7777777777777778,
              "#fb9f3a"
             ],
             [
              0.8888888888888888,
              "#fdca26"
             ],
             [
              1,
              "#f0f921"
             ]
            ],
            "type": "histogram2dcontour"
           }
          ],
          "mesh3d": [
           {
            "colorbar": {
             "outlinewidth": 0,
             "ticks": ""
            },
            "type": "mesh3d"
           }
          ],
          "parcoords": [
           {
            "line": {
             "colorbar": {
              "outlinewidth": 0,
              "ticks": ""
             }
            },
            "type": "parcoords"
           }
          ],
          "pie": [
           {
            "automargin": true,
            "type": "pie"
           }
          ],
          "scatter": [
           {
            "fillpattern": {
             "fillmode": "overlay",
             "size": 10,
             "solidity": 0.2
            },
            "type": "scatter"
           }
          ],
          "scatter3d": [
           {
            "line": {
             "colorbar": {
              "outlinewidth": 0,
              "ticks": ""
             }
            },
            "marker": {
             "colorbar": {
              "outlinewidth": 0,
              "ticks": ""
             }
            },
            "type": "scatter3d"
           }
          ],
          "scattercarpet": [
           {
            "marker": {
             "colorbar": {
              "outlinewidth": 0,
              "ticks": ""
             }
            },
            "type": "scattercarpet"
           }
          ],
          "scattergeo": [
           {
            "marker": {
             "colorbar": {
              "outlinewidth": 0,
              "ticks": ""
             }
            },
            "type": "scattergeo"
           }
          ],
          "scattergl": [
           {
            "marker": {
             "colorbar": {
              "outlinewidth": 0,
              "ticks": ""
             }
            },
            "type": "scattergl"
           }
          ],
          "scattermapbox": [
           {
            "marker": {
             "colorbar": {
              "outlinewidth": 0,
              "ticks": ""
             }
            },
            "type": "scattermapbox"
           }
          ],
          "scatterpolar": [
           {
            "marker": {
             "colorbar": {
              "outlinewidth": 0,
              "ticks": ""
             }
            },
            "type": "scatterpolar"
           }
          ],
          "scatterpolargl": [
           {
            "marker": {
             "colorbar": {
              "outlinewidth": 0,
              "ticks": ""
             }
            },
            "type": "scatterpolargl"
           }
          ],
          "scatterternary": [
           {
            "marker": {
             "colorbar": {
              "outlinewidth": 0,
              "ticks": ""
             }
            },
            "type": "scatterternary"
           }
          ],
          "surface": [
           {
            "colorbar": {
             "outlinewidth": 0,
             "ticks": ""
            },
            "colorscale": [
             [
              0,
              "#0d0887"
             ],
             [
              0.1111111111111111,
              "#46039f"
             ],
             [
              0.2222222222222222,
              "#7201a8"
             ],
             [
              0.3333333333333333,
              "#9c179e"
             ],
             [
              0.4444444444444444,
              "#bd3786"
             ],
             [
              0.5555555555555556,
              "#d8576b"
             ],
             [
              0.6666666666666666,
              "#ed7953"
             ],
             [
              0.7777777777777778,
              "#fb9f3a"
             ],
             [
              0.8888888888888888,
              "#fdca26"
             ],
             [
              1,
              "#f0f921"
             ]
            ],
            "type": "surface"
           }
          ],
          "table": [
           {
            "cells": {
             "fill": {
              "color": "#EBF0F8"
             },
             "line": {
              "color": "white"
             }
            },
            "header": {
             "fill": {
              "color": "#C8D4E3"
             },
             "line": {
              "color": "white"
             }
            },
            "type": "table"
           }
          ]
         },
         "layout": {
          "annotationdefaults": {
           "arrowcolor": "#2a3f5f",
           "arrowhead": 0,
           "arrowwidth": 1
          },
          "autotypenumbers": "strict",
          "coloraxis": {
           "colorbar": {
            "outlinewidth": 0,
            "ticks": ""
           }
          },
          "colorscale": {
           "diverging": [
            [
             0,
             "#8e0152"
            ],
            [
             0.1,
             "#c51b7d"
            ],
            [
             0.2,
             "#de77ae"
            ],
            [
             0.3,
             "#f1b6da"
            ],
            [
             0.4,
             "#fde0ef"
            ],
            [
             0.5,
             "#f7f7f7"
            ],
            [
             0.6,
             "#e6f5d0"
            ],
            [
             0.7,
             "#b8e186"
            ],
            [
             0.8,
             "#7fbc41"
            ],
            [
             0.9,
             "#4d9221"
            ],
            [
             1,
             "#276419"
            ]
           ],
           "sequential": [
            [
             0,
             "#0d0887"
            ],
            [
             0.1111111111111111,
             "#46039f"
            ],
            [
             0.2222222222222222,
             "#7201a8"
            ],
            [
             0.3333333333333333,
             "#9c179e"
            ],
            [
             0.4444444444444444,
             "#bd3786"
            ],
            [
             0.5555555555555556,
             "#d8576b"
            ],
            [
             0.6666666666666666,
             "#ed7953"
            ],
            [
             0.7777777777777778,
             "#fb9f3a"
            ],
            [
             0.8888888888888888,
             "#fdca26"
            ],
            [
             1,
             "#f0f921"
            ]
           ],
           "sequentialminus": [
            [
             0,
             "#0d0887"
            ],
            [
             0.1111111111111111,
             "#46039f"
            ],
            [
             0.2222222222222222,
             "#7201a8"
            ],
            [
             0.3333333333333333,
             "#9c179e"
            ],
            [
             0.4444444444444444,
             "#bd3786"
            ],
            [
             0.5555555555555556,
             "#d8576b"
            ],
            [
             0.6666666666666666,
             "#ed7953"
            ],
            [
             0.7777777777777778,
             "#fb9f3a"
            ],
            [
             0.8888888888888888,
             "#fdca26"
            ],
            [
             1,
             "#f0f921"
            ]
           ]
          },
          "colorway": [
           "#636efa",
           "#EF553B",
           "#00cc96",
           "#ab63fa",
           "#FFA15A",
           "#19d3f3",
           "#FF6692",
           "#B6E880",
           "#FF97FF",
           "#FECB52"
          ],
          "font": {
           "color": "#2a3f5f"
          },
          "geo": {
           "bgcolor": "white",
           "lakecolor": "white",
           "landcolor": "#E5ECF6",
           "showlakes": true,
           "showland": true,
           "subunitcolor": "white"
          },
          "hoverlabel": {
           "align": "left"
          },
          "hovermode": "closest",
          "mapbox": {
           "style": "light"
          },
          "paper_bgcolor": "white",
          "plot_bgcolor": "#E5ECF6",
          "polar": {
           "angularaxis": {
            "gridcolor": "white",
            "linecolor": "white",
            "ticks": ""
           },
           "bgcolor": "#E5ECF6",
           "radialaxis": {
            "gridcolor": "white",
            "linecolor": "white",
            "ticks": ""
           }
          },
          "scene": {
           "xaxis": {
            "backgroundcolor": "#E5ECF6",
            "gridcolor": "white",
            "gridwidth": 2,
            "linecolor": "white",
            "showbackground": true,
            "ticks": "",
            "zerolinecolor": "white"
           },
           "yaxis": {
            "backgroundcolor": "#E5ECF6",
            "gridcolor": "white",
            "gridwidth": 2,
            "linecolor": "white",
            "showbackground": true,
            "ticks": "",
            "zerolinecolor": "white"
           },
           "zaxis": {
            "backgroundcolor": "#E5ECF6",
            "gridcolor": "white",
            "gridwidth": 2,
            "linecolor": "white",
            "showbackground": true,
            "ticks": "",
            "zerolinecolor": "white"
           }
          },
          "shapedefaults": {
           "line": {
            "color": "#2a3f5f"
           }
          },
          "ternary": {
           "aaxis": {
            "gridcolor": "white",
            "linecolor": "white",
            "ticks": ""
           },
           "baxis": {
            "gridcolor": "white",
            "linecolor": "white",
            "ticks": ""
           },
           "bgcolor": "#E5ECF6",
           "caxis": {
            "gridcolor": "white",
            "linecolor": "white",
            "ticks": ""
           }
          },
          "title": {
           "x": 0.05
          },
          "xaxis": {
           "automargin": true,
           "gridcolor": "white",
           "linecolor": "white",
           "ticks": "",
           "title": {
            "standoff": 15
           },
           "zerolinecolor": "white",
           "zerolinewidth": 2
          },
          "yaxis": {
           "automargin": true,
           "gridcolor": "white",
           "linecolor": "white",
           "ticks": "",
           "title": {
            "standoff": 15
           },
           "zerolinecolor": "white",
           "zerolinewidth": 2
          }
         }
        },
        "xaxis": {
         "anchor": "y",
         "domain": [
          0,
          1
         ],
         "title": {
          "text": "% Black Students"
         }
        },
        "yaxis": {
         "anchor": "x",
         "domain": [
          0,
          1
         ],
         "title": {
          "text": "% Economically Disadvantaged Students"
         }
        }
       }
      },
      "text/html": [
       "<div>                            <div id=\"a9f147a4-8020-4666-8e40-9a95916adb85\" class=\"plotly-graph-div\" style=\"height:600px; width:100%;\"></div>            <script type=\"text/javascript\">                require([\"plotly\"], function(Plotly) {                    window.PLOTLYENV=window.PLOTLYENV || {};                                    if (document.getElementById(\"a9f147a4-8020-4666-8e40-9a95916adb85\")) {                    Plotly.newPlot(                        \"a9f147a4-8020-4666-8e40-9a95916adb85\",                        [{\"customdata\":[[\"Accredited\"],[\"Accredited\"],[\"Accredited\"],[\"Accredited\"],[\"Accredited\"],[\"Accredited\"],[\"Accredited\"],[\"Accredited\"],[\"Accredited\"],[\"Accredited\"],[\"Accredited\"],[\"Accredited\"],[\"Accredited\"],[\"Accredited\"],[\"Accredited\"]],\"hovertemplate\":\"<b>%{hovertext}</b><br><br>% Black Students=%{x}<br>% Economically Disadvantaged Students=%{y}<extra></extra>\",\"hovertext\":[\"Barack Obama Elementary\",\"Broad Rock Elementary\",\"Elizabeth D. Redd Elementary\",\"Fairfield Court Elementary\",\"J.B. Fisher Elementary\",\"J.L. Francis Elementary\",\"John B. Cary Elementary\",\"Linwood Holton Elementary\",\"Mary Munford Elementary\",\"Patrick Henry School Of Science And Arts\",\"Southampton Elementary\",\"William Fox Elementary\",\"Open High\",\"Richmond Career Education and Employment Charter School\",\"Richmond Community High\"],\"legendgroup\":\"Accredited\",\"marker\":{\"color\":\"#636efa\",\"symbol\":\"circle\",\"opacity\":0.7,\"size\":12},\"mode\":\"markers\",\"name\":\"Accredited\",\"orientation\":\"v\",\"showlegend\":true,\"x\":[null,46.2,56.6,91.6,58.3,38.8,49.8,38.1,8.5,47.6,71.3,36.8,37.0,null,57.5],\"xaxis\":\"x\",\"y\":[null,74.4,74.7,96.4,48.9,72.6,54.0,32.9,12.0,43.7,63.0,43.9,37.0,null,36.5],\"yaxis\":\"y\",\"type\":\"scatter\"},{\"customdata\":[[\"Accredited with Conditions\"],[\"Accredited with Conditions\"],[\"Accredited with Conditions\"],[\"Accredited with Conditions\"],[\"Accredited with Conditions\"],[\"Accredited with Conditions\"],[\"Accredited with Conditions\"],[\"Accredited with Conditions\"],[\"Accredited with Conditions\"],[\"Accredited with Conditions\"],[\"Accredited with Conditions\"],[\"Accredited with Conditions\"],[\"Accredited with Conditions\"],[\"Accredited with Conditions\"],[\"Accredited with Conditions\"],[\"Accredited with Conditions\"],[\"Accredited with Conditions\"],[\"Accredited with Conditions\"],[\"Accredited with Conditions\"],[\"Accredited with Conditions\"],[\"Accredited with Conditions\"],[\"Accredited with Conditions\"],[\"Accredited with Conditions\"],[\"Accredited with Conditions\"],[\"Accredited with Conditions\"],[\"Accredited with Conditions\"]],\"hovertemplate\":\"<b>%{hovertext}</b><br><br>% Black Students=%{x}<br>% Economically Disadvantaged Students=%{y}<extra></extra>\",\"hovertext\":[\"Bellevue Elementary\",\"Blackwell Elementary\",\"Cardinal Elementary\",\"Chimborazo Elementary\",\"G.H. Reid Elementary\",\"George W. Carver Elementary\",\"Ginter Park Elementary\",\"Henry Marsh III Elementary\",\"Miles Jones Elementary\",\"Oak Grove/Bellemeade Elementary\",\"Overby-Sheppard Elementary\",\"Swansboro Elementary\",\"Westover Hills Elementary\",\"Woodville Elementary\",\"Albert Hill Middle\",\"Binford Middle\",\"Henderson Middle\",\"Lucille M. Brown Middle\",\"Martin Luther King Jr. Middle\",\"River City Middle\",\"Thomas C. Boushall Middle\",\"Armstrong High\",\"George Wythe High\",\"Huguenot High\",\"John Marshall High\",\"Thomas Jefferson High\"],\"legendgroup\":\"Accredited with Conditions\",\"marker\":{\"color\":\"#EF553B\",\"symbol\":\"circle\",\"opacity\":0.7,\"size\":12},\"mode\":\"markers\",\"name\":\"Accredited with Conditions\",\"orientation\":\"v\",\"showlegend\":true,\"x\":[null,85.5,13.2,78.7,36.3,89.8,88.6,92.5,59.8,70.4,null,77.2,null,93.6,57.0,64.8,84.9,70.6,90.6,38.5,51.6,90.2,41.7,53.4,79.5,63.9],\"xaxis\":\"x\",\"y\":[null,85.5,53.8,80.8,69.2,89.3,88.6,91.7,78.5,83.5,85.1,80.4,null,95.1,62.8,65.7,79.8,71.6,93.8,67.9,75.0,85.4,60.1,62.8,72.0,61.7],\"yaxis\":\"y\",\"type\":\"scatter\"}],                        {\"template\":{\"data\":{\"histogram2dcontour\":[{\"type\":\"histogram2dcontour\",\"colorbar\":{\"outlinewidth\":0,\"ticks\":\"\"},\"colorscale\":[[0.0,\"#0d0887\"],[0.1111111111111111,\"#46039f\"],[0.2222222222222222,\"#7201a8\"],[0.3333333333333333,\"#9c179e\"],[0.4444444444444444,\"#bd3786\"],[0.5555555555555556,\"#d8576b\"],[0.6666666666666666,\"#ed7953\"],[0.7777777777777778,\"#fb9f3a\"],[0.8888888888888888,\"#fdca26\"],[1.0,\"#f0f921\"]]}],\"choropleth\":[{\"type\":\"choropleth\",\"colorbar\":{\"outlinewidth\":0,\"ticks\":\"\"}}],\"histogram2d\":[{\"type\":\"histogram2d\",\"colorbar\":{\"outlinewidth\":0,\"ticks\":\"\"},\"colorscale\":[[0.0,\"#0d0887\"],[0.1111111111111111,\"#46039f\"],[0.2222222222222222,\"#7201a8\"],[0.3333333333333333,\"#9c179e\"],[0.4444444444444444,\"#bd3786\"],[0.5555555555555556,\"#d8576b\"],[0.6666666666666666,\"#ed7953\"],[0.7777777777777778,\"#fb9f3a\"],[0.8888888888888888,\"#fdca26\"],[1.0,\"#f0f921\"]]}],\"heatmap\":[{\"type\":\"heatmap\",\"colorbar\":{\"outlinewidth\":0,\"ticks\":\"\"},\"colorscale\":[[0.0,\"#0d0887\"],[0.1111111111111111,\"#46039f\"],[0.2222222222222222,\"#7201a8\"],[0.3333333333333333,\"#9c179e\"],[0.4444444444444444,\"#bd3786\"],[0.5555555555555556,\"#d8576b\"],[0.6666666666666666,\"#ed7953\"],[0.7777777777777778,\"#fb9f3a\"],[0.8888888888888888,\"#fdca26\"],[1.0,\"#f0f921\"]]}],\"heatmapgl\":[{\"type\":\"heatmapgl\",\"colorbar\":{\"outlinewidth\":0,\"ticks\":\"\"},\"colorscale\":[[0.0,\"#0d0887\"],[0.1111111111111111,\"#46039f\"],[0.2222222222222222,\"#7201a8\"],[0.3333333333333333,\"#9c179e\"],[0.4444444444444444,\"#bd3786\"],[0.5555555555555556,\"#d8576b\"],[0.6666666666666666,\"#ed7953\"],[0.7777777777777778,\"#fb9f3a\"],[0.8888888888888888,\"#fdca26\"],[1.0,\"#f0f921\"]]}],\"contourcarpet\":[{\"type\":\"contourcarpet\",\"colorbar\":{\"outlinewidth\":0,\"ticks\":\"\"}}],\"contour\":[{\"type\":\"contour\",\"colorbar\":{\"outlinewidth\":0,\"ticks\":\"\"},\"colorscale\":[[0.0,\"#0d0887\"],[0.1111111111111111,\"#46039f\"],[0.2222222222222222,\"#7201a8\"],[0.3333333333333333,\"#9c179e\"],[0.4444444444444444,\"#bd3786\"],[0.5555555555555556,\"#d8576b\"],[0.6666666666666666,\"#ed7953\"],[0.7777777777777778,\"#fb9f3a\"],[0.8888888888888888,\"#fdca26\"],[1.0,\"#f0f921\"]]}],\"surface\":[{\"type\":\"surface\",\"colorbar\":{\"outlinewidth\":0,\"ticks\":\"\"},\"colorscale\":[[0.0,\"#0d0887\"],[0.1111111111111111,\"#46039f\"],[0.2222222222222222,\"#7201a8\"],[0.3333333333333333,\"#9c179e\"],[0.4444444444444444,\"#bd3786\"],[0.5555555555555556,\"#d8576b\"],[0.6666666666666666,\"#ed7953\"],[0.7777777777777778,\"#fb9f3a\"],[0.8888888888888888,\"#fdca26\"],[1.0,\"#f0f921\"]]}],\"mesh3d\":[{\"type\":\"mesh3d\",\"colorbar\":{\"outlinewidth\":0,\"ticks\":\"\"}}],\"scatter\":[{\"fillpattern\":{\"fillmode\":\"overlay\",\"size\":10,\"solidity\":0.2},\"type\":\"scatter\"}],\"parcoords\":[{\"type\":\"parcoords\",\"line\":{\"colorbar\":{\"outlinewidth\":0,\"ticks\":\"\"}}}],\"scatterpolargl\":[{\"type\":\"scatterpolargl\",\"marker\":{\"colorbar\":{\"outlinewidth\":0,\"ticks\":\"\"}}}],\"bar\":[{\"error_x\":{\"color\":\"#2a3f5f\"},\"error_y\":{\"color\":\"#2a3f5f\"},\"marker\":{\"line\":{\"color\":\"#E5ECF6\",\"width\":0.5},\"pattern\":{\"fillmode\":\"overlay\",\"size\":10,\"solidity\":0.2}},\"type\":\"bar\"}],\"scattergeo\":[{\"type\":\"scattergeo\",\"marker\":{\"colorbar\":{\"outlinewidth\":0,\"ticks\":\"\"}}}],\"scatterpolar\":[{\"type\":\"scatterpolar\",\"marker\":{\"colorbar\":{\"outlinewidth\":0,\"ticks\":\"\"}}}],\"histogram\":[{\"marker\":{\"pattern\":{\"fillmode\":\"overlay\",\"size\":10,\"solidity\":0.2}},\"type\":\"histogram\"}],\"scattergl\":[{\"type\":\"scattergl\",\"marker\":{\"colorbar\":{\"outlinewidth\":0,\"ticks\":\"\"}}}],\"scatter3d\":[{\"type\":\"scatter3d\",\"line\":{\"colorbar\":{\"outlinewidth\":0,\"ticks\":\"\"}},\"marker\":{\"colorbar\":{\"outlinewidth\":0,\"ticks\":\"\"}}}],\"scattermapbox\":[{\"type\":\"scattermapbox\",\"marker\":{\"colorbar\":{\"outlinewidth\":0,\"ticks\":\"\"}}}],\"scatterternary\":[{\"type\":\"scatterternary\",\"marker\":{\"colorbar\":{\"outlinewidth\":0,\"ticks\":\"\"}}}],\"scattercarpet\":[{\"type\":\"scattercarpet\",\"marker\":{\"colorbar\":{\"outlinewidth\":0,\"ticks\":\"\"}}}],\"carpet\":[{\"aaxis\":{\"endlinecolor\":\"#2a3f5f\",\"gridcolor\":\"white\",\"linecolor\":\"white\",\"minorgridcolor\":\"white\",\"startlinecolor\":\"#2a3f5f\"},\"baxis\":{\"endlinecolor\":\"#2a3f5f\",\"gridcolor\":\"white\",\"linecolor\":\"white\",\"minorgridcolor\":\"white\",\"startlinecolor\":\"#2a3f5f\"},\"type\":\"carpet\"}],\"table\":[{\"cells\":{\"fill\":{\"color\":\"#EBF0F8\"},\"line\":{\"color\":\"white\"}},\"header\":{\"fill\":{\"color\":\"#C8D4E3\"},\"line\":{\"color\":\"white\"}},\"type\":\"table\"}],\"barpolar\":[{\"marker\":{\"line\":{\"color\":\"#E5ECF6\",\"width\":0.5},\"pattern\":{\"fillmode\":\"overlay\",\"size\":10,\"solidity\":0.2}},\"type\":\"barpolar\"}],\"pie\":[{\"automargin\":true,\"type\":\"pie\"}]},\"layout\":{\"autotypenumbers\":\"strict\",\"colorway\":[\"#636efa\",\"#EF553B\",\"#00cc96\",\"#ab63fa\",\"#FFA15A\",\"#19d3f3\",\"#FF6692\",\"#B6E880\",\"#FF97FF\",\"#FECB52\"],\"font\":{\"color\":\"#2a3f5f\"},\"hovermode\":\"closest\",\"hoverlabel\":{\"align\":\"left\"},\"paper_bgcolor\":\"white\",\"plot_bgcolor\":\"#E5ECF6\",\"polar\":{\"bgcolor\":\"#E5ECF6\",\"angularaxis\":{\"gridcolor\":\"white\",\"linecolor\":\"white\",\"ticks\":\"\"},\"radialaxis\":{\"gridcolor\":\"white\",\"linecolor\":\"white\",\"ticks\":\"\"}},\"ternary\":{\"bgcolor\":\"#E5ECF6\",\"aaxis\":{\"gridcolor\":\"white\",\"linecolor\":\"white\",\"ticks\":\"\"},\"baxis\":{\"gridcolor\":\"white\",\"linecolor\":\"white\",\"ticks\":\"\"},\"caxis\":{\"gridcolor\":\"white\",\"linecolor\":\"white\",\"ticks\":\"\"}},\"coloraxis\":{\"colorbar\":{\"outlinewidth\":0,\"ticks\":\"\"}},\"colorscale\":{\"sequential\":[[0.0,\"#0d0887\"],[0.1111111111111111,\"#46039f\"],[0.2222222222222222,\"#7201a8\"],[0.3333333333333333,\"#9c179e\"],[0.4444444444444444,\"#bd3786\"],[0.5555555555555556,\"#d8576b\"],[0.6666666666666666,\"#ed7953\"],[0.7777777777777778,\"#fb9f3a\"],[0.8888888888888888,\"#fdca26\"],[1.0,\"#f0f921\"]],\"sequentialminus\":[[0.0,\"#0d0887\"],[0.1111111111111111,\"#46039f\"],[0.2222222222222222,\"#7201a8\"],[0.3333333333333333,\"#9c179e\"],[0.4444444444444444,\"#bd3786\"],[0.5555555555555556,\"#d8576b\"],[0.6666666666666666,\"#ed7953\"],[0.7777777777777778,\"#fb9f3a\"],[0.8888888888888888,\"#fdca26\"],[1.0,\"#f0f921\"]],\"diverging\":[[0,\"#8e0152\"],[0.1,\"#c51b7d\"],[0.2,\"#de77ae\"],[0.3,\"#f1b6da\"],[0.4,\"#fde0ef\"],[0.5,\"#f7f7f7\"],[0.6,\"#e6f5d0\"],[0.7,\"#b8e186\"],[0.8,\"#7fbc41\"],[0.9,\"#4d9221\"],[1,\"#276419\"]]},\"xaxis\":{\"gridcolor\":\"white\",\"linecolor\":\"white\",\"ticks\":\"\",\"title\":{\"standoff\":15},\"zerolinecolor\":\"white\",\"automargin\":true,\"zerolinewidth\":2},\"yaxis\":{\"gridcolor\":\"white\",\"linecolor\":\"white\",\"ticks\":\"\",\"title\":{\"standoff\":15},\"zerolinecolor\":\"white\",\"automargin\":true,\"zerolinewidth\":2},\"scene\":{\"xaxis\":{\"backgroundcolor\":\"#E5ECF6\",\"gridcolor\":\"white\",\"linecolor\":\"white\",\"showbackground\":true,\"ticks\":\"\",\"zerolinecolor\":\"white\",\"gridwidth\":2},\"yaxis\":{\"backgroundcolor\":\"#E5ECF6\",\"gridcolor\":\"white\",\"linecolor\":\"white\",\"showbackground\":true,\"ticks\":\"\",\"zerolinecolor\":\"white\",\"gridwidth\":2},\"zaxis\":{\"backgroundcolor\":\"#E5ECF6\",\"gridcolor\":\"white\",\"linecolor\":\"white\",\"showbackground\":true,\"ticks\":\"\",\"zerolinecolor\":\"white\",\"gridwidth\":2}},\"shapedefaults\":{\"line\":{\"color\":\"#2a3f5f\"}},\"annotationdefaults\":{\"arrowcolor\":\"#2a3f5f\",\"arrowhead\":0,\"arrowwidth\":1},\"geo\":{\"bgcolor\":\"white\",\"landcolor\":\"#E5ECF6\",\"subunitcolor\":\"white\",\"showland\":true,\"showlakes\":true,\"lakecolor\":\"white\"},\"title\":{\"x\":0.05},\"mapbox\":{\"style\":\"light\"}}},\"xaxis\":{\"anchor\":\"y\",\"domain\":[0.0,1.0],\"title\":{\"text\":\"% Black Students\"}},\"yaxis\":{\"anchor\":\"x\",\"domain\":[0.0,1.0],\"title\":{\"text\":\"% Economically Disadvantaged Students\"}},\"legend\":{\"title\":{\"text\":\"Accreditation\"},\"tracegroupgap\":0},\"margin\":{\"t\":60},\"height\":600},                        {\"responsive\": true}                    ).then(function(){\n",
       "                            \n",
       "var gd = document.getElementById('a9f147a4-8020-4666-8e40-9a95916adb85');\n",
       "var x = new MutationObserver(function (mutations, observer) {{\n",
       "        var display = window.getComputedStyle(gd).display;\n",
       "        if (!display || display === 'none') {{\n",
       "            console.log([gd, 'removed!']);\n",
       "            Plotly.purge(gd);\n",
       "            observer.disconnect();\n",
       "        }}\n",
       "}});\n",
       "\n",
       "// Listen for the removal of the full notebook cells\n",
       "var notebookContainer = gd.closest('#notebook-container');\n",
       "if (notebookContainer) {{\n",
       "    x.observe(notebookContainer, {childList: true});\n",
       "}}\n",
       "\n",
       "// Listen for the clearing of the current output cell\n",
       "var outputEl = gd.closest('.output');\n",
       "if (outputEl) {{\n",
       "    x.observe(outputEl, {childList: true});\n",
       "}}\n",
       "\n",
       "                        })                };                });            </script>        </div>"
      ]
     },
     "metadata": {},
     "output_type": "display_data"
    }
   ],
   "source": [
    "fig = px.scatter(schools_accr, x='black', y='econ_disadv',\n",
    "                 hover_name='school', \n",
    "                 color = 'accred',\n",
    "                 labels = {'accred':'Accreditation','black':'% Black Students', 'econ_disadv':'% Economically Disadvantaged Students'},\n",
    "                 hover_data = {'accred':False},\n",
    "                 height = 600)\n",
    "fig.update_traces(marker={'size': 12, 'opacity':0.7})\n",
    "#fig.update_traces(marker = {'symbol': 'hexagon'},\n",
    " #                selector = {'schooL_type':'Elementary'})\n",
    "\n",
    "fig.write_image('scatter.png')\n",
    "fig.write_html('scatter.html')\n",
    "fig.show()"
   ]
  },
  {
   "cell_type": "code",
   "execution_count": 16,
   "id": "f76f0b6f",
   "metadata": {},
   "outputs": [
    {
     "data": {
      "image/png": "[encoded data removed]",
      "text/plain": [
       "<Waffle size 432x288 with 1 Axes>"
      ]
     },
     "metadata": {
      "needs_background": "light"
     },
     "output_type": "display_data"
    }
   ],
   "source": [
    "fig = plt.figure(\n",
    "    FigureClass=Waffle,\n",
    "    rows=5,\n",
    "    columns=10,  # Either rows or columns could be omitted\n",
    "    values=[30, 16, 4]  # Pass a list of integers to values\n",
    ")\n",
    "fig.savefig(\"plot.png\", bbox_inches=\"tight\")\n"
   ]
  },
  {
   "cell_type": "code",
   "execution_count": 59,
   "id": "186a0ece",
   "metadata": {},
   "outputs": [
    {
     "ename": "KeyError",
     "evalue": "'school'",
     "output_type": "error",
     "traceback": [
      "\u001b[1;31m---------------------------------------------------------------------------\u001b[0m",
      "\u001b[1;31mKeyError\u001b[0m                                  Traceback (most recent call last)",
      "\u001b[1;32m<ipython-input-59-90d0d9552736>\u001b[0m in \u001b[0;36m<module>\u001b[1;34m\u001b[0m\n\u001b[1;32m----> 1\u001b[1;33m waffle = plt.figure(\n\u001b[0m\u001b[0;32m      2\u001b[0m     \u001b[0mFigureClass\u001b[0m\u001b[1;33m=\u001b[0m\u001b[0mWaffle\u001b[0m\u001b[1;33m,\u001b[0m\u001b[1;33m\u001b[0m\u001b[1;33m\u001b[0m\u001b[0m\n\u001b[0;32m      3\u001b[0m     \u001b[0mrows\u001b[0m\u001b[1;33m=\u001b[0m\u001b[1;36m4\u001b[0m\u001b[1;33m,\u001b[0m\u001b[1;33m\u001b[0m\u001b[1;33m\u001b[0m\u001b[0m\n\u001b[0;32m      4\u001b[0m     \u001b[0mcolumns\u001b[0m\u001b[1;33m=\u001b[0m\u001b[1;36m11\u001b[0m\u001b[1;33m,\u001b[0m\u001b[1;33m\u001b[0m\u001b[1;33m\u001b[0m\u001b[0m\n\u001b[0;32m      5\u001b[0m     \u001b[0mvalues\u001b[0m\u001b[1;33m=\u001b[0m\u001b[0mschools_accr\u001b[0m\u001b[1;33m[\u001b[0m\u001b[1;34m'accred'\u001b[0m\u001b[1;33m]\u001b[0m\u001b[1;33m.\u001b[0m\u001b[0mvalue_counts\u001b[0m\u001b[1;33m(\u001b[0m\u001b[1;33m)\u001b[0m\u001b[1;33m,\u001b[0m\u001b[1;33m\u001b[0m\u001b[1;33m\u001b[0m\u001b[0m\n",
      "\u001b[1;32m~\\Anaconda\\lib\\site-packages\\matplotlib\\pyplot.py\u001b[0m in \u001b[0;36mfigure\u001b[1;34m(num, figsize, dpi, facecolor, edgecolor, frameon, FigureClass, clear, **kwargs)\u001b[0m\n\u001b[0;32m    685\u001b[0m             \u001b[0mdpi\u001b[0m \u001b[1;33m=\u001b[0m \u001b[1;36m72\u001b[0m\u001b[1;33m\u001b[0m\u001b[1;33m\u001b[0m\u001b[0m\n\u001b[0;32m    686\u001b[0m \u001b[1;33m\u001b[0m\u001b[0m\n\u001b[1;32m--> 687\u001b[1;33m         figManager = new_figure_manager(num, figsize=figsize,\n\u001b[0m\u001b[0;32m    688\u001b[0m                                         \u001b[0mdpi\u001b[0m\u001b[1;33m=\u001b[0m\u001b[0mdpi\u001b[0m\u001b[1;33m,\u001b[0m\u001b[1;33m\u001b[0m\u001b[1;33m\u001b[0m\u001b[0m\n\u001b[0;32m    689\u001b[0m                                         \u001b[0mfacecolor\u001b[0m\u001b[1;33m=\u001b[0m\u001b[0mfacecolor\u001b[0m\u001b[1;33m,\u001b[0m\u001b[1;33m\u001b[0m\u001b[1;33m\u001b[0m\u001b[0m\n",
      "\u001b[1;32m~\\Anaconda\\lib\\site-packages\\matplotlib\\pyplot.py\u001b[0m in \u001b[0;36mnew_figure_manager\u001b[1;34m(*args, **kwargs)\u001b[0m\n\u001b[0;32m    313\u001b[0m     \u001b[1;34m\"\"\"Create a new figure manager instance.\"\"\"\u001b[0m\u001b[1;33m\u001b[0m\u001b[1;33m\u001b[0m\u001b[0m\n\u001b[0;32m    314\u001b[0m     \u001b[0m_warn_if_gui_out_of_main_thread\u001b[0m\u001b[1;33m(\u001b[0m\u001b[1;33m)\u001b[0m\u001b[1;33m\u001b[0m\u001b[1;33m\u001b[0m\u001b[0m\n\u001b[1;32m--> 315\u001b[1;33m     \u001b[1;32mreturn\u001b[0m \u001b[0m_backend_mod\u001b[0m\u001b[1;33m.\u001b[0m\u001b[0mnew_figure_manager\u001b[0m\u001b[1;33m(\u001b[0m\u001b[1;33m*\u001b[0m\u001b[0margs\u001b[0m\u001b[1;33m,\u001b[0m \u001b[1;33m**\u001b[0m\u001b[0mkwargs\u001b[0m\u001b[1;33m)\u001b[0m\u001b[1;33m\u001b[0m\u001b[1;33m\u001b[0m\u001b[0m\n\u001b[0m\u001b[0;32m    316\u001b[0m \u001b[1;33m\u001b[0m\u001b[0m\n\u001b[0;32m    317\u001b[0m \u001b[1;33m\u001b[0m\u001b[0m\n",
      "\u001b[1;32m~\\Anaconda\\lib\\site-packages\\matplotlib\\backend_bases.py\u001b[0m in \u001b[0;36mnew_figure_manager\u001b[1;34m(cls, num, *args, **kwargs)\u001b[0m\n\u001b[0;32m   3491\u001b[0m         \u001b[1;32mfrom\u001b[0m \u001b[0mmatplotlib\u001b[0m\u001b[1;33m.\u001b[0m\u001b[0mfigure\u001b[0m \u001b[1;32mimport\u001b[0m \u001b[0mFigure\u001b[0m\u001b[1;33m\u001b[0m\u001b[1;33m\u001b[0m\u001b[0m\n\u001b[0;32m   3492\u001b[0m         \u001b[0mfig_cls\u001b[0m \u001b[1;33m=\u001b[0m \u001b[0mkwargs\u001b[0m\u001b[1;33m.\u001b[0m\u001b[0mpop\u001b[0m\u001b[1;33m(\u001b[0m\u001b[1;34m'FigureClass'\u001b[0m\u001b[1;33m,\u001b[0m \u001b[0mFigure\u001b[0m\u001b[1;33m)\u001b[0m\u001b[1;33m\u001b[0m\u001b[1;33m\u001b[0m\u001b[0m\n\u001b[1;32m-> 3493\u001b[1;33m         \u001b[0mfig\u001b[0m \u001b[1;33m=\u001b[0m \u001b[0mfig_cls\u001b[0m\u001b[1;33m(\u001b[0m\u001b[1;33m*\u001b[0m\u001b[0margs\u001b[0m\u001b[1;33m,\u001b[0m \u001b[1;33m**\u001b[0m\u001b[0mkwargs\u001b[0m\u001b[1;33m)\u001b[0m\u001b[1;33m\u001b[0m\u001b[1;33m\u001b[0m\u001b[0m\n\u001b[0m\u001b[0;32m   3494\u001b[0m         \u001b[1;32mreturn\u001b[0m \u001b[0mcls\u001b[0m\u001b[1;33m.\u001b[0m\u001b[0mnew_figure_manager_given_figure\u001b[0m\u001b[1;33m(\u001b[0m\u001b[0mnum\u001b[0m\u001b[1;33m,\u001b[0m \u001b[0mfig\u001b[0m\u001b[1;33m)\u001b[0m\u001b[1;33m\u001b[0m\u001b[1;33m\u001b[0m\u001b[0m\n\u001b[0;32m   3495\u001b[0m \u001b[1;33m\u001b[0m\u001b[0m\n",
      "\u001b[1;32m~\\Anaconda\\lib\\site-packages\\pywaffle\\waffle.py\u001b[0m in \u001b[0;36m__init__\u001b[1;34m(self, *args, **kwargs)\u001b[0m\n\u001b[0;32m    278\u001b[0m                 \u001b[1;32mraise\u001b[0m \u001b[0mTypeError\u001b[0m\u001b[1;33m(\u001b[0m\u001b[1;34m\"Subplot position should be tuple, int, or string.\"\u001b[0m\u001b[1;33m)\u001b[0m\u001b[1;33m\u001b[0m\u001b[1;33m\u001b[0m\u001b[0m\n\u001b[0;32m    279\u001b[0m \u001b[1;33m\u001b[0m\u001b[0m\n\u001b[1;32m--> 280\u001b[1;33m             \u001b[0mself\u001b[0m\u001b[1;33m.\u001b[0m\u001b[0m_make_single_waffle\u001b[0m\u001b[1;33m(\u001b[0m\u001b[0max\u001b[0m\u001b[1;33m=\u001b[0m\u001b[0max\u001b[0m\u001b[1;33m,\u001b[0m \u001b[0mfig_args\u001b[0m\u001b[1;33m=\u001b[0m\u001b[0mself\u001b[0m\u001b[1;33m.\u001b[0m\u001b[0mfig_args\u001b[0m\u001b[1;33m,\u001b[0m \u001b[0mplot_args\u001b[0m\u001b[1;33m=\u001b[0m\u001b[0mplot_args\u001b[0m\u001b[1;33m)\u001b[0m\u001b[1;33m\u001b[0m\u001b[1;33m\u001b[0m\u001b[0m\n\u001b[0m\u001b[0;32m    281\u001b[0m \u001b[1;33m\u001b[0m\u001b[0m\n\u001b[0;32m    282\u001b[0m         \u001b[1;31m# Adjust the layout\u001b[0m\u001b[1;33m\u001b[0m\u001b[1;33m\u001b[0m\u001b[1;33m\u001b[0m\u001b[0m\n",
      "\u001b[1;32m~\\Anaconda\\lib\\site-packages\\pywaffle\\waffle.py\u001b[0m in \u001b[0;36m_make_single_waffle\u001b[1;34m(self, ax, plot_args, fig_args)\u001b[0m\n\u001b[0;32m    512\u001b[0m \u001b[1;33m\u001b[0m\u001b[0m\n\u001b[0;32m    513\u001b[0m             \u001b[1;31m# Replace icon name with Unicode symbols in parameter icons\u001b[0m\u001b[1;33m\u001b[0m\u001b[1;33m\u001b[0m\u001b[1;33m\u001b[0m\u001b[0m\n\u001b[1;32m--> 514\u001b[1;33m             _pa[\"icons\"] = [\n\u001b[0m\u001b[0;32m    515\u001b[0m                 \u001b[0micons\u001b[0m\u001b[1;33m[\u001b[0m\u001b[0micon_style\u001b[0m\u001b[1;33m]\u001b[0m\u001b[1;33m[\u001b[0m\u001b[0micon_name\u001b[0m\u001b[1;33m]\u001b[0m\u001b[1;33m\u001b[0m\u001b[1;33m\u001b[0m\u001b[0m\n\u001b[0;32m    516\u001b[0m                 \u001b[1;32mfor\u001b[0m \u001b[0micon_name\u001b[0m\u001b[1;33m,\u001b[0m \u001b[0micon_style\u001b[0m \u001b[1;32min\u001b[0m \u001b[0mzip\u001b[0m\u001b[1;33m(\u001b[0m\u001b[0m_pa\u001b[0m\u001b[1;33m[\u001b[0m\u001b[1;34m\"icons\"\u001b[0m\u001b[1;33m]\u001b[0m\u001b[1;33m,\u001b[0m \u001b[0m_pa\u001b[0m\u001b[1;33m[\u001b[0m\u001b[1;34m\"icon_style\"\u001b[0m\u001b[1;33m]\u001b[0m\u001b[1;33m)\u001b[0m\u001b[1;33m\u001b[0m\u001b[1;33m\u001b[0m\u001b[0m\n",
      "\u001b[1;32m~\\Anaconda\\lib\\site-packages\\pywaffle\\waffle.py\u001b[0m in \u001b[0;36m<listcomp>\u001b[1;34m(.0)\u001b[0m\n\u001b[0;32m    513\u001b[0m             \u001b[1;31m# Replace icon name with Unicode symbols in parameter icons\u001b[0m\u001b[1;33m\u001b[0m\u001b[1;33m\u001b[0m\u001b[1;33m\u001b[0m\u001b[0m\n\u001b[0;32m    514\u001b[0m             _pa[\"icons\"] = [\n\u001b[1;32m--> 515\u001b[1;33m                 \u001b[0micons\u001b[0m\u001b[1;33m[\u001b[0m\u001b[0micon_style\u001b[0m\u001b[1;33m]\u001b[0m\u001b[1;33m[\u001b[0m\u001b[0micon_name\u001b[0m\u001b[1;33m]\u001b[0m\u001b[1;33m\u001b[0m\u001b[1;33m\u001b[0m\u001b[0m\n\u001b[0m\u001b[0;32m    516\u001b[0m                 \u001b[1;32mfor\u001b[0m \u001b[0micon_name\u001b[0m\u001b[1;33m,\u001b[0m \u001b[0micon_style\u001b[0m \u001b[1;32min\u001b[0m \u001b[0mzip\u001b[0m\u001b[1;33m(\u001b[0m\u001b[0m_pa\u001b[0m\u001b[1;33m[\u001b[0m\u001b[1;34m\"icons\"\u001b[0m\u001b[1;33m]\u001b[0m\u001b[1;33m,\u001b[0m \u001b[0m_pa\u001b[0m\u001b[1;33m[\u001b[0m\u001b[1;34m\"icon_style\"\u001b[0m\u001b[1;33m]\u001b[0m\u001b[1;33m)\u001b[0m\u001b[1;33m\u001b[0m\u001b[1;33m\u001b[0m\u001b[0m\n\u001b[0;32m    517\u001b[0m             ]\n",
      "\u001b[1;31mKeyError\u001b[0m: 'school'"
     ]
    }
   ],
   "source": [
    "waffle = plt.figure(\n",
    "    FigureClass=Waffle,\n",
    "    rows=4,\n",
    "    columns=11,\n",
    "    values=schools_accr['accred'].value_counts(),\n",
    "    legend={\n",
    "        'labels': ['Accredited with Conditions', 'Fully Accredited'], \n",
    "        'loc': 'upper left', \n",
    "        'bbox_to_anchor': (1, 1)},\n",
    "    icons=['school', 'school'],\n",
    "    icon_size=20,\n",
    "    icon_style=['regular', 'solid'],\n",
    "\n",
    ")\n",
    "waffle"
   ]
  },
  {
   "cell_type": "code",
   "execution_count": 28,
   "id": "eaeb226c",
   "metadata": {},
   "outputs": [
    {
     "data": {
      "text/plain": [
       "Accredited with Conditions    28\n",
       "Accredited                    16\n",
       "Name: accred, dtype: int64"
      ]
     },
     "execution_count": 28,
     "metadata": {},
     "output_type": "execute_result"
    }
   ],
   "source": [
    "schools_accr['accred'].value_counts()"
   ]
  },
  {
   "cell_type": "code",
   "execution_count": 34,
   "id": "408fd84b",
   "metadata": {},
   "outputs": [],
   "source": [
    "hi = list(schools_accr['accred'].index)"
   ]
  },
  {
   "cell_type": "code",
   "execution_count": null,
   "id": "70a54af1",
   "metadata": {},
   "outputs": [],
   "source": []
  }
 ],
 "metadata": {
  "kernelspec": {
   "display_name": "Python 3",
   "language": "python",
   "name": "python3"
  },
  "language_info": {
   "codemirror_mode": {
    "name": "ipython",
    "version": 3
   },
   "file_extension": ".py",
   "mimetype": "text/x-python",
   "name": "python",
   "nbconvert_exporter": "python",
   "pygments_lexer": "ipython3",
   "version": "3.8.8"
  }
 },
 "nbformat": 4,
 "nbformat_minor": 5
}
